{
  "nbformat": 4,
  "nbformat_minor": 0,
  "metadata": {
    "colab": {
      "name": "MNIST.ipynb",
      "provenance": [],
      "collapsed_sections": [],
      "authorship_tag": "ABX9TyObWQeeinAG9Zc7MRnBr7BJ",
      "include_colab_link": true
    },
    "kernelspec": {
      "name": "python3",
      "display_name": "Python 3"
    }
  },
  "cells": [
    {
      "cell_type": "markdown",
      "metadata": {
        "id": "view-in-github",
        "colab_type": "text"
      },
      "source": [
        "<a href=\"https://colab.research.google.com/github/deethereal/MNIST/blob/main/MNIST.ipynb\" target=\"_parent\"><img src=\"https://colab.research.google.com/assets/colab-badge.svg\" alt=\"Open In Colab\"/></a>"
      ]
    },
    {
      "cell_type": "code",
      "metadata": {
        "id": "b7LfsIwcsLDC"
      },
      "source": [
        "import sys, numpy as np, matplotlib.pyplot as plt\n",
        "from keras.datasets import mnist\n",
        "(x_train,y_train),(x_test,y_test)=mnist.load_data()"
      ],
      "execution_count": 97,
      "outputs": []
    },
    {
      "cell_type": "code",
      "metadata": {
        "id": "I7z_Zx23Li7Q"
      },
      "source": [
        "from skimage.io import imread,imshow\n"
      ],
      "execution_count": 3,
      "outputs": []
    },
    {
      "cell_type": "markdown",
      "metadata": {
        "id": "gKYFZvOucnJC"
      },
      "source": [
        "**Cтохастический градиентный спуск**"
      ]
    },
    {
      "cell_type": "code",
      "metadata": {
        "id": "slZ8fFqQsNTS",
        "colab": {
          "base_uri": "https://localhost:8080/"
        },
        "outputId": "43cf91b5-1468-428e-9f22-73b65014d0de"
      },
      "source": [
        "COUNT=1500\n",
        "images, labels=(x_train[0:COUNT].reshape(COUNT,28*28)/255,y_train[0:COUNT])\n",
        "#one_hot_labels=np.eye((len(labels),10))\n",
        "one_hot_labels=np.zeros((len(labels),10))\n",
        "for i,l in enumerate(labels):\n",
        "  one_hot_labels[i][l]=1\n",
        "labels=one_hot_labels\n",
        "print(len(images)/100)\n",
        "\n",
        "test_images=(x_test.reshape((len(x_test),28*28))/255)\n",
        "test_labels= np.zeros((len(y_test),10))\n",
        "for i,l in enumerate(y_test):\n",
        "  test_labels[i][l]=1\n",
        "\n",
        "\n",
        "relu=lambda x: (x>=0)*x\n",
        "relu2div=lambda x: (x>=0)"
      ],
      "execution_count": 81,
      "outputs": [
        {
          "output_type": "stream",
          "text": [
            "15.0\n"
          ],
          "name": "stdout"
        }
      ]
    },
    {
      "cell_type": "code",
      "metadata": {
        "colab": {
          "base_uri": "https://localhost:8080/",
          "height": 1000
        },
        "id": "wnuqHYtmc7r1",
        "outputId": "9d6b259f-baf4-4ec3-dde3-84f0e653a042"
      },
      "source": [
        "\n",
        "learning_rate, niter, hidden_size, pix_per_img, num_labels = (0.005,800,40,784,10)\n",
        "W01=0.2*np.random.random((pix_per_img,hidden_size)) - 0.1\n",
        "W12=0.2*np.random.random((hidden_size,num_labels)) - 0.1\n",
        "\n",
        "for j in range(niter):\n",
        "  error,correct_cnt=(0.0,0)\n",
        "  #print(error)\n",
        "  for i in range(len(images)):\n",
        "    l0=images[i:i+1]\n",
        "    l1=relu(np.dot(l0,W01))\n",
        "    drop_out_mask=np.random.randint(2,size=l1.shape) #распределение бернули: выключеаем 50% нейронов\n",
        "    l1*=drop_out_mask*2\n",
        "    l2=np.dot(l1,W12)\n",
        "    \n",
        "    error += np.sum((labels[i:i+1]-l2)**2)\n",
        "    correct_cnt+= int(np.argmax(l2)==np.argmax(labels[i:i+1]))\n",
        "\n",
        "    delta_l2=labels[i:i+1]-l2\n",
        "    delta_l1=delta_l2.dot(W12.T)*relu2div(l1)\n",
        "    delta_l1*=drop_out_mask\n",
        "\n",
        "    W12+=learning_rate*l1.T.dot(delta_l2)\n",
        "    W01+=learning_rate*l0.T.dot(delta_l1)\n",
        "  if (j%10==0 or j==niter-1):\n",
        "    test_error=0\n",
        "    test_correct_cnt=0\n",
        "    for i in range(len(test_images)):\n",
        "      l0=test_images[i:i+1]\n",
        "      l1=relu(np.dot(l0,W01))\n",
        "      l2=np.dot(l1,W12)\n",
        "      test_error+=np.sum((test_labels[i:i+1]-l2)**2)\n",
        "      test_correct_cnt+=int(np.argmax(test_labels[i:i+1])==np.argmax(l2))\n",
        "    print('iter: {} test_err: {} test_acc: {} train_err: {} train_acc: {}'.format(j,test_error/float(len(test_images)),test_correct_cnt/float(len(test_images)),error/float(len(labels)),correct_cnt/float(len(labels))   ))    \n",
        "    "
      ],
      "execution_count": 82,
      "outputs": [
        {
          "output_type": "stream",
          "text": [
            "iter: 0 test_err: 0.6903867899836954 test_acc: 0.5993 train_err: 0.8660902036993522 train_acc: 0.332\n",
            "iter: 10 test_err: 0.445102945554163 test_acc: 0.8052 train_err: 0.5560670790166157 train_acc: 0.67\n",
            "iter: 20 test_err: 0.42085540886036976 test_acc: 0.822 train_err: 0.5188248859023128 train_acc: 0.694\n",
            "iter: 30 test_err: 0.41031569589169914 test_acc: 0.8282 train_err: 0.510760149980612 train_acc: 0.72\n",
            "iter: 40 test_err: 0.40589908905657324 test_acc: 0.8265 train_err: 0.4756324574972218 train_acc: 0.7346666666666667\n",
            "iter: 50 test_err: 0.4111284512989212 test_acc: 0.8119 train_err: 0.4943963764909432 train_acc: 0.7526666666666667\n",
            "iter: 60 test_err: 0.3938186033584459 test_acc: 0.8133 train_err: 0.4853545224154136 train_acc: 0.7393333333333333\n",
            "iter: 70 test_err: 0.4026658037507635 test_acc: 0.8154 train_err: 0.47776132937247456 train_acc: 0.7453333333333333\n",
            "iter: 80 test_err: 0.4053747470461341 test_acc: 0.8145 train_err: 0.48218144863706347 train_acc: 0.746\n",
            "iter: 90 test_err: 0.4039041845005816 test_acc: 0.8092 train_err: 0.4833320098495681 train_acc: 0.7493333333333333\n",
            "iter: 100 test_err: 0.3928683000450222 test_acc: 0.8204 train_err: 0.48310824635964716 train_acc: 0.7433333333333333\n",
            "iter: 110 test_err: 0.40327891485330736 test_acc: 0.8118 train_err: 0.47037652845289646 train_acc: 0.7486666666666667\n",
            "iter: 120 test_err: 0.3954260927022674 test_acc: 0.8167 train_err: 0.4638774650401805 train_acc: 0.7573333333333333\n",
            "iter: 130 test_err: 0.40007032248116725 test_acc: 0.8173 train_err: 0.4460343721413902 train_acc: 0.7793333333333333\n",
            "iter: 140 test_err: 0.3912124151144865 test_acc: 0.8159 train_err: 0.44116158021157503 train_acc: 0.7693333333333333\n",
            "iter: 150 test_err: 0.4295002038637957 test_acc: 0.7829 train_err: 0.4792412570996232 train_acc: 0.76\n",
            "iter: 160 test_err: 0.3874362340414946 test_acc: 0.8105 train_err: 0.4547444157078235 train_acc: 0.7713333333333333\n",
            "iter: 170 test_err: 0.38246950663065465 test_acc: 0.8162 train_err: 0.46266154318420977 train_acc: 0.7653333333333333\n",
            "iter: 180 test_err: 0.3891102209507453 test_acc: 0.8138 train_err: 0.45238078486785616 train_acc: 0.7746666666666666\n",
            "iter: 190 test_err: 0.40016306615704245 test_acc: 0.8086 train_err: 0.4581692871339273 train_acc: 0.7793333333333333\n",
            "iter: 200 test_err: 0.3823412122346674 test_acc: 0.8157 train_err: 0.4354457249740551 train_acc: 0.7993333333333333\n",
            "iter: 210 test_err: 0.37962306526731726 test_acc: 0.8147 train_err: 0.43720012928080865 train_acc: 0.7993333333333333\n",
            "iter: 220 test_err: 0.3752014368661481 test_acc: 0.8128 train_err: 0.43884639434576084 train_acc: 0.7806666666666666\n",
            "iter: 230 test_err: 0.3841855404791415 test_acc: 0.8208 train_err: 0.417310286412679 train_acc: 0.7986666666666666\n",
            "iter: 240 test_err: 0.37320278950126307 test_acc: 0.8129 train_err: 0.4329769941973198 train_acc: 0.8\n",
            "iter: 250 test_err: 0.3959837239434638 test_acc: 0.8103 train_err: 0.43288586585666994 train_acc: 0.7913333333333333\n",
            "iter: 260 test_err: 0.384706365940466 test_acc: 0.8185 train_err: 0.42298569955276877 train_acc: 0.7946666666666666\n",
            "iter: 270 test_err: 0.3868818600349423 test_acc: 0.8154 train_err: 0.42499631764030393 train_acc: 0.7986666666666666\n",
            "iter: 280 test_err: 0.3737914760382238 test_acc: 0.8251 train_err: 0.43725149229463217 train_acc: 0.7826666666666666\n",
            "iter: 290 test_err: 0.37721678714733664 test_acc: 0.8207 train_err: 0.4507927395249227 train_acc: 0.756\n",
            "iter: 300 test_err: 0.3831695424542229 test_acc: 0.817 train_err: 0.43106209816037167 train_acc: 0.7926666666666666\n",
            "iter: 310 test_err: 0.3752223588610116 test_acc: 0.82 train_err: 0.4296777353285152 train_acc: 0.79\n",
            "iter: 320 test_err: 0.3879088274794738 test_acc: 0.817 train_err: 0.4292638404235657 train_acc: 0.794\n",
            "iter: 330 test_err: 0.4138835899316103 test_acc: 0.8103 train_err: 0.4214167679290784 train_acc: 0.7906666666666666\n",
            "iter: 340 test_err: 0.3942112977647678 test_acc: 0.819 train_err: 0.4203494122764954 train_acc: 0.7993333333333333\n",
            "iter: 350 test_err: 0.38289764773396134 test_acc: 0.8156 train_err: 0.4196894563831639 train_acc: 0.808\n",
            "iter: 360 test_err: 0.39089575635526924 test_acc: 0.8185 train_err: 0.4197721375146178 train_acc: 0.8173333333333334\n",
            "iter: 370 test_err: 0.380244129507525 test_acc: 0.8206 train_err: 0.4066025597691182 train_acc: 0.8093333333333333\n",
            "iter: 380 test_err: 0.4087300263164355 test_acc: 0.8148 train_err: 0.41279736600815453 train_acc: 0.8233333333333334\n",
            "iter: 390 test_err: 0.37928607743498016 test_acc: 0.8245 train_err: 0.41371890935654393 train_acc: 0.8006666666666666\n",
            "iter: 400 test_err: 0.3861159778923942 test_acc: 0.8131 train_err: 0.41731349818734725 train_acc: 0.8093333333333333\n",
            "iter: 410 test_err: 0.3864863293300392 test_acc: 0.8173 train_err: 0.4048047011471125 train_acc: 0.8113333333333334\n",
            "iter: 420 test_err: 0.3744363964118459 test_acc: 0.8207 train_err: 0.4069845600003681 train_acc: 0.8093333333333333\n",
            "iter: 430 test_err: 0.38299552822379773 test_acc: 0.8231 train_err: 0.41850977195461064 train_acc: 0.8066666666666666\n",
            "iter: 440 test_err: 0.38373723860519465 test_acc: 0.8172 train_err: 0.4180495625350754 train_acc: 0.8066666666666666\n",
            "iter: 450 test_err: 0.3778869829971834 test_acc: 0.8172 train_err: 0.40487890118933834 train_acc: 0.808\n",
            "iter: 460 test_err: 0.38349266100577367 test_acc: 0.8149 train_err: 0.4138402967131782 train_acc: 0.8146666666666667\n",
            "iter: 470 test_err: 0.3841496936165699 test_acc: 0.8209 train_err: 0.41021748365818206 train_acc: 0.804\n",
            "iter: 480 test_err: 0.3818352305659708 test_acc: 0.8216 train_err: 0.41008330412085403 train_acc: 0.8026666666666666\n",
            "iter: 490 test_err: 0.3893661473305217 test_acc: 0.8136 train_err: 0.39737294269750806 train_acc: 0.8233333333333334\n",
            "iter: 500 test_err: 0.3796262967184234 test_acc: 0.8151 train_err: 0.39185406427103303 train_acc: 0.83\n",
            "iter: 510 test_err: 0.3937318033897402 test_acc: 0.8177 train_err: 0.40086046055242514 train_acc: 0.8253333333333334\n"
          ],
          "name": "stdout"
        },
        {
          "output_type": "error",
          "ename": "KeyboardInterrupt",
          "evalue": "ignored",
          "traceback": [
            "\u001b[0;31m---------------------------------------------------------------------------\u001b[0m",
            "\u001b[0;31mKeyboardInterrupt\u001b[0m                         Traceback (most recent call last)",
            "\u001b[0;32m<ipython-input-82-7f6ffaa96a86>\u001b[0m in \u001b[0;36m<module>\u001b[0;34m()\u001b[0m\n\u001b[1;32m      9\u001b[0m   \u001b[0;32mfor\u001b[0m \u001b[0mi\u001b[0m \u001b[0;32min\u001b[0m \u001b[0mrange\u001b[0m\u001b[0;34m(\u001b[0m\u001b[0mlen\u001b[0m\u001b[0;34m(\u001b[0m\u001b[0mimages\u001b[0m\u001b[0;34m)\u001b[0m\u001b[0;34m)\u001b[0m\u001b[0;34m:\u001b[0m\u001b[0;34m\u001b[0m\u001b[0;34m\u001b[0m\u001b[0m\n\u001b[1;32m     10\u001b[0m     \u001b[0ml0\u001b[0m\u001b[0;34m=\u001b[0m\u001b[0mimages\u001b[0m\u001b[0;34m[\u001b[0m\u001b[0mi\u001b[0m\u001b[0;34m:\u001b[0m\u001b[0mi\u001b[0m\u001b[0;34m+\u001b[0m\u001b[0;36m1\u001b[0m\u001b[0;34m]\u001b[0m\u001b[0;34m\u001b[0m\u001b[0;34m\u001b[0m\u001b[0m\n\u001b[0;32m---> 11\u001b[0;31m     \u001b[0ml1\u001b[0m\u001b[0;34m=\u001b[0m\u001b[0mrelu\u001b[0m\u001b[0;34m(\u001b[0m\u001b[0mnp\u001b[0m\u001b[0;34m.\u001b[0m\u001b[0mdot\u001b[0m\u001b[0;34m(\u001b[0m\u001b[0ml0\u001b[0m\u001b[0;34m,\u001b[0m\u001b[0mW01\u001b[0m\u001b[0;34m)\u001b[0m\u001b[0;34m)\u001b[0m\u001b[0;34m\u001b[0m\u001b[0;34m\u001b[0m\u001b[0m\n\u001b[0m\u001b[1;32m     12\u001b[0m     \u001b[0mdrop_out_mask\u001b[0m\u001b[0;34m=\u001b[0m\u001b[0mnp\u001b[0m\u001b[0;34m.\u001b[0m\u001b[0mrandom\u001b[0m\u001b[0;34m.\u001b[0m\u001b[0mrandint\u001b[0m\u001b[0;34m(\u001b[0m\u001b[0;36m2\u001b[0m\u001b[0;34m,\u001b[0m\u001b[0msize\u001b[0m\u001b[0;34m=\u001b[0m\u001b[0ml1\u001b[0m\u001b[0;34m.\u001b[0m\u001b[0mshape\u001b[0m\u001b[0;34m)\u001b[0m \u001b[0;31m#распределение бернули: выключеаем 50% нейронов\u001b[0m\u001b[0;34m\u001b[0m\u001b[0;34m\u001b[0m\u001b[0m\n\u001b[1;32m     13\u001b[0m     \u001b[0ml1\u001b[0m\u001b[0;34m*=\u001b[0m\u001b[0mdrop_out_mask\u001b[0m\u001b[0;34m*\u001b[0m\u001b[0;36m2\u001b[0m\u001b[0;34m\u001b[0m\u001b[0;34m\u001b[0m\u001b[0m\n",
            "\u001b[0;32m<__array_function__ internals>\u001b[0m in \u001b[0;36mdot\u001b[0;34m(*args, **kwargs)\u001b[0m\n",
            "\u001b[0;31mKeyboardInterrupt\u001b[0m: "
          ]
        }
      ]
    },
    {
      "cell_type": "code",
      "metadata": {
        "colab": {
          "base_uri": "https://localhost:8080/",
          "height": 314
        },
        "id": "LlKni4kgL7gi",
        "outputId": "81eac68e-d242-4cdc-eb31-31265d0675ae"
      },
      "source": [
        "ix=np.random.randint(len(x_test))\n",
        "imshow(x_test[ix])"
      ],
      "execution_count": null,
      "outputs": [
        {
          "output_type": "execute_result",
          "data": {
            "text/plain": [
              "<matplotlib.image.AxesImage at 0x7f6a6c5526a0>"
            ]
          },
          "metadata": {
            "tags": []
          },
          "execution_count": 104
        },
        {
          "output_type": "display_data",
          "data": {
            "image/png": "[encoded data removed]",
            "text/plain": [
              "<Figure size 432x288 with 1 Axes>"
            ]
          },
          "metadata": {
            "tags": [],
            "needs_background": "light"
          }
        }
      ]
    },
    {
      "cell_type": "code",
      "metadata": {
        "colab": {
          "base_uri": "https://localhost:8080/"
        },
        "id": "EtV_CUawNr2J",
        "outputId": "98bf2a63-6b75-43ad-c249-f0a99a436cc6"
      },
      "source": [
        "inpt=x_test[ix].reshape(28*28)/255\n",
        "pred=np.dot(relu(np.dot(inpt,W01)),W12)\n",
        "print(np.argmax(pred))"
      ],
      "execution_count": null,
      "outputs": [
        {
          "output_type": "stream",
          "text": [
            "1\n"
          ],
          "name": "stdout"
        }
      ]
    },
    {
      "cell_type": "markdown",
      "metadata": {
        "id": "iEM8BF7GcwVB"
      },
      "source": [
        "**Пакетный градиентный спуск** "
      ]
    },
    {
      "cell_type": "code",
      "metadata": {
        "colab": {
          "base_uri": "https://localhost:8080/"
        },
        "id": "_HtJdSOMUcbW",
        "outputId": "24a63a1b-c94c-4507-e305-2089be9964c2"
      },
      "source": [
        "np.random.seed(1)\n",
        "batch_size=75\n",
        "learning_rate, niter= (0.1,300)\n",
        "hidden_size, pix_per_img, num_labels = (100,784,10)\n",
        "W01=0.2*np.random.random((pix_per_img,hidden_size)) - 0.1\n",
        "W12=0.2*np.random.random((hidden_size,num_labels)) - 0.1\n",
        "for j in range(niter):\n",
        "  error, correct_cnt=(0.0,0)\n",
        "  for i in range(int(len(images)/batch_size)):\n",
        "    batch_start, batch_end= i*batch_size, (i+1)*batch_size\n",
        "\n",
        "    l0=images[batch_start:batch_end]\n",
        "    l1=relu(np.dot(l0,W01))\n",
        "    dropout_mask=np.random.randint(2,size=l1.shape)\n",
        "    l1*=dropout_mask*2\n",
        "    l2=np.dot(l1,W12)\n",
        "\n",
        "    error+=np.sum((labels[batch_start:batch_end]-l2)**2)\n",
        "    for k in range(batch_size):\n",
        "      correct_cnt+=int(np.argmax(l2[k:k+1])==np.argmax(labels[batch_start+k:batch_start+k+1]))\n",
        "    l2_delta=(labels[batch_start:batch_end]-l2)/(batch_size)\n",
        "\n",
        "\n",
        "    l1_delta=l2_delta.dot(W12.T)*relu2div(l1)\n",
        "    l1_delta*=dropout_mask\n",
        "\n",
        "    W12+=learning_rate*l1.T.dot(l2_delta)\n",
        "    W01+=learning_rate*l0.T.dot(l1_delta)\n",
        "  if (j%10==0 or j==niter-1):\n",
        "    test_error=0\n",
        "    test_correct_cnt=0\n",
        "    for i in range(len(test_images)):\n",
        "      l0=test_images[i:i+1]\n",
        "      l1=relu(np.dot(l0,W01))\n",
        "      l2=np.dot(l1,W12)\n",
        "      test_error+=np.sum((test_labels[i:i+1]-l2)**2)\n",
        "      test_correct_cnt+=int(np.argmax(test_labels[i:i+1])==np.argmax(l2))\n",
        "    print('iter: {} test_err: {} test_acc: {} train_err: {} train_acc: {}'.format(j,test_error/float(len(test_images)),test_correct_cnt/float(len(test_images)),error/float(len(labels)),correct_cnt/(float(len(labels)))   ))   \n"
      ],
      "execution_count": 83,
      "outputs": [
        {
          "output_type": "stream",
          "text": [
            "iter: 0 test_err: 0.7278960367357099 test_acc: 0.5226 train_err: 1.0925478466072518 train_acc: 0.24133333333333334\n",
            "iter: 10 test_err: 0.49345430083069375 test_acc: 0.7745 train_err: 0.5487339130271487 train_acc: 0.7133333333333334\n",
            "iter: 20 test_err: 0.4340764917700484 test_acc: 0.8098 train_err: 0.4882984841680627 train_acc: 0.748\n",
            "iter: 30 test_err: 0.41211949383458457 test_acc: 0.8103 train_err: 0.4681544042483485 train_acc: 0.786\n",
            "iter: 40 test_err: 0.40165922960461575 test_acc: 0.8145 train_err: 0.4428957364507865 train_acc: 0.7933333333333333\n",
            "iter: 50 test_err: 0.396620226510431 test_acc: 0.8149 train_err: 0.44280889357562025 train_acc: 0.7993333333333333\n",
            "iter: 60 test_err: 0.40216992821679687 test_acc: 0.8128 train_err: 0.44690615134721756 train_acc: 0.7906666666666666\n",
            "iter: 70 test_err: 0.3993624691772126 test_acc: 0.8118 train_err: 0.4375411378624929 train_acc: 0.816\n",
            "iter: 80 test_err: 0.38961590433373744 test_acc: 0.8198 train_err: 0.42819225609418854 train_acc: 0.804\n",
            "iter: 90 test_err: 0.3909554947986973 test_acc: 0.8228 train_err: 0.4410343326485425 train_acc: 0.804\n",
            "iter: 100 test_err: 0.3848302941979555 test_acc: 0.8262 train_err: 0.41436752042126024 train_acc: 0.8146666666666667\n",
            "iter: 110 test_err: 0.3871782944990366 test_acc: 0.8273 train_err: 0.434394693982601 train_acc: 0.7946666666666666\n",
            "iter: 120 test_err: 0.38777458288494954 test_acc: 0.8295 train_err: 0.4167855918887641 train_acc: 0.8153333333333334\n",
            "iter: 130 test_err: 0.3824572246889258 test_acc: 0.8286 train_err: 0.4200428826265496 train_acc: 0.82\n",
            "iter: 140 test_err: 0.38545576901296086 test_acc: 0.828 train_err: 0.41091122207656927 train_acc: 0.8186666666666667\n",
            "iter: 150 test_err: 0.3870885818301919 test_acc: 0.8313 train_err: 0.4139521355632577 train_acc: 0.814\n",
            "iter: 160 test_err: 0.38451696420008047 test_acc: 0.825 train_err: 0.40885808705561705 train_acc: 0.8173333333333334\n",
            "iter: 170 test_err: 0.3851754060297842 test_acc: 0.832 train_err: 0.40240263730128456 train_acc: 0.8206666666666667\n",
            "iter: 180 test_err: 0.37872134051906836 test_acc: 0.8329 train_err: 0.3968164966013676 train_acc: 0.8366666666666667\n",
            "iter: 190 test_err: 0.37865239577777077 test_acc: 0.8279 train_err: 0.3868368489532626 train_acc: 0.838\n",
            "iter: 200 test_err: 0.3775525713970091 test_acc: 0.829 train_err: 0.39390638783163495 train_acc: 0.832\n",
            "iter: 210 test_err: 0.3787580213931177 test_acc: 0.8298 train_err: 0.40611652382123914 train_acc: 0.8373333333333334\n",
            "iter: 220 test_err: 0.3808989905738269 test_acc: 0.8299 train_err: 0.3998611422177181 train_acc: 0.8426666666666667\n",
            "iter: 230 test_err: 0.38052327011816345 test_acc: 0.8283 train_err: 0.38875378774124275 train_acc: 0.8353333333333334\n",
            "iter: 240 test_err: 0.3781179401702225 test_acc: 0.8335 train_err: 0.39741518875527787 train_acc: 0.8226666666666667\n",
            "iter: 250 test_err: 0.37362342728919173 test_acc: 0.8284 train_err: 0.3918417287578853 train_acc: 0.8366666666666667\n",
            "iter: 260 test_err: 0.3706012351787456 test_acc: 0.8307 train_err: 0.38018521448088494 train_acc: 0.8406666666666667\n",
            "iter: 270 test_err: 0.3754127138158681 test_acc: 0.8367 train_err: 0.39159687948812477 train_acc: 0.8313333333333334\n",
            "iter: 280 test_err: 0.37193032956966576 test_acc: 0.8314 train_err: 0.38696074015865783 train_acc: 0.838\n",
            "iter: 290 test_err: 0.3690480817690614 test_acc: 0.8317 train_err: 0.3834117829406113 train_acc: 0.846\n",
            "iter: 299 test_err: 0.37002385905552987 test_acc: 0.8306 train_err: 0.3820341609840347 train_acc: 0.8393333333333334\n"
          ],
          "name": "stdout"
        }
      ]
    },
    {
      "cell_type": "code",
      "metadata": {
        "colab": {
          "base_uri": "https://localhost:8080/",
          "height": 314
        },
        "id": "dpHT8_Ajh6BN",
        "outputId": "9498cc58-253b-484c-b6d6-e7885913cee0"
      },
      "source": [
        "ix=np.random.randint(len(x_test))\n",
        "imshow(x_test[ix])"
      ],
      "execution_count": 51,
      "outputs": [
        {
          "output_type": "execute_result",
          "data": {
            "text/plain": [
              "<matplotlib.image.AxesImage at 0x7feaf244e5f8>"
            ]
          },
          "metadata": {
            "tags": []
          },
          "execution_count": 51
        },
        {
          "output_type": "display_data",
          "data": {
            "image/png": "[encoded data removed]",
            "text/plain": [
              "<Figure size 432x288 with 1 Axes>"
            ]
          },
          "metadata": {
            "tags": [],
            "needs_background": "light"
          }
        }
      ]
    },
    {
      "cell_type": "code",
      "metadata": {
        "colab": {
          "base_uri": "https://localhost:8080/"
        },
        "id": "-jYBK_gHh80z",
        "outputId": "6b74eba3-076d-402f-cfb3-3db1d105d646"
      },
      "source": [
        "inpt=x_test[ix].reshape(28*28)/255\n",
        "pred=np.dot(relu(np.dot(inpt,W01)),W12)\n",
        "print(np.argmax(pred))"
      ],
      "execution_count": 52,
      "outputs": [
        {
          "output_type": "stream",
          "text": [
            "2\n"
          ],
          "name": "stdout"
        }
      ]
    },
    {
      "cell_type": "markdown",
      "metadata": {
        "id": "vmykNPD5W6Bc"
      },
      "source": [
        "**Улучшаем пакетного градинетного спуска**\n"
      ]
    },
    {
      "cell_type": "code",
      "metadata": {
        "id": "aBrTnvP1Y6s2"
      },
      "source": [
        "def tanh(x):\n",
        "  return np.tanh(x)\n",
        "def div_tanh(x):\n",
        "  return 1-(x**2)\n",
        "def softmax(x):\n",
        "  temp=np.exp(x)\n",
        "  return temp/np.sum(temp,axis=1,keepdims=True)"
      ],
      "execution_count": 4,
      "outputs": []
    },
    {
      "cell_type": "code",
      "metadata": {
        "colab": {
          "base_uri": "https://localhost:8080/"
        },
        "id": "En0qqLTyl307",
        "outputId": "66ca2822-ff60-4232-dd1d-d1d129e113cd"
      },
      "source": [
        "print(labels[15])"
      ],
      "execution_count": 58,
      "outputs": [
        {
          "output_type": "stream",
          "text": [
            "[0. 0. 0. 0. 0. 0. 0. 1. 0. 0.]\n"
          ],
          "name": "stdout"
        }
      ]
    },
    {
      "cell_type": "code",
      "metadata": {
        "colab": {
          "base_uri": "https://localhost:8080/"
        },
        "id": "ptrtwhoZW5TT",
        "outputId": "8151a7a1-9988-46b5-94fc-460ebf879a4c"
      },
      "source": [
        "\n",
        "batch_size=75\n",
        "learning_rate, niter= (2.0,301)\n",
        "hidden_size, pix_per_img, num_labels = (100,784,10)\n",
        "\n",
        "W01=0.02*np.random.random((pix_per_img,hidden_size)) - 0.01\n",
        "W12=0.2*np.random.random((hidden_size,num_labels)) - 0.1\n",
        "\n",
        "for j in range(niter):\n",
        "  correct_cnt=0\n",
        "  for i in range((len(images/batch_size))//batch_size):\n",
        "    batch_start,batch_end=(i*batch_size,(i+1)*batch_size)\n",
        "    l0=images[batch_start:batch_end]\n",
        "    l1=tanh(np.dot(l0,W01))\n",
        "    drop_out_mask=np.random.randint(2,size=l1.shape) #распределение бернули: выключеаем 50% нейронов\n",
        "    l1*=drop_out_mask*2\n",
        "    l2=softmax(np.dot(l1,W12))\n",
        "    #print(l2)\n",
        "    for k in range(batch_size):\n",
        "      #correct_cnt+=int(    np.argmax(labels[batch_start+k:batch_start+k+1]) == np.argmax(l2[k:k+1])       )\n",
        "      correct_cnt+=int(np.argmax(l2[k:k+1])==np.argmax(labels[batch_start+k:batch_start+k+1]))\n",
        "\n",
        "    delta_l2=(labels[batch_start:batch_end]-l2)/(batch_size*l2.shape[0])\n",
        "    delta_l1=delta_l2.dot(W12.T)*div_tanh(l1)\n",
        "    delta_l1*=drop_out_mask\n",
        "\n",
        "    W12+=learning_rate*l1.T.dot(delta_l2)\n",
        "    W01+=learning_rate*l0.T.dot(delta_l1)\n",
        "\n",
        "\n",
        "  if (j%10==0 or j==niter-1):\n",
        "    test_correct_cnt=0\n",
        "    for i in range(len(test_images)):\n",
        "      l0=test_images[i:i+1]\n",
        "      l1=tanh(np.dot(l0,W01))\n",
        "      l2=np.dot(l1,W12)\n",
        "      test_correct_cnt+=int(np.argmax(test_labels[i:i+1])==np.argmax(l2))\n",
        "    print('iter: {} test_acc: {} train_acc: {}'.format(j,test_correct_cnt/float(len(test_images)),correct_cnt/float(len(labels))   ))    "
      ],
      "execution_count": 109,
      "outputs": [
        {
          "output_type": "stream",
          "text": [
            "iter: 0 test_acc: 0.6474 train_acc: 0.32266666666666666\n",
            "iter: 10 test_acc: 0.7372 train_acc: 0.7366666666666667\n",
            "iter: 20 test_acc: 0.8084 train_acc: 0.82\n",
            "iter: 30 test_acc: 0.8406 train_acc: 0.8593333333333333\n",
            "iter: 40 test_acc: 0.8531 train_acc: 0.8846666666666667\n",
            "iter: 50 test_acc: 0.8621 train_acc: 0.89\n",
            "iter: 60 test_acc: 0.8682 train_acc: 0.896\n",
            "iter: 70 test_acc: 0.873 train_acc: 0.902\n",
            "iter: 80 test_acc: 0.8769 train_acc: 0.9073333333333333\n",
            "iter: 90 test_acc: 0.88 train_acc: 0.9173333333333333\n",
            "iter: 100 test_acc: 0.8812 train_acc: 0.9193333333333333\n",
            "iter: 110 test_acc: 0.8832 train_acc: 0.9193333333333333\n",
            "iter: 120 test_acc: 0.886 train_acc: 0.922\n",
            "iter: 130 test_acc: 0.8864 train_acc: 0.9246666666666666\n",
            "iter: 140 test_acc: 0.8854 train_acc: 0.9286666666666666\n",
            "iter: 150 test_acc: 0.8867 train_acc: 0.926\n",
            "iter: 160 test_acc: 0.8887 train_acc: 0.93\n",
            "iter: 170 test_acc: 0.8896 train_acc: 0.932\n",
            "iter: 180 test_acc: 0.8915 train_acc: 0.926\n",
            "iter: 190 test_acc: 0.8916 train_acc: 0.9313333333333333\n",
            "iter: 200 test_acc: 0.8915 train_acc: 0.9226666666666666\n",
            "iter: 210 test_acc: 0.892 train_acc: 0.9266666666666666\n",
            "iter: 220 test_acc: 0.8932 train_acc: 0.934\n",
            "iter: 230 test_acc: 0.8942 train_acc: 0.934\n",
            "iter: 240 test_acc: 0.8933 train_acc: 0.9286666666666666\n",
            "iter: 250 test_acc: 0.8931 train_acc: 0.93\n",
            "iter: 260 test_acc: 0.8932 train_acc: 0.9253333333333333\n",
            "iter: 270 test_acc: 0.8926 train_acc: 0.9293333333333333\n",
            "iter: 280 test_acc: 0.8938 train_acc: 0.9206666666666666\n",
            "iter: 290 test_acc: 0.8946 train_acc: 0.934\n",
            "iter: 300 test_acc: 0.8939 train_acc: 0.9193333333333333\n"
          ],
          "name": "stdout"
        }
      ]
    },
    {
      "cell_type": "code",
      "metadata": {
        "id": "P0xUtEoqrLr1"
      },
      "source": [
        "def pred_nn(ix,w1,w2):\n",
        "  imshow(x_test[ix])\n",
        "  plt.show()\n",
        "  inpt=x_test[ix].reshape(28*28)/255\n",
        "  pred=(np.dot(tanh(np.dot(inpt,w1)),w2))\n",
        "  return(np.argmax(pred))"
      ],
      "execution_count": 110,
      "outputs": []
    },
    {
      "cell_type": "code",
      "metadata": {
        "colab": {
          "base_uri": "https://localhost:8080/",
          "height": 314
        },
        "id": "o-gr7eTUr0dJ",
        "outputId": "8d582e65-a9e9-4557-f84b-547ea7d115f1"
      },
      "source": [
        "ix=np.random.randint(len(x_test))\n",
        "print(\"Neural Network thinks this is:\" ,pred_nn(ix,W01,W12))"
      ],
      "execution_count": 113,
      "outputs": [
        {
          "output_type": "display_data",
          "data": {
            "image/png": "[encoded data removed]",
            "text/plain": [
              "<Figure size 432x288 with 1 Axes>"
            ]
          },
          "metadata": {
            "tags": [],
            "needs_background": "light"
          }
        },
        {
          "output_type": "stream",
          "text": [
            "Neural Network thinks this is: 6\n"
          ],
          "name": "stdout"
        }
      ]
    }
  ]
}