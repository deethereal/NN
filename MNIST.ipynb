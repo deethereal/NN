{
  "nbformat": 4,
  "nbformat_minor": 0,
  "metadata": {
    "colab": {
      "name": "MNIST.ipynb",
      "provenance": [],
      "collapsed_sections": [],
      "authorship_tag": "ABX9TyNC1zpKmQ4Yi+O2Icm0f3PW",
      "include_colab_link": true
    },
    "kernelspec": {
      "name": "python3",
      "display_name": "Python 3"
    }
  },
  "cells": [
    {
      "cell_type": "markdown",
      "metadata": {
        "id": "view-in-github",
        "colab_type": "text"
      },
      "source": [
        "<a href=\"https://colab.research.google.com/github/deethereal/MNIST/blob/main/MNIST.ipynb\" target=\"_parent\"><img src=\"https://colab.research.google.com/assets/colab-badge.svg\" alt=\"Open In Colab\"/></a>"
      ]
    },
    {
      "cell_type": "code",
      "metadata": {
        "id": "b7LfsIwcsLDC"
      },
      "source": [
        "import sys, numpy as np\n",
        "from keras.datasets import mnist\n",
        "(x_train,y_train),(x_test,y_test)=mnist.load_data()"
      ],
      "execution_count": 1,
      "outputs": []
    },
    {
      "cell_type": "code",
      "metadata": {
        "id": "I7z_Zx23Li7Q"
      },
      "source": [
        "from skimage.io import imread,imshow\n"
      ],
      "execution_count": 7,
      "outputs": []
    },
    {
      "cell_type": "markdown",
      "metadata": {
        "id": "gKYFZvOucnJC"
      },
      "source": [
        "**Cтаохастический градиентный спуск**"
      ]
    },
    {
      "cell_type": "code",
      "metadata": {
        "id": "slZ8fFqQsNTS"
      },
      "source": [
        "\n",
        "images, labels=(x_train[0:1000].reshape(1000,28*28)/255,y_train[0:1000])\n",
        "#one_hot_labels=np.eye((len(labels),10))\n",
        "one_hot_labels=np.zeros((len(labels),10))\n",
        "for i,l in enumerate(labels):\n",
        "  one_hot_labels[i][l]=1\n",
        "labels=one_hot_labels\n",
        "\n",
        "\n",
        "test_images=(x_test.reshape((len(x_test),28*28))/255)\n",
        "test_labels= np.zeros((len(y_test),10))\n",
        "for i,l in enumerate(y_test):\n",
        "  test_labels[i][l]=1\n",
        "\n",
        "np.random.seed(1)\n",
        "relu=lambda x: (x>=0)*x\n",
        "relu2div=lambda x: (x>=0)"
      ],
      "execution_count": 3,
      "outputs": []
    },
    {
      "cell_type": "code",
      "metadata": {
        "colab": {
          "base_uri": "https://localhost:8080/"
        },
        "id": "wnuqHYtmc7r1",
        "outputId": "11ceaebe-e9b0-4503-b3b6-88b14f39003b"
      },
      "source": [
        "\n",
        "learning_rate, niter, hidden_size, pix_per_img, num_labels = (0.005,400,40,784,10)\n",
        "W01=0.2*np.random.random((pix_per_img,hidden_size)) - 0.1\n",
        "W12=0.2*np.random.random((hidden_size,num_labels)) - 0.1\n",
        "\n",
        "for j in range(niter):\n",
        "  error,correct_cnt=(0.0,0)\n",
        "  #print(error)\n",
        "  for i in range(len(images)):\n",
        "    l0=images[i:i+1]\n",
        "    l1=relu(np.dot(l0,W01))\n",
        "    drop_out_mask=np.random.randint(2,size=l1.shape) #распределение бернули: выключеаем 50% нейронов\n",
        "    l1*=drop_out_mask*2\n",
        "    l2=np.dot(l1,W12)\n",
        "    \n",
        "    error += np.sum((labels[i:i+1]-l2)**2)\n",
        "    correct_cnt+= int(np.argmax(l2)==np.argmax(labels[i:i+1]))\n",
        "\n",
        "    delta_l2=labels[i:i+1]-l2\n",
        "    delta_l1=delta_l2.dot(W12.T)*relu2div(l1)\n",
        "    delta_l1*=drop_out_mask\n",
        "\n",
        "    W12+=learning_rate*l1.T.dot(delta_l2)\n",
        "    W01+=learning_rate*l0.T.dot(delta_l1)\n",
        "  if (j%10==0 or j==niter-1):\n",
        "    test_error=0\n",
        "    test_correct_cnt=0\n",
        "    for i in range(len(test_images)):\n",
        "      l0=test_images[i:i+1]\n",
        "      l1=relu(np.dot(l0,W01))\n",
        "      l2=np.dot(l1,W12)\n",
        "      test_error+=np.sum((test_labels[i:i+1]-l2)**2)\n",
        "      test_correct_cnt+=int(np.argmax(test_labels[i:i+1])==np.argmax(l2))\n",
        "    print('iter: {} test_err: {} test_acc: {} train_err: {} train_acc: {}'.format(j,test_error/float(len(test_images)),test_correct_cnt/float(len(test_images)),error/float(len(labels)),correct_cnt/float(len(labels))   ))    \n",
        "    "
      ],
      "execution_count": 123,
      "outputs": [
        {
          "output_type": "stream",
          "text": [
            "0\n",
            "iter: 0 test_err: 0.7163988157461046 test_acc: 0.5704 train_err: 0.8821437370125721 train_acc: 0.31\n",
            "iter: 10 test_err: 0.4929807103712133 test_acc: 0.756 train_err: 0.5858574118187717 train_acc: 0.644\n",
            "iter: 20 test_err: 0.45741095146826694 test_acc: 0.7796 train_err: 0.5196477010076141 train_acc: 0.706\n",
            "iter: 30 test_err: 0.4536324499862527 test_acc: 0.7889 train_err: 0.49192752520297767 train_acc: 0.728\n",
            "iter: 40 test_err: 0.41471029044133156 test_acc: 0.796 train_err: 0.4539598076769416 train_acc: 0.772\n",
            "iter: 50 test_err: 0.4177994083328301 test_acc: 0.8103 train_err: 0.4470937511990219 train_acc: 0.767\n",
            "iter: 60 test_err: 0.412319983037637 test_acc: 0.8159 train_err: 0.43332248943966 train_acc: 0.778\n",
            "iter: 70 test_err: 0.4076880916999572 test_acc: 0.8155 train_err: 0.4216881960491897 train_acc: 0.809\n",
            "iter: 80 test_err: 0.3980667731069786 test_acc: 0.8241 train_err: 0.41675626722106807 train_acc: 0.792\n",
            "iter: 90 test_err: 0.4090829453250262 test_acc: 0.8255 train_err: 0.4293285662779328 train_acc: 0.803\n",
            "iter: 100 test_err: 0.4019019611810707 test_acc: 0.8255 train_err: 0.412127114395812 train_acc: 0.81\n",
            "iter: 110 test_err: 0.39601962121912404 test_acc: 0.822 train_err: 0.39830211751124844 train_acc: 0.818\n",
            "iter: 120 test_err: 0.39703553836083666 test_acc: 0.8266 train_err: 0.4159108392888646 train_acc: 0.801\n",
            "iter: 130 test_err: 0.39599258795829995 test_acc: 0.826 train_err: 0.39195278117177357 train_acc: 0.823\n",
            "iter: 140 test_err: 0.40573127533695125 test_acc: 0.8298 train_err: 0.3775970225576167 train_acc: 0.827\n",
            "iter: 150 test_err: 0.39042698574640833 test_acc: 0.8247 train_err: 0.3900520012117997 train_acc: 0.827\n",
            "iter: 160 test_err: 0.3947172749647374 test_acc: 0.8204 train_err: 0.39138343319150204 train_acc: 0.827\n",
            "iter: 170 test_err: 0.3939410148655767 test_acc: 0.8248 train_err: 0.3975005493135112 train_acc: 0.833\n",
            "iter: 180 test_err: 0.39587014138925497 test_acc: 0.8255 train_err: 0.3781048535027676 train_acc: 0.825\n",
            "iter: 190 test_err: 0.3938306132281334 test_acc: 0.8189 train_err: 0.34295682878327993 train_acc: 0.867\n",
            "iter: 200 test_err: 0.3995239394700313 test_acc: 0.8211 train_err: 0.3828838175102866 train_acc: 0.831\n",
            "iter: 210 test_err: 0.38658029466334953 test_acc: 0.8193 train_err: 0.36950975561334404 train_acc: 0.834\n",
            "iter: 220 test_err: 0.38632671540668595 test_acc: 0.8256 train_err: 0.37395923811709847 train_acc: 0.829\n",
            "iter: 230 test_err: 0.39476462311910404 test_acc: 0.824 train_err: 0.3801688029182357 train_acc: 0.842\n",
            "iter: 240 test_err: 0.4010426813540213 test_acc: 0.8216 train_err: 0.36738746876486394 train_acc: 0.835\n",
            "iter: 250 test_err: 0.40126889614557165 test_acc: 0.8226 train_err: 0.36966760726235687 train_acc: 0.835\n",
            "iter: 260 test_err: 0.4030312185115947 test_acc: 0.819 train_err: 0.36151847735126946 train_acc: 0.847\n",
            "iter: 270 test_err: 0.4037276364009783 test_acc: 0.8099 train_err: 0.36207297956915224 train_acc: 0.848\n",
            "iter: 280 test_err: 0.4044736896019548 test_acc: 0.8165 train_err: 0.3472060885891379 train_acc: 0.849\n",
            "iter: 290 test_err: 0.39830889737848074 test_acc: 0.8107 train_err: 0.36010794589288814 train_acc: 0.832\n",
            "iter: 300 test_err: 0.40563727124672055 test_acc: 0.8056 train_err: 0.3515997300212379 train_acc: 0.839\n",
            "iter: 310 test_err: 0.40290186976379117 test_acc: 0.8047 train_err: 0.35707783591727893 train_acc: 0.842\n",
            "iter: 320 test_err: 0.40266608988123265 test_acc: 0.8064 train_err: 0.34933136874119847 train_acc: 0.845\n",
            "iter: 330 test_err: 0.4001316145646418 test_acc: 0.8084 train_err: 0.3580574800959465 train_acc: 0.839\n",
            "iter: 340 test_err: 0.41108864616046464 test_acc: 0.8041 train_err: 0.34242411920731985 train_acc: 0.85\n",
            "iter: 350 test_err: 0.4047910576770388 test_acc: 0.7965 train_err: 0.3396784247033289 train_acc: 0.851\n",
            "iter: 360 test_err: 0.4144154648548236 test_acc: 0.7995 train_err: 0.3455844289602286 train_acc: 0.86\n",
            "iter: 370 test_err: 0.418580140275675 test_acc: 0.7856 train_err: 0.35668487666343124 train_acc: 0.853\n",
            "iter: 380 test_err: 0.42112319062165854 test_acc: 0.7888 train_err: 0.3352192008616638 train_acc: 0.867\n",
            "iter: 390 test_err: 0.41615966582608127 test_acc: 0.7867 train_err: 0.34275001769412694 train_acc: 0.854\n",
            "iter: 399 test_err: 0.4031214953066423 test_acc: 0.8031 train_err: 0.3624747178434162 train_acc: 0.84\n"
          ],
          "name": "stdout"
        }
      ]
    },
    {
      "cell_type": "code",
      "metadata": {
        "colab": {
          "base_uri": "https://localhost:8080/",
          "height": 314
        },
        "id": "LlKni4kgL7gi",
        "outputId": "81eac68e-d242-4cdc-eb31-31265d0675ae"
      },
      "source": [
        "ix=np.random.randint(len(x_test))\n",
        "imshow(x_test[ix])"
      ],
      "execution_count": 104,
      "outputs": [
        {
          "output_type": "execute_result",
          "data": {
            "text/plain": [
              "<matplotlib.image.AxesImage at 0x7f6a6c5526a0>"
            ]
          },
          "metadata": {
            "tags": []
          },
          "execution_count": 104
        },
        {
          "output_type": "display_data",
          "data": {
            "image/png": "[encoded data removed]",
            "text/plain": [
              "<Figure size 432x288 with 1 Axes>"
            ]
          },
          "metadata": {
            "tags": [],
            "needs_background": "light"
          }
        }
      ]
    },
    {
      "cell_type": "code",
      "metadata": {
        "colab": {
          "base_uri": "https://localhost:8080/"
        },
        "id": "EtV_CUawNr2J",
        "outputId": "98bf2a63-6b75-43ad-c249-f0a99a436cc6"
      },
      "source": [
        "inpt=x_test[ix].reshape(28*28)/255\n",
        "pred=np.dot(relu(np.dot(inpt,W01)),W12)\n",
        "print(np.argmax(pred))"
      ],
      "execution_count": 105,
      "outputs": [
        {
          "output_type": "stream",
          "text": [
            "1\n"
          ],
          "name": "stdout"
        }
      ]
    },
    {
      "cell_type": "markdown",
      "metadata": {
        "id": "iEM8BF7GcwVB"
      },
      "source": [
        "**Пакетный градиентный спуск** "
      ]
    },
    {
      "cell_type": "code",
      "metadata": {
        "colab": {
          "base_uri": "https://localhost:8080/"
        },
        "id": "_HtJdSOMUcbW",
        "outputId": "5dd6d5e4-cd93-4f42-8b97-2f85d68ef7b5"
      },
      "source": [
        "batch_size=100\n",
        "learning_rate, niter= (0.001,300)\n",
        "hidden_size, pix_per_img, num_labels = (100,784,10)\n",
        "W01=0.2*np.random.random((pix_per_img,hidden_size)) - 0.1\n",
        "W12=0.2*np.random.random((hidden_size,num_labels)) - 0.1\n",
        "for j in range(0,niter):\n",
        "  error, correct_cnt=(0.0,0)\n",
        "  for i in range(0,int(len(images)/batch_size)):\n",
        "    batch_start, batch_end= i*batch_size, (i+1)*batch_size\n",
        "    l0=images[batch_start:batch_end]\n",
        "    l1=relu(np.dot(l0,W01))\n",
        "    dropout_mask=np.random.randint(2,size=l1.shape)\n",
        "    l1*=dropout_mask*2\n",
        "    l2=np.dot(l1,W12)\n",
        "\n",
        "    error+=np.sum((labels[batch_start:batch_end]-l2)**2)\n",
        "    for k in range(batch_size):\n",
        "      correct_cnt+=int(np.argmax(l2[k:k+1])==np.argmax(labels[batch_start+k:batch_end+k+1]))\n",
        "    l2_delta=labels[batch_start:batch_end]-l2\n",
        "    l1_delta=np.dot(l2_delta,W12.T)*relu2div(l1)\n",
        "    l1_delta*=dropout_mask\n",
        "    W12+=learning_rate*l1.T.dot(l2_delta)\n",
        "    W01+=learning_rate*l0.T.dot(l1_delta)\n",
        "  if (j%10==0 or j==niter-1):\n",
        "    test_error=0\n",
        "    test_correct_cnt=0\n",
        "    for i in range(len(test_images)):\n",
        "      l0=test_images[i:i+1]\n",
        "      l1=relu(np.dot(l0,W01))\n",
        "      l2=np.dot(l1,W12)\n",
        "      test_error+=np.sum((test_labels[i:i+1]-l2)**2)\n",
        "      test_correct_cnt+=int(np.argmax(test_labels[i:i+1])==np.argmax(l2))\n",
        "    print('iter: {} test_err: {} test_acc: {} train_err: {} train_acc: {}'.format(j,test_error/float(len(test_images)),test_correct_cnt/float(len(test_images)),error/float(len(labels)),correct_cnt/(float(len(labels)))   ))   \n"
      ],
      "execution_count": 16,
      "outputs": [
        {
          "output_type": "stream",
          "text": [
            "iter: 0 test_err: 0.813491788077794 test_acc: 0.4074 train_err: 1.2327966608615142 train_acc: 0.17\n",
            "iter: 10 test_err: 0.5706525290812868 test_acc: 0.7288 train_err: 0.6164222961127107 train_acc: 0.657\n",
            "iter: 20 test_err: 0.5081162121640259 test_acc: 0.7729 train_err: 0.5338737384320642 train_acc: 0.741\n",
            "iter: 30 test_err: 0.4799421688513726 test_acc: 0.7849 train_err: 0.49839568080357455 train_acc: 0.761\n",
            "iter: 40 test_err: 0.46045143124998766 test_acc: 0.7969 train_err: 0.4902320871724891 train_acc: 0.757\n",
            "iter: 50 test_err: 0.45216149813346584 test_acc: 0.8009 train_err: 0.47616755419530765 train_acc: 0.765\n",
            "iter: 60 test_err: 0.4423803794145082 test_acc: 0.8025 train_err: 0.4515476526489305 train_acc: 0.803\n",
            "iter: 70 test_err: 0.43451981356182506 test_acc: 0.8045 train_err: 0.44830331617454183 train_acc: 0.789\n",
            "iter: 80 test_err: 0.43290240929063994 test_acc: 0.806 train_err: 0.4495925446751689 train_acc: 0.794\n",
            "iter: 90 test_err: 0.4271941215972077 test_acc: 0.8064 train_err: 0.4260997833276569 train_acc: 0.816\n",
            "iter: 100 test_err: 0.42464702037684127 test_acc: 0.8052 train_err: 0.4253511092136997 train_acc: 0.796\n",
            "iter: 110 test_err: 0.424143307288153 test_acc: 0.8061 train_err: 0.4245195007244832 train_acc: 0.809\n",
            "iter: 120 test_err: 0.41800406618788266 test_acc: 0.8107 train_err: 0.40963059207008873 train_acc: 0.816\n",
            "iter: 130 test_err: 0.41714724166442085 test_acc: 0.8104 train_err: 0.4061610588811753 train_acc: 0.841\n",
            "iter: 140 test_err: 0.4174277085918281 test_acc: 0.809 train_err: 0.4174462807951371 train_acc: 0.82\n",
            "iter: 150 test_err: 0.4204279699475481 test_acc: 0.804 train_err: 0.40214948557802427 train_acc: 0.824\n",
            "iter: 160 test_err: 0.41676181209395025 test_acc: 0.804 train_err: 0.40668402769547013 train_acc: 0.823\n",
            "iter: 170 test_err: 0.41662110279243436 test_acc: 0.8058 train_err: 0.40530482281283964 train_acc: 0.835\n",
            "iter: 180 test_err: 0.4170454023148657 test_acc: 0.804 train_err: 0.407201139045959 train_acc: 0.829\n",
            "iter: 190 test_err: 0.4142995171307353 test_acc: 0.8032 train_err: 0.3945341315903498 train_acc: 0.829\n",
            "iter: 200 test_err: 0.4110293949039483 test_acc: 0.8014 train_err: 0.38485271840808616 train_acc: 0.86\n",
            "iter: 210 test_err: 0.407814845774547 test_acc: 0.8031 train_err: 0.38352237747635565 train_acc: 0.847\n",
            "iter: 220 test_err: 0.40472989884416977 test_acc: 0.8087 train_err: 0.3800713758190489 train_acc: 0.861\n",
            "iter: 230 test_err: 0.40856423597506136 test_acc: 0.8083 train_err: 0.38621477331704596 train_acc: 0.838\n",
            "iter: 240 test_err: 0.4045570032316335 test_acc: 0.8033 train_err: 0.37902371396364465 train_acc: 0.838\n",
            "iter: 250 test_err: 0.40684723342292006 test_acc: 0.7984 train_err: 0.3765770945135795 train_acc: 0.852\n",
            "iter: 260 test_err: 0.4082104163402062 test_acc: 0.8059 train_err: 0.38353654215184474 train_acc: 0.853\n",
            "iter: 270 test_err: 0.4062331419363604 test_acc: 0.8056 train_err: 0.3763385196925407 train_acc: 0.859\n",
            "iter: 280 test_err: 0.40617355994399656 test_acc: 0.8034 train_err: 0.36475153315641423 train_acc: 0.863\n",
            "iter: 290 test_err: 0.4015107525529098 test_acc: 0.8075 train_err: 0.3518717024959573 train_acc: 0.861\n",
            "iter: 299 test_err: 0.3996840293633295 test_acc: 0.8075 train_err: 0.37182852338699834 train_acc: 0.859\n"
          ],
          "name": "stdout"
        }
      ]
    },
    {
      "cell_type": "code",
      "metadata": {
        "colab": {
          "base_uri": "https://localhost:8080/",
          "height": 314
        },
        "id": "dpHT8_Ajh6BN",
        "outputId": "6c6da33a-f54f-4b23-d4eb-e6e61f2f1dc1"
      },
      "source": [
        "ix=np.random.randint(len(x_test))\n",
        "imshow(x_test[ix])"
      ],
      "execution_count": 17,
      "outputs": [
        {
          "output_type": "execute_result",
          "data": {
            "text/plain": [
              "<matplotlib.image.AxesImage at 0x7f7cb933f4a8>"
            ]
          },
          "metadata": {
            "tags": []
          },
          "execution_count": 17
        },
        {
          "output_type": "display_data",
          "data": {
            "image/png": "[encoded data removed]",
            "text/plain": [
              "<Figure size 432x288 with 1 Axes>"
            ]
          },
          "metadata": {
            "tags": [],
            "needs_background": "light"
          }
        }
      ]
    },
    {
      "cell_type": "code",
      "metadata": {
        "colab": {
          "base_uri": "https://localhost:8080/"
        },
        "id": "-jYBK_gHh80z",
        "outputId": "172aee6f-0d9d-47c5-885c-f2a53750fc3c"
      },
      "source": [
        "inpt=x_test[ix].reshape(28*28)/255\n",
        "pred=np.dot(relu(np.dot(inpt,W01)),W12)\n",
        "print(np.argmax(pred))"
      ],
      "execution_count": 18,
      "outputs": [
        {
          "output_type": "stream",
          "text": [
            "6\n"
          ],
          "name": "stdout"
        }
      ]
    }
  ]
}