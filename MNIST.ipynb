{
  "nbformat": 4,
  "nbformat_minor": 0,
  "metadata": {
    "colab": {
      "name": "MNIST.ipynb",
      "provenance": [],
      "collapsed_sections": [],
      "authorship_tag": "ABX9TyNTHFm5Xz91WM42kE8ADOxW",
      "include_colab_link": true
    },
    "kernelspec": {
      "name": "python3",
      "display_name": "Python 3"
    }
  },
  "cells": [
    {
      "cell_type": "markdown",
      "metadata": {
        "id": "view-in-github",
        "colab_type": "text"
      },
      "source": [
        "<a href=\"https://colab.research.google.com/github/deethereal/MNIST/blob/main/MNIST.ipynb\" target=\"_parent\"><img src=\"https://colab.research.google.com/assets/colab-badge.svg\" alt=\"Open In Colab\"/></a>"
      ]
    },
    {
      "cell_type": "code",
      "metadata": {
        "id": "b7LfsIwcsLDC"
      },
      "source": [
        "import sys, numpy as np\n",
        "from keras.datasets import mnist\n",
        "(x_train,y_train),(x_test,y_test)=mnist.load_data()"
      ],
      "execution_count": 1,
      "outputs": []
    },
    {
      "cell_type": "code",
      "metadata": {
        "id": "I7z_Zx23Li7Q"
      },
      "source": [
        "from skimage.io import imread,imshow\n"
      ],
      "execution_count": 7,
      "outputs": []
    },
    {
      "cell_type": "markdown",
      "metadata": {
        "id": "gKYFZvOucnJC"
      },
      "source": [
        "**Cтохастический градиентный спуск**"
      ]
    },
    {
      "cell_type": "code",
      "metadata": {
        "id": "slZ8fFqQsNTS"
      },
      "source": [
        "\n",
        "images, labels=(x_train[0:1000].reshape(1000,28*28)/255,y_train[0:1000])\n",
        "#one_hot_labels=np.eye((len(labels),10))\n",
        "one_hot_labels=np.zeros((len(labels),10))\n",
        "for i,l in enumerate(labels):\n",
        "  one_hot_labels[i][l]=1\n",
        "labels=one_hot_labels\n",
        "\n",
        "\n",
        "test_images=(x_test.reshape((len(x_test),28*28))/255)\n",
        "test_labels= np.zeros((len(y_test),10))\n",
        "for i,l in enumerate(y_test):\n",
        "  test_labels[i][l]=1\n",
        "\n",
        "np.random.seed(1)\n",
        "relu=lambda x: (x>=0)*x\n",
        "relu2div=lambda x: (x>=0)"
      ],
      "execution_count": 3,
      "outputs": []
    },
    {
      "cell_type": "code",
      "metadata": {
        "colab": {
          "base_uri": "https://localhost:8080/"
        },
        "id": "wnuqHYtmc7r1",
        "outputId": "09446bf3-96ec-4da6-9287-94b03b64a345"
      },
      "source": [
        "\n",
        "learning_rate, niter, hidden_size, pix_per_img, num_labels = (0.005,800,40,784,10)\n",
        "W01=0.2*np.random.random((pix_per_img,hidden_size)) - 0.1\n",
        "W12=0.2*np.random.random((hidden_size,num_labels)) - 0.1\n",
        "\n",
        "for j in range(niter):\n",
        "  error,correct_cnt=(0.0,0)\n",
        "  #print(error)\n",
        "  for i in range(len(images)):\n",
        "    l0=images[i:i+1]\n",
        "    l1=relu(np.dot(l0,W01))\n",
        "    drop_out_mask=np.random.randint(2,size=l1.shape) #распределение бернули: выключеаем 50% нейронов\n",
        "    l1*=drop_out_mask*2\n",
        "    l2=np.dot(l1,W12)\n",
        "    \n",
        "    error += np.sum((labels[i:i+1]-l2)**2)\n",
        "    correct_cnt+= int(np.argmax(l2)==np.argmax(labels[i:i+1]))\n",
        "\n",
        "    delta_l2=labels[i:i+1]-l2\n",
        "    delta_l1=delta_l2.dot(W12.T)*relu2div(l1)\n",
        "    delta_l1*=drop_out_mask\n",
        "\n",
        "    W12+=learning_rate*l1.T.dot(delta_l2)\n",
        "    W01+=learning_rate*l0.T.dot(delta_l1)\n",
        "  if (j%10==0 or j==niter-1):\n",
        "    test_error=0\n",
        "    test_correct_cnt=0\n",
        "    for i in range(len(test_images)):\n",
        "      l0=test_images[i:i+1]\n",
        "      l1=relu(np.dot(l0,W01))\n",
        "      l2=np.dot(l1,W12)\n",
        "      test_error+=np.sum((test_labels[i:i+1]-l2)**2)\n",
        "      test_correct_cnt+=int(np.argmax(test_labels[i:i+1])==np.argmax(l2))\n",
        "    print('iter: {} test_err: {} test_acc: {} train_err: {} train_acc: {}'.format(j,test_error/float(len(test_images)),test_correct_cnt/float(len(test_images)),error/float(len(labels)),correct_cnt/float(len(labels))   ))    \n",
        "    "
      ],
      "execution_count": 19,
      "outputs": [
        {
          "output_type": "stream",
          "text": [
            "iter: 0 test_err: 0.7335255762731687 test_acc: 0.5377 train_err: 0.8806479694339677 train_acc: 0.298\n",
            "iter: 10 test_err: 0.50627689574604 test_acc: 0.7466 train_err: 0.5820118391393229 train_acc: 0.639\n",
            "iter: 20 test_err: 0.4724878493873714 test_acc: 0.7947 train_err: 0.5198292106732185 train_acc: 0.718\n",
            "iter: 30 test_err: 0.44505085258333177 test_acc: 0.7983 train_err: 0.5136516715542433 train_acc: 0.717\n",
            "iter: 40 test_err: 0.4395323183116373 test_acc: 0.7956 train_err: 0.4756959775574082 train_acc: 0.752\n",
            "iter: 50 test_err: 0.4281803333213069 test_acc: 0.8034 train_err: 0.4635081686821083 train_acc: 0.768\n",
            "iter: 60 test_err: 0.4322263403317268 test_acc: 0.808 train_err: 0.4571799886571933 train_acc: 0.771\n",
            "iter: 70 test_err: 0.42820031216571325 test_acc: 0.8126 train_err: 0.452498521992092 train_acc: 0.774\n",
            "iter: 80 test_err: 0.43076025363588233 test_acc: 0.8108 train_err: 0.4614487002561062 train_acc: 0.775\n",
            "iter: 90 test_err: 0.4224864233638758 test_acc: 0.8113 train_err: 0.4362946426590809 train_acc: 0.798\n",
            "iter: 100 test_err: 0.4269043061875811 test_acc: 0.8125 train_err: 0.4411422474358118 train_acc: 0.778\n",
            "iter: 110 test_err: 0.43346246571810937 test_acc: 0.813 train_err: 0.4357084570899796 train_acc: 0.8\n",
            "iter: 120 test_err: 0.41740032129393295 test_acc: 0.8125 train_err: 0.4277468298581521 train_acc: 0.795\n",
            "iter: 130 test_err: 0.4206809013989147 test_acc: 0.813 train_err: 0.425206870831283 train_acc: 0.793\n",
            "iter: 140 test_err: 0.42044953613911895 test_acc: 0.8122 train_err: 0.41638322878707057 train_acc: 0.805\n",
            "iter: 150 test_err: 0.4273296305777661 test_acc: 0.8155 train_err: 0.4266157387666228 train_acc: 0.783\n",
            "iter: 160 test_err: 0.4172176156435881 test_acc: 0.8126 train_err: 0.4208013916877763 train_acc: 0.806\n",
            "iter: 170 test_err: 0.42278536768657105 test_acc: 0.805 train_err: 0.41016793356379383 train_acc: 0.807\n",
            "iter: 180 test_err: 0.4135214324081848 test_acc: 0.807 train_err: 0.4117142241107016 train_acc: 0.807\n",
            "iter: 190 test_err: 0.416388301098974 test_acc: 0.8146 train_err: 0.4236250863456444 train_acc: 0.808\n",
            "iter: 200 test_err: 0.4217111864297205 test_acc: 0.8138 train_err: 0.40211610281566396 train_acc: 0.82\n",
            "iter: 210 test_err: 0.41405023902611937 test_acc: 0.8034 train_err: 0.411887193511086 train_acc: 0.813\n",
            "iter: 220 test_err: 0.4348684808167158 test_acc: 0.8002 train_err: 0.42732859511375587 train_acc: 0.796\n",
            "iter: 230 test_err: 0.4258408453065895 test_acc: 0.798 train_err: 0.3995235924722409 train_acc: 0.815\n",
            "iter: 240 test_err: 0.4255640909760422 test_acc: 0.792 train_err: 0.3934233767074048 train_acc: 0.831\n",
            "iter: 250 test_err: 0.41971083968916983 test_acc: 0.8005 train_err: 0.39505620175942785 train_acc: 0.815\n",
            "iter: 260 test_err: 0.4203598079452484 test_acc: 0.7933 train_err: 0.3819851521649235 train_acc: 0.836\n",
            "iter: 270 test_err: 0.424485774297666 test_acc: 0.7944 train_err: 0.4102097409862298 train_acc: 0.833\n",
            "iter: 280 test_err: 0.42682714306142816 test_acc: 0.7909 train_err: 0.3864839520704377 train_acc: 0.823\n",
            "iter: 290 test_err: 0.41473331699862165 test_acc: 0.7906 train_err: 0.3804446830641025 train_acc: 0.844\n",
            "iter: 300 test_err: 0.4141189646093257 test_acc: 0.7994 train_err: 0.38050542729082903 train_acc: 0.84\n",
            "iter: 310 test_err: 0.41430073650588156 test_acc: 0.7985 train_err: 0.373658798679271 train_acc: 0.843\n",
            "iter: 320 test_err: 0.41661957128479443 test_acc: 0.8 train_err: 0.380802347676812 train_acc: 0.839\n",
            "iter: 330 test_err: 0.42069350301682823 test_acc: 0.8004 train_err: 0.3817592834235581 train_acc: 0.843\n",
            "iter: 340 test_err: 0.41543356161825884 test_acc: 0.8052 train_err: 0.3930037272490797 train_acc: 0.838\n",
            "iter: 350 test_err: 0.4181361685551997 test_acc: 0.8006 train_err: 0.38202854944304804 train_acc: 0.839\n",
            "iter: 360 test_err: 0.4174106703001923 test_acc: 0.8076 train_err: 0.3815719345470908 train_acc: 0.833\n",
            "iter: 370 test_err: 0.41143820073132054 test_acc: 0.8074 train_err: 0.37902551507074767 train_acc: 0.842\n",
            "iter: 380 test_err: 0.4089529989074188 test_acc: 0.8057 train_err: 0.3543416403677221 train_acc: 0.86\n",
            "iter: 390 test_err: 0.4267285440782042 test_acc: 0.7983 train_err: 0.35642904261347763 train_acc: 0.86\n",
            "iter: 400 test_err: 0.41390521081373316 test_acc: 0.8044 train_err: 0.36381729482820674 train_acc: 0.847\n",
            "iter: 410 test_err: 0.422042411147638 test_acc: 0.7991 train_err: 0.363129456916324 train_acc: 0.85\n",
            "iter: 420 test_err: 0.4166588936653979 test_acc: 0.8076 train_err: 0.3660513187012239 train_acc: 0.844\n",
            "iter: 430 test_err: 0.41260931778700405 test_acc: 0.8014 train_err: 0.35875233439438275 train_acc: 0.841\n",
            "iter: 440 test_err: 0.43059579117951463 test_acc: 0.8004 train_err: 0.38073482018200416 train_acc: 0.833\n",
            "iter: 450 test_err: 0.43908834131639624 test_acc: 0.7991 train_err: 0.35804579816844684 train_acc: 0.852\n",
            "iter: 460 test_err: 0.42907563063652787 test_acc: 0.798 train_err: 0.36375745673931875 train_acc: 0.852\n",
            "iter: 470 test_err: 0.4313930612454268 test_acc: 0.7957 train_err: 0.3683557097166104 train_acc: 0.849\n",
            "iter: 480 test_err: 0.44201392519118754 test_acc: 0.8043 train_err: 0.3514083365532608 train_acc: 0.868\n",
            "iter: 490 test_err: 0.4452116065728354 test_acc: 0.7916 train_err: 0.3587613227394693 train_acc: 0.869\n",
            "iter: 500 test_err: 0.42456333723291784 test_acc: 0.7974 train_err: 0.35749052385194646 train_acc: 0.851\n",
            "iter: 510 test_err: 0.43086495961679083 test_acc: 0.8043 train_err: 0.3439692392683899 train_acc: 0.858\n",
            "iter: 520 test_err: 0.42860043794998803 test_acc: 0.8029 train_err: 0.36380066099050956 train_acc: 0.853\n",
            "iter: 530 test_err: 0.4270789877618633 test_acc: 0.8012 train_err: 0.37007205534302 train_acc: 0.849\n",
            "iter: 540 test_err: 0.42212703594142775 test_acc: 0.7995 train_err: 0.3620392513528259 train_acc: 0.848\n",
            "iter: 550 test_err: 0.43315275944889226 test_acc: 0.7964 train_err: 0.356846223766585 train_acc: 0.871\n",
            "iter: 560 test_err: 0.43718884815492476 test_acc: 0.7883 train_err: 0.3569739052123356 train_acc: 0.846\n",
            "iter: 570 test_err: 0.43487528000586073 test_acc: 0.7949 train_err: 0.3467338445635746 train_acc: 0.876\n",
            "iter: 580 test_err: 0.4386044884466145 test_acc: 0.7902 train_err: 0.3433182782656488 train_acc: 0.862\n",
            "iter: 590 test_err: 0.45027243464795264 test_acc: 0.7979 train_err: 0.3629182334724669 train_acc: 0.851\n",
            "iter: 600 test_err: 0.4395406295504703 test_acc: 0.7956 train_err: 0.34138687832816156 train_acc: 0.873\n",
            "iter: 610 test_err: 0.4453151308525019 test_acc: 0.7938 train_err: 0.3374662666552459 train_acc: 0.875\n",
            "iter: 620 test_err: 0.44750835036207237 test_acc: 0.7904 train_err: 0.34785209248996807 train_acc: 0.861\n",
            "iter: 630 test_err: 0.4423011377465793 test_acc: 0.7959 train_err: 0.3222631842273088 train_acc: 0.876\n",
            "iter: 640 test_err: 0.44786880595128215 test_acc: 0.7961 train_err: 0.34765987611668253 train_acc: 0.873\n",
            "iter: 650 test_err: 0.44111140670335863 test_acc: 0.7993 train_err: 0.3403441708375661 train_acc: 0.872\n",
            "iter: 660 test_err: 0.44709951727566005 test_acc: 0.7889 train_err: 0.33065505879207435 train_acc: 0.872\n",
            "iter: 670 test_err: 0.4550271429517841 test_acc: 0.7928 train_err: 0.34605429198947757 train_acc: 0.869\n",
            "iter: 680 test_err: 0.45341159599521025 test_acc: 0.7938 train_err: 0.3555557794337071 train_acc: 0.859\n",
            "iter: 690 test_err: 0.4613940849992946 test_acc: 0.7898 train_err: 0.36002160610036965 train_acc: 0.846\n",
            "iter: 700 test_err: 0.4587269116007164 test_acc: 0.7854 train_err: 0.34842871042346285 train_acc: 0.862\n",
            "iter: 710 test_err: 0.46387862688570086 test_acc: 0.7827 train_err: 0.3368121623381344 train_acc: 0.874\n",
            "iter: 720 test_err: 0.4581880905037602 test_acc: 0.7874 train_err: 0.33470523156845866 train_acc: 0.878\n",
            "iter: 730 test_err: 0.4706780013691991 test_acc: 0.7794 train_err: 0.3617620950722641 train_acc: 0.861\n",
            "iter: 740 test_err: 0.4610412969409039 test_acc: 0.7775 train_err: 0.31722843659156014 train_acc: 0.88\n",
            "iter: 750 test_err: 0.47035311939025704 test_acc: 0.7843 train_err: 0.3541762913621097 train_acc: 0.869\n",
            "iter: 760 test_err: 0.4647268298360677 test_acc: 0.7822 train_err: 0.34062278770899035 train_acc: 0.868\n",
            "iter: 770 test_err: 0.47144208063201803 test_acc: 0.7836 train_err: 0.3543214289218552 train_acc: 0.849\n",
            "iter: 780 test_err: 0.47222560233645233 test_acc: 0.7763 train_err: 0.3426863302650944 train_acc: 0.866\n",
            "iter: 790 test_err: 0.4654713343584056 test_acc: 0.7778 train_err: 0.3517485025784093 train_acc: 0.866\n",
            "iter: 799 test_err: 0.46982652015063925 test_acc: 0.78 train_err: 0.3353766271409308 train_acc: 0.864\n"
          ],
          "name": "stdout"
        }
      ]
    },
    {
      "cell_type": "code",
      "metadata": {
        "colab": {
          "base_uri": "https://localhost:8080/",
          "height": 314
        },
        "id": "LlKni4kgL7gi",
        "outputId": "81eac68e-d242-4cdc-eb31-31265d0675ae"
      },
      "source": [
        "ix=np.random.randint(len(x_test))\n",
        "imshow(x_test[ix])"
      ],
      "execution_count": 104,
      "outputs": [
        {
          "output_type": "execute_result",
          "data": {
            "text/plain": [
              "<matplotlib.image.AxesImage at 0x7f6a6c5526a0>"
            ]
          },
          "metadata": {
            "tags": []
          },
          "execution_count": 104
        },
        {
          "output_type": "display_data",
          "data": {
            "image/png": "[encoded data removed]",
            "text/plain": [
              "<Figure size 432x288 with 1 Axes>"
            ]
          },
          "metadata": {
            "tags": [],
            "needs_background": "light"
          }
        }
      ]
    },
    {
      "cell_type": "code",
      "metadata": {
        "colab": {
          "base_uri": "https://localhost:8080/"
        },
        "id": "EtV_CUawNr2J",
        "outputId": "98bf2a63-6b75-43ad-c249-f0a99a436cc6"
      },
      "source": [
        "inpt=x_test[ix].reshape(28*28)/255\n",
        "pred=np.dot(relu(np.dot(inpt,W01)),W12)\n",
        "print(np.argmax(pred))"
      ],
      "execution_count": 105,
      "outputs": [
        {
          "output_type": "stream",
          "text": [
            "1\n"
          ],
          "name": "stdout"
        }
      ]
    },
    {
      "cell_type": "markdown",
      "metadata": {
        "id": "iEM8BF7GcwVB"
      },
      "source": [
        "**Пакетный градиентный спуск** "
      ]
    },
    {
      "cell_type": "code",
      "metadata": {
        "colab": {
          "base_uri": "https://localhost:8080/"
        },
        "id": "_HtJdSOMUcbW",
        "outputId": "b62dbbd4-9802-4389-ebd0-a1bf26b78471"
      },
      "source": [
        "batch_size=100\n",
        "learning_rate, niter= (0.001,600)\n",
        "hidden_size, pix_per_img, num_labels = (100,784,10)\n",
        "W01=0.2*np.random.random((pix_per_img,hidden_size)) - 0.1\n",
        "W12=0.2*np.random.random((hidden_size,num_labels)) - 0.1\n",
        "for j in range(0,niter):\n",
        "  error, correct_cnt=(0.0,0)\n",
        "  for i in range(0,int(len(images)/batch_size)):\n",
        "    batch_start, batch_end= i*batch_size, (i+1)*batch_size\n",
        "    l0=images[batch_start:batch_end]\n",
        "    l1=relu(np.dot(l0,W01))\n",
        "    dropout_mask=np.random.randint(2,size=l1.shape)\n",
        "    l1*=dropout_mask*2\n",
        "    l2=np.dot(l1,W12)\n",
        "\n",
        "    error+=np.sum((labels[batch_start:batch_end]-l2)**2)\n",
        "    for k in range(batch_size):\n",
        "      correct_cnt+=int(np.argmax(l2[k:k+1])==np.argmax(labels[batch_start+k:batch_end+k+1]))\n",
        "    l2_delta=labels[batch_start:batch_end]-l2\n",
        "    l1_delta=np.dot(l2_delta,W12.T)*relu2div(l1)\n",
        "    l1_delta*=dropout_mask\n",
        "    W12+=learning_rate*l1.T.dot(l2_delta)\n",
        "    W01+=learning_rate*l0.T.dot(l1_delta)\n",
        "  if (j%10==0 or j==niter-1):\n",
        "    test_error=0\n",
        "    test_correct_cnt=0\n",
        "    for i in range(len(test_images)):\n",
        "      l0=test_images[i:i+1]\n",
        "      l1=relu(np.dot(l0,W01))\n",
        "      l2=np.dot(l1,W12)\n",
        "      test_error+=np.sum((test_labels[i:i+1]-l2)**2)\n",
        "      test_correct_cnt+=int(np.argmax(test_labels[i:i+1])==np.argmax(l2))\n",
        "    print('iter: {} test_err: {} test_acc: {} train_err: {} train_acc: {}'.format(j,test_error/float(len(test_images)),test_correct_cnt/float(len(test_images)),error/float(len(labels)),correct_cnt/(float(len(labels)))   ))   \n"
      ],
      "execution_count": 20,
      "outputs": [
        {
          "output_type": "stream",
          "text": [
            "iter: 0 test_err: 0.8016996697162401 test_acc: 0.4131 train_err: 1.2668723338407635 train_acc: 0.218\n",
            "iter: 10 test_err: 0.5618209712531609 test_acc: 0.7211 train_err: 0.6082550063362213 train_acc: 0.687\n",
            "iter: 20 test_err: 0.5059444298062556 test_acc: 0.7603 train_err: 0.5435232905743903 train_acc: 0.702\n",
            "iter: 30 test_err: 0.4770136549046433 test_acc: 0.7814 train_err: 0.4906698466365071 train_acc: 0.77\n",
            "iter: 40 test_err: 0.457236743639895 test_acc: 0.7915 train_err: 0.4873980994797779 train_acc: 0.758\n",
            "iter: 50 test_err: 0.44698804957363847 test_acc: 0.7977 train_err: 0.46568168179792613 train_acc: 0.776\n",
            "iter: 60 test_err: 0.4388809227260435 test_acc: 0.7995 train_err: 0.4554476004240638 train_acc: 0.788\n",
            "iter: 70 test_err: 0.4413734366066844 test_acc: 0.8009 train_err: 0.4591177678470229 train_acc: 0.782\n",
            "iter: 80 test_err: 0.43646558544038827 test_acc: 0.8037 train_err: 0.44690949604885116 train_acc: 0.793\n",
            "iter: 90 test_err: 0.43516140562716527 test_acc: 0.8071 train_err: 0.434390240035223 train_acc: 0.807\n",
            "iter: 100 test_err: 0.4341776730052199 test_acc: 0.8099 train_err: 0.42742867457011413 train_acc: 0.819\n",
            "iter: 110 test_err: 0.4353541488125964 test_acc: 0.805 train_err: 0.4353806698218369 train_acc: 0.792\n",
            "iter: 120 test_err: 0.4322540542432357 test_acc: 0.8082 train_err: 0.4242117459871131 train_acc: 0.818\n",
            "iter: 130 test_err: 0.4369253197848351 test_acc: 0.8075 train_err: 0.4249945847842185 train_acc: 0.816\n",
            "iter: 140 test_err: 0.43354971347360927 test_acc: 0.805 train_err: 0.4254470405242964 train_acc: 0.812\n",
            "iter: 150 test_err: 0.4353287727124163 test_acc: 0.8077 train_err: 0.41554130870089295 train_acc: 0.819\n",
            "iter: 160 test_err: 0.43253219986431723 test_acc: 0.8064 train_err: 0.4085025540026595 train_acc: 0.825\n",
            "iter: 170 test_err: 0.43214123926653036 test_acc: 0.8104 train_err: 0.4172688645614031 train_acc: 0.83\n",
            "iter: 180 test_err: 0.42990020367918386 test_acc: 0.8067 train_err: 0.4132845109240416 train_acc: 0.819\n",
            "iter: 190 test_err: 0.42633130971314115 test_acc: 0.8068 train_err: 0.40254848662018744 train_acc: 0.84\n",
            "iter: 200 test_err: 0.421754629414624 test_acc: 0.8072 train_err: 0.3882905877042887 train_acc: 0.838\n",
            "iter: 210 test_err: 0.42477470918963045 test_acc: 0.8086 train_err: 0.39998693166934257 train_acc: 0.828\n",
            "iter: 220 test_err: 0.4235966351492461 test_acc: 0.8083 train_err: 0.4025564278322526 train_acc: 0.842\n",
            "iter: 230 test_err: 0.41985969071322016 test_acc: 0.8086 train_err: 0.38780253976615964 train_acc: 0.832\n",
            "iter: 240 test_err: 0.4216164744965917 test_acc: 0.8122 train_err: 0.4021705184270492 train_acc: 0.844\n",
            "iter: 250 test_err: 0.41972835200035724 test_acc: 0.8078 train_err: 0.3872145170583168 train_acc: 0.848\n",
            "iter: 260 test_err: 0.42162294428298874 test_acc: 0.8122 train_err: 0.3961405635918543 train_acc: 0.839\n",
            "iter: 270 test_err: 0.4142592011639437 test_acc: 0.8089 train_err: 0.37196676677572676 train_acc: 0.859\n",
            "iter: 280 test_err: 0.4118297090043602 test_acc: 0.8142 train_err: 0.37307141719394127 train_acc: 0.86\n",
            "iter: 290 test_err: 0.4148367184045929 test_acc: 0.8151 train_err: 0.3799751157660668 train_acc: 0.86\n",
            "iter: 300 test_err: 0.41301228627793335 test_acc: 0.8128 train_err: 0.3745456803963189 train_acc: 0.848\n",
            "iter: 310 test_err: 0.41131984082005335 test_acc: 0.8187 train_err: 0.3687999433900263 train_acc: 0.863\n",
            "iter: 320 test_err: 0.40924925965250364 test_acc: 0.8173 train_err: 0.37281322107454185 train_acc: 0.863\n",
            "iter: 330 test_err: 0.40692955403706577 test_acc: 0.8149 train_err: 0.3627446060071577 train_acc: 0.863\n",
            "iter: 340 test_err: 0.41135267344726983 test_acc: 0.8122 train_err: 0.3679954520279272 train_acc: 0.864\n",
            "iter: 350 test_err: 0.40678069501423864 test_acc: 0.8139 train_err: 0.3704656201165912 train_acc: 0.864\n",
            "iter: 360 test_err: 0.4140166955889786 test_acc: 0.8088 train_err: 0.37992576236572273 train_acc: 0.853\n",
            "iter: 370 test_err: 0.40599314558909005 test_acc: 0.8103 train_err: 0.3648605709693491 train_acc: 0.866\n",
            "iter: 380 test_err: 0.4086607389114417 test_acc: 0.806 train_err: 0.3625659424817469 train_acc: 0.867\n",
            "iter: 390 test_err: 0.4053509110467953 test_acc: 0.8109 train_err: 0.3473281673533193 train_acc: 0.874\n",
            "iter: 400 test_err: 0.4036653755006957 test_acc: 0.8129 train_err: 0.35851065593949977 train_acc: 0.86\n",
            "iter: 410 test_err: 0.4071020527864194 test_acc: 0.8115 train_err: 0.3476970547779725 train_acc: 0.87\n",
            "iter: 420 test_err: 0.4083783609140877 test_acc: 0.8109 train_err: 0.36494711262305873 train_acc: 0.86\n",
            "iter: 430 test_err: 0.40659539476005385 test_acc: 0.8055 train_err: 0.3600008924847892 train_acc: 0.878\n",
            "iter: 440 test_err: 0.40436666559640666 test_acc: 0.8127 train_err: 0.3482014049729914 train_acc: 0.872\n",
            "iter: 450 test_err: 0.4073117112662969 test_acc: 0.8082 train_err: 0.3541689943450676 train_acc: 0.881\n",
            "iter: 460 test_err: 0.4077861624781328 test_acc: 0.8112 train_err: 0.35765855837362326 train_acc: 0.872\n",
            "iter: 470 test_err: 0.4041192512128046 test_acc: 0.8095 train_err: 0.3584137236254255 train_acc: 0.868\n",
            "iter: 480 test_err: 0.40388678181178717 test_acc: 0.8163 train_err: 0.3547372173048697 train_acc: 0.862\n",
            "iter: 490 test_err: 0.4051268714188818 test_acc: 0.8094 train_err: 0.34758067552236827 train_acc: 0.883\n",
            "iter: 500 test_err: 0.4070692462077368 test_acc: 0.8104 train_err: 0.3523177140303286 train_acc: 0.874\n",
            "iter: 510 test_err: 0.40887239269577746 test_acc: 0.8105 train_err: 0.34713026318658896 train_acc: 0.87\n",
            "iter: 520 test_err: 0.4079723648446945 test_acc: 0.8078 train_err: 0.3516192233269868 train_acc: 0.875\n",
            "iter: 530 test_err: 0.4100030394710645 test_acc: 0.8061 train_err: 0.3509996267643781 train_acc: 0.878\n",
            "iter: 540 test_err: 0.4055214196124016 test_acc: 0.8119 train_err: 0.3546703038494576 train_acc: 0.874\n",
            "iter: 550 test_err: 0.40661136727128 test_acc: 0.8127 train_err: 0.3492976175430891 train_acc: 0.873\n",
            "iter: 560 test_err: 0.4087398872719205 test_acc: 0.8106 train_err: 0.35597222346009394 train_acc: 0.878\n",
            "iter: 570 test_err: 0.4082068246784489 test_acc: 0.8087 train_err: 0.35926745977660085 train_acc: 0.875\n",
            "iter: 580 test_err: 0.40749215645198106 test_acc: 0.8106 train_err: 0.3485784876185693 train_acc: 0.871\n",
            "iter: 590 test_err: 0.4071024401115119 test_acc: 0.8137 train_err: 0.34496631476996936 train_acc: 0.867\n",
            "iter: 599 test_err: 0.4114149573253894 test_acc: 0.8093 train_err: 0.3578321132990932 train_acc: 0.867\n"
          ],
          "name": "stdout"
        }
      ]
    },
    {
      "cell_type": "code",
      "metadata": {
        "colab": {
          "base_uri": "https://localhost:8080/",
          "height": 314
        },
        "id": "dpHT8_Ajh6BN",
        "outputId": "6c6da33a-f54f-4b23-d4eb-e6e61f2f1dc1"
      },
      "source": [
        "ix=np.random.randint(len(x_test))\n",
        "imshow(x_test[ix])"
      ],
      "execution_count": 17,
      "outputs": [
        {
          "output_type": "execute_result",
          "data": {
            "text/plain": [
              "<matplotlib.image.AxesImage at 0x7f7cb933f4a8>"
            ]
          },
          "metadata": {
            "tags": []
          },
          "execution_count": 17
        },
        {
          "output_type": "display_data",
          "data": {
            "image/png": "[encoded data removed]",
            "text/plain": [
              "<Figure size 432x288 with 1 Axes>"
            ]
          },
          "metadata": {
            "tags": [],
            "needs_background": "light"
          }
        }
      ]
    },
    {
      "cell_type": "code",
      "metadata": {
        "colab": {
          "base_uri": "https://localhost:8080/"
        },
        "id": "-jYBK_gHh80z",
        "outputId": "172aee6f-0d9d-47c5-885c-f2a53750fc3c"
      },
      "source": [
        "inpt=x_test[ix].reshape(28*28)/255\n",
        "pred=np.dot(relu(np.dot(inpt,W01)),W12)\n",
        "print(np.argmax(pred))"
      ],
      "execution_count": 18,
      "outputs": [
        {
          "output_type": "stream",
          "text": [
            "6\n"
          ],
          "name": "stdout"
        }
      ]
    }
  ]
}