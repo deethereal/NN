{
  "nbformat": 4,
  "nbformat_minor": 0,
  "metadata": {
    "colab": {
      "name": "MNIST.ipynb",
      "provenance": [],
      "collapsed_sections": [],
      "authorship_tag": "ABX9TyPokJgy0MVo6qp5cjOwOH8V",
      "include_colab_link": true
    },
    "kernelspec": {
      "name": "python3",
      "display_name": "Python 3"
    }
  },
  "cells": [
    {
      "cell_type": "markdown",
      "metadata": {
        "id": "view-in-github",
        "colab_type": "text"
      },
      "source": [
        "<a href=\"https://colab.research.google.com/github/deethereal/MNIST/blob/main/MNIST.ipynb\" target=\"_parent\"><img src=\"https://colab.research.google.com/assets/colab-badge.svg\" alt=\"Open In Colab\"/></a>"
      ]
    },
    {
      "cell_type": "code",
      "metadata": {
        "id": "b7LfsIwcsLDC"
      },
      "source": [
        "import sys, numpy as np\n",
        "from keras.datasets import mnist\n",
        "(x_train,y_train),(x_test,y_test)=mnist.load_data()"
      ],
      "execution_count": 1,
      "outputs": []
    },
    {
      "cell_type": "code",
      "metadata": {
        "id": "I7z_Zx23Li7Q"
      },
      "source": [
        "from skimage.io import imread,imshow\n"
      ],
      "execution_count": 7,
      "outputs": []
    },
    {
      "cell_type": "markdown",
      "metadata": {
        "id": "gKYFZvOucnJC"
      },
      "source": [
        "**Cтаохастический градиентный спуск**"
      ]
    },
    {
      "cell_type": "code",
      "metadata": {
        "id": "slZ8fFqQsNTS"
      },
      "source": [
        "\n",
        "images, labels=(x_train[0:1000].reshape(1000,28*28)/255,y_train[0:1000])\n",
        "#one_hot_labels=np.eye((len(labels),10))\n",
        "one_hot_labels=np.zeros((len(labels),10))\n",
        "for i,l in enumerate(labels):\n",
        "  one_hot_labels[i][l]=1\n",
        "labels=one_hot_labels\n",
        "\n",
        "\n",
        "test_images=(x_test.reshape((len(x_test),28*28))/255)\n",
        "test_labels= np.zeros((len(y_test),10))\n",
        "for i,l in enumerate(y_test):\n",
        "  test_labels[i][l]=1\n",
        "\n",
        "np.random.seed(1)\n",
        "relu=lambda x: (x>=0)*x\n",
        "relu2div=lambda x: (x>=0)"
      ],
      "execution_count": 3,
      "outputs": []
    },
    {
      "cell_type": "code",
      "metadata": {
        "colab": {
          "base_uri": "https://localhost:8080/"
        },
        "id": "wnuqHYtmc7r1",
        "outputId": "11ceaebe-e9b0-4503-b3b6-88b14f39003b"
      },
      "source": [
        "\n",
        "learning_rate, niter, hidden_size, pix_per_img, num_labels = (0.005,400,40,784,10)\n",
        "W01=0.2*np.random.random((pix_per_img,hidden_size)) - 0.1\n",
        "W12=0.2*np.random.random((hidden_size,num_labels)) - 0.1\n",
        "\n",
        "for j in range(niter):\n",
        "  error,correct_cnt=(0.0,0)\n",
        "  #print(error)\n",
        "  for i in range(len(images)):\n",
        "    l0=images[i:i+1]\n",
        "    l1=relu(np.dot(l0,W01))\n",
        "    drop_out_mask=np.random.randint(2,size=l1.shape) #распределение бернули: выключеаем 50% нейронов\n",
        "    l1*=drop_out_mask*2\n",
        "    l2=np.dot(l1,W12)\n",
        "    \n",
        "    error += np.sum((labels[i:i+1]-l2)**2)\n",
        "    correct_cnt+= int(np.argmax(l2)==np.argmax(labels[i:i+1]))\n",
        "\n",
        "    delta_l2=labels[i:i+1]-l2\n",
        "    delta_l1=delta_l2.dot(W12.T)*relu2div(l1)\n",
        "    delta_l1*=drop_out_mask\n",
        "\n",
        "    W12+=learning_rate*l1.T.dot(delta_l2)\n",
        "    W01+=learning_rate*l0.T.dot(delta_l1)\n",
        "  if (j%10==0 or j==niter-1):\n",
        "    test_error=0\n",
        "    test_correct_cnt=0\n",
        "    for i in range(len(test_images)):\n",
        "      l0=test_images[i:i+1]\n",
        "      l1=relu(np.dot(l0,W01))\n",
        "      l2=np.dot(l1,W12)\n",
        "      test_error+=np.sum((test_labels[i:i+1]-l2)**2)\n",
        "      test_correct_cnt+=int(np.argmax(test_labels[i:i+1])==np.argmax(l2))\n",
        "    print('iter: {} test_err: {} test_acc: {} train_err: {} train_acc: {}'.format(j,test_error/float(len(test_images)),test_correct_cnt/float(len(test_images)),error/float(len(labels)),correct_cnt/float(len(labels))   ))    \n",
        "    "
      ],
      "execution_count": 123,
      "outputs": [
        {
          "output_type": "stream",
          "text": [
            "0\n",
            "iter: 0 test_err: 0.7163988157461046 test_acc: 0.5704 train_err: 0.8821437370125721 train_acc: 0.31\n",
            "iter: 10 test_err: 0.4929807103712133 test_acc: 0.756 train_err: 0.5858574118187717 train_acc: 0.644\n",
            "iter: 20 test_err: 0.45741095146826694 test_acc: 0.7796 train_err: 0.5196477010076141 train_acc: 0.706\n",
            "iter: 30 test_err: 0.4536324499862527 test_acc: 0.7889 train_err: 0.49192752520297767 train_acc: 0.728\n",
            "iter: 40 test_err: 0.41471029044133156 test_acc: 0.796 train_err: 0.4539598076769416 train_acc: 0.772\n",
            "iter: 50 test_err: 0.4177994083328301 test_acc: 0.8103 train_err: 0.4470937511990219 train_acc: 0.767\n",
            "iter: 60 test_err: 0.412319983037637 test_acc: 0.8159 train_err: 0.43332248943966 train_acc: 0.778\n",
            "iter: 70 test_err: 0.4076880916999572 test_acc: 0.8155 train_err: 0.4216881960491897 train_acc: 0.809\n",
            "iter: 80 test_err: 0.3980667731069786 test_acc: 0.8241 train_err: 0.41675626722106807 train_acc: 0.792\n",
            "iter: 90 test_err: 0.4090829453250262 test_acc: 0.8255 train_err: 0.4293285662779328 train_acc: 0.803\n",
            "iter: 100 test_err: 0.4019019611810707 test_acc: 0.8255 train_err: 0.412127114395812 train_acc: 0.81\n",
            "iter: 110 test_err: 0.39601962121912404 test_acc: 0.822 train_err: 0.39830211751124844 train_acc: 0.818\n",
            "iter: 120 test_err: 0.39703553836083666 test_acc: 0.8266 train_err: 0.4159108392888646 train_acc: 0.801\n",
            "iter: 130 test_err: 0.39599258795829995 test_acc: 0.826 train_err: 0.39195278117177357 train_acc: 0.823\n",
            "iter: 140 test_err: 0.40573127533695125 test_acc: 0.8298 train_err: 0.3775970225576167 train_acc: 0.827\n",
            "iter: 150 test_err: 0.39042698574640833 test_acc: 0.8247 train_err: 0.3900520012117997 train_acc: 0.827\n",
            "iter: 160 test_err: 0.3947172749647374 test_acc: 0.8204 train_err: 0.39138343319150204 train_acc: 0.827\n",
            "iter: 170 test_err: 0.3939410148655767 test_acc: 0.8248 train_err: 0.3975005493135112 train_acc: 0.833\n",
            "iter: 180 test_err: 0.39587014138925497 test_acc: 0.8255 train_err: 0.3781048535027676 train_acc: 0.825\n",
            "iter: 190 test_err: 0.3938306132281334 test_acc: 0.8189 train_err: 0.34295682878327993 train_acc: 0.867\n",
            "iter: 200 test_err: 0.3995239394700313 test_acc: 0.8211 train_err: 0.3828838175102866 train_acc: 0.831\n",
            "iter: 210 test_err: 0.38658029466334953 test_acc: 0.8193 train_err: 0.36950975561334404 train_acc: 0.834\n",
            "iter: 220 test_err: 0.38632671540668595 test_acc: 0.8256 train_err: 0.37395923811709847 train_acc: 0.829\n",
            "iter: 230 test_err: 0.39476462311910404 test_acc: 0.824 train_err: 0.3801688029182357 train_acc: 0.842\n",
            "iter: 240 test_err: 0.4010426813540213 test_acc: 0.8216 train_err: 0.36738746876486394 train_acc: 0.835\n",
            "iter: 250 test_err: 0.40126889614557165 test_acc: 0.8226 train_err: 0.36966760726235687 train_acc: 0.835\n",
            "iter: 260 test_err: 0.4030312185115947 test_acc: 0.819 train_err: 0.36151847735126946 train_acc: 0.847\n",
            "iter: 270 test_err: 0.4037276364009783 test_acc: 0.8099 train_err: 0.36207297956915224 train_acc: 0.848\n",
            "iter: 280 test_err: 0.4044736896019548 test_acc: 0.8165 train_err: 0.3472060885891379 train_acc: 0.849\n",
            "iter: 290 test_err: 0.39830889737848074 test_acc: 0.8107 train_err: 0.36010794589288814 train_acc: 0.832\n",
            "iter: 300 test_err: 0.40563727124672055 test_acc: 0.8056 train_err: 0.3515997300212379 train_acc: 0.839\n",
            "iter: 310 test_err: 0.40290186976379117 test_acc: 0.8047 train_err: 0.35707783591727893 train_acc: 0.842\n",
            "iter: 320 test_err: 0.40266608988123265 test_acc: 0.8064 train_err: 0.34933136874119847 train_acc: 0.845\n",
            "iter: 330 test_err: 0.4001316145646418 test_acc: 0.8084 train_err: 0.3580574800959465 train_acc: 0.839\n",
            "iter: 340 test_err: 0.41108864616046464 test_acc: 0.8041 train_err: 0.34242411920731985 train_acc: 0.85\n",
            "iter: 350 test_err: 0.4047910576770388 test_acc: 0.7965 train_err: 0.3396784247033289 train_acc: 0.851\n",
            "iter: 360 test_err: 0.4144154648548236 test_acc: 0.7995 train_err: 0.3455844289602286 train_acc: 0.86\n",
            "iter: 370 test_err: 0.418580140275675 test_acc: 0.7856 train_err: 0.35668487666343124 train_acc: 0.853\n",
            "iter: 380 test_err: 0.42112319062165854 test_acc: 0.7888 train_err: 0.3352192008616638 train_acc: 0.867\n",
            "iter: 390 test_err: 0.41615966582608127 test_acc: 0.7867 train_err: 0.34275001769412694 train_acc: 0.854\n",
            "iter: 399 test_err: 0.4031214953066423 test_acc: 0.8031 train_err: 0.3624747178434162 train_acc: 0.84\n"
          ],
          "name": "stdout"
        }
      ]
    },
    {
      "cell_type": "code",
      "metadata": {
        "colab": {
          "base_uri": "https://localhost:8080/",
          "height": 314
        },
        "id": "LlKni4kgL7gi",
        "outputId": "81eac68e-d242-4cdc-eb31-31265d0675ae"
      },
      "source": [
        "ix=np.random.randint(1000)\n",
        "\n",
        "imshow(x_train[ix])\n",
        "\n"
      ],
      "execution_count": 104,
      "outputs": [
        {
          "output_type": "execute_result",
          "data": {
            "text/plain": [
              "<matplotlib.image.AxesImage at 0x7f6a6c5526a0>"
            ]
          },
          "metadata": {
            "tags": []
          },
          "execution_count": 104
        },
        {
          "output_type": "display_data",
          "data": {
            "image/png": "[encoded data removed]",
            "text/plain": [
              "<Figure size 432x288 with 1 Axes>"
            ]
          },
          "metadata": {
            "tags": [],
            "needs_background": "light"
          }
        }
      ]
    },
    {
      "cell_type": "code",
      "metadata": {
        "colab": {
          "base_uri": "https://localhost:8080/"
        },
        "id": "EtV_CUawNr2J",
        "outputId": "98bf2a63-6b75-43ad-c249-f0a99a436cc6"
      },
      "source": [
        "inpt=x_train[ix].reshape(28*28)/255\n",
        "pred=np.dot(relu(np.dot(inpt,W01)),W12)\n",
        "print(np.argmax(pred))"
      ],
      "execution_count": 105,
      "outputs": [
        {
          "output_type": "stream",
          "text": [
            "1\n"
          ],
          "name": "stdout"
        }
      ]
    },
    {
      "cell_type": "markdown",
      "metadata": {
        "id": "iEM8BF7GcwVB"
      },
      "source": [
        "**Пакетный градиентный спуск** "
      ]
    },
    {
      "cell_type": "code",
      "metadata": {
        "colab": {
          "base_uri": "https://localhost:8080/"
        },
        "id": "_HtJdSOMUcbW",
        "outputId": "44809d7c-ccd8-4ccb-e15d-cb9895611bc8"
      },
      "source": [
        "batch_size=100\n",
        "learning_rate, niter= (0.001,300)\n",
        "hidden_size, pix_per_img, num_labels = (100,784,10)\n",
        "W01=0.2*np.random.random((pix_per_img,hidden_size)) - 0.1\n",
        "W12=0.2*np.random.random((hidden_size,num_labels)) - 0.1\n",
        "for j in range(0,niter):\n",
        "  error, correct_cnt=(0.0,0)\n",
        "  for i in range(0,int(len(images)/batch_size)):\n",
        "    batch_start, batch_end= i*batch_size, (i+1)*batch_size\n",
        "    l0=images[batch_start:batch_end]\n",
        "    l1=relu(np.dot(l0,W01))\n",
        "    dropout_mask=np.random.randint(2,size=l1.shape)\n",
        "    l1*=dropout_mask\n",
        "    l2=np.dot(l1,W12)\n",
        "\n",
        "    error+=np.sum((labels[batch_start:batch_end]-l2)**2)\n",
        "    for k in range(batch_size):\n",
        "      correct_cnt+=int(np.argmax(l2[k:k+1])==np.argmax(labels[k:k+1]))\n",
        "    l2_delta=labels[batch_start:batch_end]-l2\n",
        "    l1_delta=np.dot(l2_delta,W12.T)*relu2div(l1)\n",
        "    l1_delta*=dropout_mask\n",
        "    W12+=learning_rate*l1.T.dot(l2_delta)\n",
        "    W01+=learning_rate*l0.T.dot(l1_delta)\n",
        "  if (j%10==0 or j==niter-1):\n",
        "    test_error=0\n",
        "    test_correct_cnt=0\n",
        "    for i in range(len(test_images)):\n",
        "      l0=test_images[i:i+1]\n",
        "      l1=relu(np.dot(l0,W01))\n",
        "      l2=np.dot(l1,W12)\n",
        "      test_error+=np.sum((test_labels[i:i+1]-l2)**2)\n",
        "      test_correct_cnt+=int(np.argmax(test_labels[i:i+1])==np.argmax(l2))\n",
        "    print('iter: {} test_err: {} test_acc: {} train_err: {} train_acc: {}'.format(j,test_error/float(len(test_images)),test_correct_cnt/float(len(test_images)),error/float(len(labels)),correct_cnt/float(len(labels))   ))   \n"
      ],
      "execution_count": 6,
      "outputs": [
        {
          "output_type": "stream",
          "text": [
            "iter: 0 test_err: 0.9453167752645497 test_acc: 0.3144 train_err: 0.9813704781312237 train_acc: 0.094\n",
            "iter: 10 test_err: 0.665406447459822 test_acc: 0.7 train_err: 0.6341978802608749 train_acc: 0.155\n",
            "iter: 20 test_err: 0.6284911015514824 test_acc: 0.7561 train_err: 0.5567713829543737 train_acc: 0.172\n",
            "iter: 30 test_err: 0.6133780453935295 test_acc: 0.7954 train_err: 0.5091055721682615 train_acc: 0.161\n",
            "iter: 40 test_err: 0.6375007360699395 test_acc: 0.8096 train_err: 0.48243550635207727 train_acc: 0.168\n",
            "iter: 50 test_err: 0.6541850496440292 test_acc: 0.8119 train_err: 0.4601990427665663 train_acc: 0.178\n",
            "iter: 60 test_err: 0.6805699855217097 test_acc: 0.8121 train_err: 0.44966222684373036 train_acc: 0.169\n",
            "iter: 70 test_err: 0.6996746811787273 test_acc: 0.8149 train_err: 0.43110826849871386 train_acc: 0.175\n",
            "iter: 80 test_err: 0.7291351983293802 test_acc: 0.8124 train_err: 0.43704487004333503 train_acc: 0.174\n",
            "iter: 90 test_err: 0.7630552390459217 test_acc: 0.8092 train_err: 0.424297174764125 train_acc: 0.178\n",
            "iter: 100 test_err: 0.7627297574384334 test_acc: 0.8114 train_err: 0.41854041376424006 train_acc: 0.17\n",
            "iter: 110 test_err: 0.7630641405347119 test_acc: 0.8115 train_err: 0.4137121827311703 train_acc: 0.168\n",
            "iter: 120 test_err: 0.7714896568522366 test_acc: 0.8123 train_err: 0.4230064414584246 train_acc: 0.176\n",
            "iter: 130 test_err: 0.8211448280782033 test_acc: 0.8079 train_err: 0.41271192397329604 train_acc: 0.181\n",
            "iter: 140 test_err: 0.8240421314871524 test_acc: 0.8069 train_err: 0.41090166501033304 train_acc: 0.175\n",
            "iter: 150 test_err: 0.8286576322079254 test_acc: 0.804 train_err: 0.4101826027894207 train_acc: 0.178\n",
            "iter: 160 test_err: 0.8577558152666528 test_acc: 0.805 train_err: 0.39662128800738305 train_acc: 0.18\n",
            "iter: 170 test_err: 0.8393311678788463 test_acc: 0.8052 train_err: 0.4099198675937567 train_acc: 0.175\n",
            "iter: 180 test_err: 0.84670100046034 test_acc: 0.8047 train_err: 0.38550926657684814 train_acc: 0.178\n",
            "iter: 190 test_err: 0.8422814069467924 test_acc: 0.8055 train_err: 0.38328087741183603 train_acc: 0.179\n",
            "iter: 200 test_err: 0.849590437968896 test_acc: 0.7998 train_err: 0.3992420800334603 train_acc: 0.181\n",
            "iter: 210 test_err: 0.8348362189644087 test_acc: 0.8029 train_err: 0.3965811762506064 train_acc: 0.176\n",
            "iter: 220 test_err: 0.8524926570902859 test_acc: 0.7976 train_err: 0.3824584793505853 train_acc: 0.184\n",
            "iter: 230 test_err: 0.8570368799652007 test_acc: 0.803 train_err: 0.4012938729923558 train_acc: 0.173\n",
            "iter: 240 test_err: 0.8565738612869931 test_acc: 0.8032 train_err: 0.3875480124535443 train_acc: 0.184\n",
            "iter: 250 test_err: 0.8578778900426214 test_acc: 0.7992 train_err: 0.37103049657091414 train_acc: 0.177\n",
            "iter: 260 test_err: 0.8343919713396936 test_acc: 0.8015 train_err: 0.38416916821915364 train_acc: 0.176\n",
            "iter: 270 test_err: 0.8521057522628281 test_acc: 0.8019 train_err: 0.3811489306943462 train_acc: 0.173\n",
            "iter: 280 test_err: 0.8407867524530076 test_acc: 0.8057 train_err: 0.3803204162090638 train_acc: 0.162\n",
            "iter: 290 test_err: 0.8257381355165504 test_acc: 0.805 train_err: 0.3815741715957544 train_acc: 0.18\n",
            "iter: 299 test_err: 0.8522629735417547 test_acc: 0.804 train_err: 0.3660590314187015 train_acc: 0.179\n"
          ],
          "name": "stdout"
        }
      ]
    },
    {
      "cell_type": "code",
      "metadata": {
        "id": "qTwqthEeh51R"
      },
      "source": [
        ""
      ],
      "execution_count": null,
      "outputs": []
    },
    {
      "cell_type": "code",
      "metadata": {
        "colab": {
          "base_uri": "https://localhost:8080/",
          "height": 314
        },
        "id": "dpHT8_Ajh6BN",
        "outputId": "4ca931e0-bc83-4761-b315-e25e1e1022d7"
      },
      "source": [
        "ix=np.random.randint(1000)\n",
        "\n",
        "imshow(x_train[ix])\n",
        "\n"
      ],
      "execution_count": 8,
      "outputs": [
        {
          "output_type": "execute_result",
          "data": {
            "text/plain": [
              "<matplotlib.image.AxesImage at 0x7f7cb99439e8>"
            ]
          },
          "metadata": {
            "tags": []
          },
          "execution_count": 8
        },
        {
          "output_type": "display_data",
          "data": {
            "image/png": "[encoded data removed]",
            "text/plain": [
              "<Figure size 432x288 with 1 Axes>"
            ]
          },
          "metadata": {
            "tags": [],
            "needs_background": "light"
          }
        }
      ]
    },
    {
      "cell_type": "code",
      "metadata": {
        "id": "Xxq3wi0ah8ov"
      },
      "source": [
        ""
      ],
      "execution_count": null,
      "outputs": []
    },
    {
      "cell_type": "code",
      "metadata": {
        "colab": {
          "base_uri": "https://localhost:8080/"
        },
        "id": "-jYBK_gHh80z",
        "outputId": "6673a686-631f-4113-8946-894c695913fd"
      },
      "source": [
        "inpt=x_train[ix].reshape(28*28)/255\n",
        "pred=np.dot(relu(np.dot(inpt,W01)),W12)\n",
        "print(np.argmax(pred))"
      ],
      "execution_count": 9,
      "outputs": [
        {
          "output_type": "stream",
          "text": [
            "7\n"
          ],
          "name": "stdout"
        }
      ]
    }
  ]
}