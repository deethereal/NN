{
  "nbformat": 4,
  "nbformat_minor": 0,
  "metadata": {
    "colab": {
      "name": "MNIST.ipynb",
      "provenance": [],
      "collapsed_sections": [],
      "authorship_tag": "ABX9TyNesJbUj6jogh2PyxS2ZLaC",
      "include_colab_link": true
    },
    "kernelspec": {
      "name": "python3",
      "display_name": "Python 3"
    }
  },
  "cells": [
    {
      "cell_type": "markdown",
      "metadata": {
        "id": "view-in-github",
        "colab_type": "text"
      },
      "source": [
        "<a href=\"https://colab.research.google.com/github/deethereal/NN/blob/main/MNIST/MNIST.ipynb\" target=\"_parent\"><img src=\"https://colab.research.google.com/assets/colab-badge.svg\" alt=\"Open In Colab\"/></a>"
      ]
    },
    {
      "cell_type": "code",
      "metadata": {
        "id": "b7LfsIwcsLDC",
        "colab": {
          "base_uri": "https://localhost:8080/"
        },
        "outputId": "afe08979-ff07-4354-ee51-60868ddbe3d2"
      },
      "source": [
        "import sys, numpy as np, matplotlib.pyplot as plt\n",
        "from keras.datasets import mnist\n",
        "from skimage.io import imread,imshow\n",
        "(x_train,y_train),(x_test,y_test)=mnist.load_data()\n",
        "COUNT=15000\n",
        "images, labels=(x_train[0:COUNT].reshape(COUNT,28*28)/255,y_train[0:COUNT])\n",
        "#one_hot_labels=np.eye((len(labels),10))\n",
        "one_hot_labels=np.zeros((len(labels),10))\n",
        "for i,l in enumerate(labels):\n",
        "  one_hot_labels[i][l]=1\n",
        "labels=one_hot_labels\n",
        "print(len(images)/100)\n",
        "\n",
        "test_images=(x_test.reshape((len(x_test),28*28))/255)\n",
        "test_labels= np.zeros((len(y_test),10))\n",
        "for i,l in enumerate(y_test):\n",
        "  test_labels[i][l]=1"
      ],
      "execution_count": 1,
      "outputs": [
        {
          "output_type": "stream",
          "text": [
            "Downloading data from https://storage.googleapis.com/tensorflow/tf-keras-datasets/mnist.npz\n",
            "11493376/11490434 [==============================] - 0s 0us/step\n",
            "150.0\n"
          ],
          "name": "stdout"
        }
      ]
    },
    {
      "cell_type": "markdown",
      "metadata": {
        "id": "gKYFZvOucnJC"
      },
      "source": [
        "**Cтохастический градиентный спуск**"
      ]
    },
    {
      "cell_type": "code",
      "metadata": {
        "id": "slZ8fFqQsNTS"
      },
      "source": [
        "\n",
        "relu=lambda x: (x>=0)*x\n",
        "relu2div=lambda x: (x>=0)"
      ],
      "execution_count": null,
      "outputs": []
    },
    {
      "cell_type": "code",
      "metadata": {
        "colab": {
          "base_uri": "https://localhost:8080/",
          "height": 238
        },
        "id": "wnuqHYtmc7r1",
        "outputId": "88b3f1bd-d3ad-4da3-f9a9-7ed4ca051a6c"
      },
      "source": [
        "\n",
        "learning_rate, niter, hidden_size, pix_per_img, num_labels = (0.005,800,40,784,10)\n",
        "W01=0.2*np.random.random((pix_per_img,hidden_size)) - 0.1\n",
        "W12=0.2*np.random.random((hidden_size,num_labels)) - 0.1\n",
        "\n",
        "for j in range(niter):\n",
        "  error,correct_cnt=(0.0,0)\n",
        "  #print(error)\n",
        "  for i in range(len(images)):\n",
        "    l0=images[i:i+1]\n",
        "    l1=relu(np.dot(l0,W01))\n",
        "    drop_out_mask=np.random.randint(2,size=l1.shape) #распределение бернули: выключеаем 50% нейронов\n",
        "    l1*=drop_out_mask*2\n",
        "    l2=np.dot(l1,W12)\n",
        "    \n",
        "    error += np.sum((labels[i:i+1]-l2)**2)\n",
        "    correct_cnt+= int(np.argmax(l2)==np.argmax(labels[i:i+1]))\n",
        "\n",
        "    delta_l2=labels[i:i+1]-l2\n",
        "    delta_l1=delta_l2.dot(W12.T)*relu2div(l1)\n",
        "    delta_l1*=drop_out_mask\n",
        "\n",
        "    W12+=learning_rate*l1.T.dot(delta_l2)\n",
        "    W01+=learning_rate*l0.T.dot(delta_l1)\n",
        "  if (j%10==0 or j==niter-1):\n",
        "    test_error=0\n",
        "    test_correct_cnt=0\n",
        "    for i in range(len(test_images)):\n",
        "      l0=test_images[i:i+1]\n",
        "      l1=relu(np.dot(l0,W01))\n",
        "      l2=np.dot(l1,W12)\n",
        "      test_error+=np.sum((test_labels[i:i+1]-l2)**2)\n",
        "      test_correct_cnt+=int(np.argmax(test_labels[i:i+1])==np.argmax(l2))\n",
        "    print('iter: {} test_err: {} test_acc: {} train_err: {} train_acc: {}'.format(j,test_error/float(len(test_images)),test_correct_cnt/float(len(test_images)),error/float(len(labels)),correct_cnt/float(len(labels))   ))    \n",
        "    "
      ],
      "execution_count": null,
      "outputs": [
        {
          "output_type": "error",
          "ename": "NameError",
          "evalue": "ignored",
          "traceback": [
            "\u001b[0;31m---------------------------------------------------------------------------\u001b[0m",
            "\u001b[0;31mNameError\u001b[0m                                 Traceback (most recent call last)",
            "\u001b[0;32m<ipython-input-2-7f6ffaa96a86>\u001b[0m in \u001b[0;36m<module>\u001b[0;34m()\u001b[0m\n\u001b[1;32m      9\u001b[0m   \u001b[0;32mfor\u001b[0m \u001b[0mi\u001b[0m \u001b[0;32min\u001b[0m \u001b[0mrange\u001b[0m\u001b[0;34m(\u001b[0m\u001b[0mlen\u001b[0m\u001b[0;34m(\u001b[0m\u001b[0mimages\u001b[0m\u001b[0;34m)\u001b[0m\u001b[0;34m)\u001b[0m\u001b[0;34m:\u001b[0m\u001b[0;34m\u001b[0m\u001b[0;34m\u001b[0m\u001b[0m\n\u001b[1;32m     10\u001b[0m     \u001b[0ml0\u001b[0m\u001b[0;34m=\u001b[0m\u001b[0mimages\u001b[0m\u001b[0;34m[\u001b[0m\u001b[0mi\u001b[0m\u001b[0;34m:\u001b[0m\u001b[0mi\u001b[0m\u001b[0;34m+\u001b[0m\u001b[0;36m1\u001b[0m\u001b[0;34m]\u001b[0m\u001b[0;34m\u001b[0m\u001b[0;34m\u001b[0m\u001b[0m\n\u001b[0;32m---> 11\u001b[0;31m     \u001b[0ml1\u001b[0m\u001b[0;34m=\u001b[0m\u001b[0mrelu\u001b[0m\u001b[0;34m(\u001b[0m\u001b[0mnp\u001b[0m\u001b[0;34m.\u001b[0m\u001b[0mdot\u001b[0m\u001b[0;34m(\u001b[0m\u001b[0ml0\u001b[0m\u001b[0;34m,\u001b[0m\u001b[0mW01\u001b[0m\u001b[0;34m)\u001b[0m\u001b[0;34m)\u001b[0m\u001b[0;34m\u001b[0m\u001b[0;34m\u001b[0m\u001b[0m\n\u001b[0m\u001b[1;32m     12\u001b[0m     \u001b[0mdrop_out_mask\u001b[0m\u001b[0;34m=\u001b[0m\u001b[0mnp\u001b[0m\u001b[0;34m.\u001b[0m\u001b[0mrandom\u001b[0m\u001b[0;34m.\u001b[0m\u001b[0mrandint\u001b[0m\u001b[0;34m(\u001b[0m\u001b[0;36m2\u001b[0m\u001b[0;34m,\u001b[0m\u001b[0msize\u001b[0m\u001b[0;34m=\u001b[0m\u001b[0ml1\u001b[0m\u001b[0;34m.\u001b[0m\u001b[0mshape\u001b[0m\u001b[0;34m)\u001b[0m \u001b[0;31m#распределение бернули: выключеаем 50% нейронов\u001b[0m\u001b[0;34m\u001b[0m\u001b[0;34m\u001b[0m\u001b[0m\n\u001b[1;32m     13\u001b[0m     \u001b[0ml1\u001b[0m\u001b[0;34m*=\u001b[0m\u001b[0mdrop_out_mask\u001b[0m\u001b[0;34m*\u001b[0m\u001b[0;36m2\u001b[0m\u001b[0;34m\u001b[0m\u001b[0;34m\u001b[0m\u001b[0m\n",
            "\u001b[0;31mNameError\u001b[0m: name 'relu' is not defined"
          ]
        }
      ]
    },
    {
      "cell_type": "code",
      "metadata": {
        "colab": {
          "base_uri": "https://localhost:8080/",
          "height": 314
        },
        "id": "LlKni4kgL7gi",
        "outputId": "81eac68e-d242-4cdc-eb31-31265d0675ae"
      },
      "source": [
        "ix=np.random.randint(len(x_test))\n",
        "imshow(x_test[ix])"
      ],
      "execution_count": null,
      "outputs": [
        {
          "output_type": "execute_result",
          "data": {
            "text/plain": [
              "<matplotlib.image.AxesImage at 0x7f6a6c5526a0>"
            ]
          },
          "metadata": {
            "tags": []
          },
          "execution_count": 104
        },
        {
          "output_type": "display_data",
          "data": {
            "image/png": "[encoded data removed]",
            "text/plain": [
              "<Figure size 432x288 with 1 Axes>"
            ]
          },
          "metadata": {
            "tags": [],
            "needs_background": "light"
          }
        }
      ]
    },
    {
      "cell_type": "code",
      "metadata": {
        "colab": {
          "base_uri": "https://localhost:8080/"
        },
        "id": "EtV_CUawNr2J",
        "outputId": "98bf2a63-6b75-43ad-c249-f0a99a436cc6"
      },
      "source": [
        "inpt=x_test[ix].reshape(28*28)/255\n",
        "pred=np.dot(relu(np.dot(inpt,W01)),W12)\n",
        "print(np.argmax(pred))"
      ],
      "execution_count": null,
      "outputs": [
        {
          "output_type": "stream",
          "text": [
            "1\n"
          ],
          "name": "stdout"
        }
      ]
    },
    {
      "cell_type": "markdown",
      "metadata": {
        "id": "iEM8BF7GcwVB"
      },
      "source": [
        "**Пакетный градиентный спуск** "
      ]
    },
    {
      "cell_type": "code",
      "metadata": {
        "colab": {
          "base_uri": "https://localhost:8080/"
        },
        "id": "_HtJdSOMUcbW",
        "outputId": "24a63a1b-c94c-4507-e305-2089be9964c2"
      },
      "source": [
        "np.random.seed(1)\n",
        "batch_size=75\n",
        "learning_rate, niter= (0.1,300)\n",
        "hidden_size, pix_per_img, num_labels = (100,784,10)\n",
        "W01=0.2*np.random.random((pix_per_img,hidden_size)) - 0.1\n",
        "W12=0.2*np.random.random((hidden_size,num_labels)) - 0.1\n",
        "for j in range(niter):\n",
        "  error, correct_cnt=(0.0,0)\n",
        "  for i in range(int(len(images)/batch_size)):\n",
        "    batch_start, batch_end= i*batch_size, (i+1)*batch_size\n",
        "\n",
        "    l0=images[batch_start:batch_end]\n",
        "    l1=relu(np.dot(l0,W01))\n",
        "    dropout_mask=np.random.randint(2,size=l1.shape)\n",
        "    l1*=dropout_mask*2\n",
        "    l2=np.dot(l1,W12)\n",
        "\n",
        "    error+=np.sum((labels[batch_start:batch_end]-l2)**2)\n",
        "    for k in range(batch_size):\n",
        "      correct_cnt+=int(np.argmax(l2[k:k+1])==np.argmax(labels[batch_start+k:batch_start+k+1]))\n",
        "    l2_delta=(labels[batch_start:batch_end]-l2)/(batch_size)\n",
        "\n",
        "\n",
        "    l1_delta=l2_delta.dot(W12.T)*relu2div(l1)\n",
        "    l1_delta*=dropout_mask\n",
        "\n",
        "    W12+=learning_rate*l1.T.dot(l2_delta)\n",
        "    W01+=learning_rate*l0.T.dot(l1_delta)\n",
        "  if (j%10==0 or j==niter-1):\n",
        "    test_error=0\n",
        "    test_correct_cnt=0\n",
        "    for i in range(len(test_images)):\n",
        "      l0=test_images[i:i+1]\n",
        "      l1=relu(np.dot(l0,W01))\n",
        "      l2=np.dot(l1,W12)\n",
        "      test_error+=np.sum((test_labels[i:i+1]-l2)**2)\n",
        "      test_correct_cnt+=int(np.argmax(test_labels[i:i+1])==np.argmax(l2))\n",
        "    print('iter: {} test_err: {} test_acc: {} train_err: {} train_acc: {}'.format(j,test_error/float(len(test_images)),test_correct_cnt/float(len(test_images)),error/float(len(labels)),correct_cnt/(float(len(labels)))   ))   \n"
      ],
      "execution_count": null,
      "outputs": [
        {
          "output_type": "stream",
          "text": [
            "iter: 0 test_err: 0.7278960367357099 test_acc: 0.5226 train_err: 1.0925478466072518 train_acc: 0.24133333333333334\n",
            "iter: 10 test_err: 0.49345430083069375 test_acc: 0.7745 train_err: 0.5487339130271487 train_acc: 0.7133333333333334\n",
            "iter: 20 test_err: 0.4340764917700484 test_acc: 0.8098 train_err: 0.4882984841680627 train_acc: 0.748\n",
            "iter: 30 test_err: 0.41211949383458457 test_acc: 0.8103 train_err: 0.4681544042483485 train_acc: 0.786\n",
            "iter: 40 test_err: 0.40165922960461575 test_acc: 0.8145 train_err: 0.4428957364507865 train_acc: 0.7933333333333333\n",
            "iter: 50 test_err: 0.396620226510431 test_acc: 0.8149 train_err: 0.44280889357562025 train_acc: 0.7993333333333333\n",
            "iter: 60 test_err: 0.40216992821679687 test_acc: 0.8128 train_err: 0.44690615134721756 train_acc: 0.7906666666666666\n",
            "iter: 70 test_err: 0.3993624691772126 test_acc: 0.8118 train_err: 0.4375411378624929 train_acc: 0.816\n",
            "iter: 80 test_err: 0.38961590433373744 test_acc: 0.8198 train_err: 0.42819225609418854 train_acc: 0.804\n",
            "iter: 90 test_err: 0.3909554947986973 test_acc: 0.8228 train_err: 0.4410343326485425 train_acc: 0.804\n",
            "iter: 100 test_err: 0.3848302941979555 test_acc: 0.8262 train_err: 0.41436752042126024 train_acc: 0.8146666666666667\n",
            "iter: 110 test_err: 0.3871782944990366 test_acc: 0.8273 train_err: 0.434394693982601 train_acc: 0.7946666666666666\n",
            "iter: 120 test_err: 0.38777458288494954 test_acc: 0.8295 train_err: 0.4167855918887641 train_acc: 0.8153333333333334\n",
            "iter: 130 test_err: 0.3824572246889258 test_acc: 0.8286 train_err: 0.4200428826265496 train_acc: 0.82\n",
            "iter: 140 test_err: 0.38545576901296086 test_acc: 0.828 train_err: 0.41091122207656927 train_acc: 0.8186666666666667\n",
            "iter: 150 test_err: 0.3870885818301919 test_acc: 0.8313 train_err: 0.4139521355632577 train_acc: 0.814\n",
            "iter: 160 test_err: 0.38451696420008047 test_acc: 0.825 train_err: 0.40885808705561705 train_acc: 0.8173333333333334\n",
            "iter: 170 test_err: 0.3851754060297842 test_acc: 0.832 train_err: 0.40240263730128456 train_acc: 0.8206666666666667\n",
            "iter: 180 test_err: 0.37872134051906836 test_acc: 0.8329 train_err: 0.3968164966013676 train_acc: 0.8366666666666667\n",
            "iter: 190 test_err: 0.37865239577777077 test_acc: 0.8279 train_err: 0.3868368489532626 train_acc: 0.838\n",
            "iter: 200 test_err: 0.3775525713970091 test_acc: 0.829 train_err: 0.39390638783163495 train_acc: 0.832\n",
            "iter: 210 test_err: 0.3787580213931177 test_acc: 0.8298 train_err: 0.40611652382123914 train_acc: 0.8373333333333334\n",
            "iter: 220 test_err: 0.3808989905738269 test_acc: 0.8299 train_err: 0.3998611422177181 train_acc: 0.8426666666666667\n",
            "iter: 230 test_err: 0.38052327011816345 test_acc: 0.8283 train_err: 0.38875378774124275 train_acc: 0.8353333333333334\n",
            "iter: 240 test_err: 0.3781179401702225 test_acc: 0.8335 train_err: 0.39741518875527787 train_acc: 0.8226666666666667\n",
            "iter: 250 test_err: 0.37362342728919173 test_acc: 0.8284 train_err: 0.3918417287578853 train_acc: 0.8366666666666667\n",
            "iter: 260 test_err: 0.3706012351787456 test_acc: 0.8307 train_err: 0.38018521448088494 train_acc: 0.8406666666666667\n",
            "iter: 270 test_err: 0.3754127138158681 test_acc: 0.8367 train_err: 0.39159687948812477 train_acc: 0.8313333333333334\n",
            "iter: 280 test_err: 0.37193032956966576 test_acc: 0.8314 train_err: 0.38696074015865783 train_acc: 0.838\n",
            "iter: 290 test_err: 0.3690480817690614 test_acc: 0.8317 train_err: 0.3834117829406113 train_acc: 0.846\n",
            "iter: 299 test_err: 0.37002385905552987 test_acc: 0.8306 train_err: 0.3820341609840347 train_acc: 0.8393333333333334\n"
          ],
          "name": "stdout"
        }
      ]
    },
    {
      "cell_type": "code",
      "metadata": {
        "colab": {
          "base_uri": "https://localhost:8080/",
          "height": 314
        },
        "id": "dpHT8_Ajh6BN",
        "outputId": "9498cc58-253b-484c-b6d6-e7885913cee0"
      },
      "source": [
        "ix=np.random.randint(len(x_test))\n",
        "imshow(x_test[ix])"
      ],
      "execution_count": null,
      "outputs": [
        {
          "output_type": "execute_result",
          "data": {
            "text/plain": [
              "<matplotlib.image.AxesImage at 0x7feaf244e5f8>"
            ]
          },
          "metadata": {
            "tags": []
          },
          "execution_count": 51
        },
        {
          "output_type": "display_data",
          "data": {
            "image/png": "[encoded data removed]",
            "text/plain": [
              "<Figure size 432x288 with 1 Axes>"
            ]
          },
          "metadata": {
            "tags": [],
            "needs_background": "light"
          }
        }
      ]
    },
    {
      "cell_type": "code",
      "metadata": {
        "colab": {
          "base_uri": "https://localhost:8080/"
        },
        "id": "-jYBK_gHh80z",
        "outputId": "6b74eba3-076d-402f-cfb3-3db1d105d646"
      },
      "source": [
        "inpt=x_test[ix].reshape(28*28)/255\n",
        "pred=np.dot(relu(np.dot(inpt,W01)),W12)\n",
        "print(np.argmax(pred))"
      ],
      "execution_count": null,
      "outputs": [
        {
          "output_type": "stream",
          "text": [
            "2\n"
          ],
          "name": "stdout"
        }
      ]
    },
    {
      "cell_type": "markdown",
      "metadata": {
        "id": "vmykNPD5W6Bc"
      },
      "source": [
        "**Улучшаем пакетного градинетного спуска**\n"
      ]
    },
    {
      "cell_type": "code",
      "metadata": {
        "id": "aBrTnvP1Y6s2"
      },
      "source": [
        "def tanh(x):\n",
        "  return np.tanh(x)\n",
        "def div_tanh(x):\n",
        "  return 1-(x**2)\n",
        "def softmax(x):\n",
        "  temp=np.exp(x)\n",
        "  return temp/np.sum(temp,axis=1,keepdims=True)"
      ],
      "execution_count": 2,
      "outputs": []
    },
    {
      "cell_type": "code",
      "metadata": {
        "colab": {
          "base_uri": "https://localhost:8080/",
          "height": 486
        },
        "id": "ptrtwhoZW5TT",
        "outputId": "04320d5a-9222-4ade-8ffc-c3fe02d07303"
      },
      "source": [
        "\n",
        "batch_size=75\n",
        "learning_rate, niter= (2,251)\n",
        "hidden_size, pix_per_img, num_labels = (100,784,10)\n",
        "\n",
        "W01=0.02*np.random.random((pix_per_img,hidden_size)) - 0.01\n",
        "W12=0.2*np.random.random((hidden_size,num_labels)) - 0.1\n",
        "\n",
        "for j in range(niter):\n",
        "  correct_cnt=0\n",
        "  for i in range((len(images/batch_size))//batch_size):\n",
        "    batch_start,batch_end=(i*batch_size,(i+1)*batch_size)\n",
        "    l0=images[batch_start:batch_end]\n",
        "    l1=tanh(np.dot(l0,W01))\n",
        "    drop_out_mask=np.random.randint(2,size=l1.shape) #распределение бернули: выключеаем 50% нейронов\n",
        "    l1*=drop_out_mask*2\n",
        "    l2=softmax(np.dot(l1,W12))\n",
        "    \n",
        "    for k in range(batch_size):\n",
        "      correct_cnt+=int(np.argmax(l2[k:k+1])==np.argmax(labels[batch_start+k:batch_start+k+1]))\n",
        "\n",
        "    delta_l2=(labels[batch_start:batch_end]-l2)/(batch_size*l2.shape[0])\n",
        "    delta_l1=delta_l2.dot(W12.T)*div_tanh(l1)\n",
        "    delta_l1*=drop_out_mask\n",
        "\n",
        "    W12+=learning_rate*l1.T.dot(delta_l2)\n",
        "    W01+=learning_rate*l0.T.dot(delta_l1)\n",
        "\n",
        "\n",
        "  if (j%10==0 or j==niter-1):\n",
        "    test_correct_cnt=0\n",
        "    for i in range(len(test_images)):\n",
        "      l0=test_images[i:i+1]\n",
        "      l1=tanh(np.dot(l0,W01))\n",
        "      l2=np.dot(l1,W12)\n",
        "      test_correct_cnt+=int(np.argmax(test_labels[i:i+1])==np.argmax(l2))\n",
        "    print('iter: {} test_acc: {} train_acc: {}'.format(j,test_correct_cnt/float(len(test_images)),correct_cnt/float(len(labels))   ))    "
      ],
      "execution_count": null,
      "outputs": [
        {
          "output_type": "stream",
          "text": [
            "iter: 0 test_acc: 0.7139 train_acc: 0.5778666666666666\n",
            "iter: 10 test_acc: 0.9017 train_acc: 0.8690666666666667\n",
            "iter: 20 test_acc: 0.893 train_acc: 0.7390666666666666\n",
            "iter: 30 test_acc: 0.8638 train_acc: 0.5846\n",
            "iter: 40 test_acc: 0.7427 train_acc: 0.4028\n",
            "iter: 50 test_acc: 0.1894 train_acc: 0.2258\n",
            "iter: 60 test_acc: 0.2092 train_acc: 0.16153333333333333\n",
            "iter: 70 test_acc: 0.2091 train_acc: 0.15326666666666666\n",
            "iter: 80 test_acc: 0.2089 train_acc: 0.1534\n",
            "iter: 90 test_acc: 0.1135 train_acc: 0.102\n",
            "iter: 100 test_acc: 0.1135 train_acc: 0.10226666666666667\n",
            "iter: 110 test_acc: 0.1135 train_acc: 0.10293333333333334\n",
            "iter: 120 test_acc: 0.1135 train_acc: 0.10053333333333334\n"
          ],
          "name": "stdout"
        },
        {
          "output_type": "error",
          "ename": "KeyboardInterrupt",
          "evalue": "ignored",
          "traceback": [
            "\u001b[0;31m---------------------------------------------------------------------------\u001b[0m",
            "\u001b[0;31mKeyboardInterrupt\u001b[0m                         Traceback (most recent call last)",
            "\u001b[0;32m<ipython-input-7-e6b0a1ec9926>\u001b[0m in \u001b[0;36m<module>\u001b[0;34m()\u001b[0m\n\u001b[1;32m     12\u001b[0m     \u001b[0mbatch_start\u001b[0m\u001b[0;34m,\u001b[0m\u001b[0mbatch_end\u001b[0m\u001b[0;34m=\u001b[0m\u001b[0;34m(\u001b[0m\u001b[0mi\u001b[0m\u001b[0;34m*\u001b[0m\u001b[0mbatch_size\u001b[0m\u001b[0;34m,\u001b[0m\u001b[0;34m(\u001b[0m\u001b[0mi\u001b[0m\u001b[0;34m+\u001b[0m\u001b[0;36m1\u001b[0m\u001b[0;34m)\u001b[0m\u001b[0;34m*\u001b[0m\u001b[0mbatch_size\u001b[0m\u001b[0;34m)\u001b[0m\u001b[0;34m\u001b[0m\u001b[0;34m\u001b[0m\u001b[0m\n\u001b[1;32m     13\u001b[0m     \u001b[0ml0\u001b[0m\u001b[0;34m=\u001b[0m\u001b[0mimages\u001b[0m\u001b[0;34m[\u001b[0m\u001b[0mbatch_start\u001b[0m\u001b[0;34m:\u001b[0m\u001b[0mbatch_end\u001b[0m\u001b[0;34m]\u001b[0m\u001b[0;34m\u001b[0m\u001b[0;34m\u001b[0m\u001b[0m\n\u001b[0;32m---> 14\u001b[0;31m     \u001b[0ml1\u001b[0m\u001b[0;34m=\u001b[0m\u001b[0mtanh\u001b[0m\u001b[0;34m(\u001b[0m\u001b[0mnp\u001b[0m\u001b[0;34m.\u001b[0m\u001b[0mdot\u001b[0m\u001b[0;34m(\u001b[0m\u001b[0ml0\u001b[0m\u001b[0;34m,\u001b[0m\u001b[0mW01\u001b[0m\u001b[0;34m)\u001b[0m\u001b[0;34m)\u001b[0m\u001b[0;34m\u001b[0m\u001b[0;34m\u001b[0m\u001b[0m\n\u001b[0m\u001b[1;32m     15\u001b[0m     \u001b[0mdrop_out_mask\u001b[0m\u001b[0;34m=\u001b[0m\u001b[0mnp\u001b[0m\u001b[0;34m.\u001b[0m\u001b[0mrandom\u001b[0m\u001b[0;34m.\u001b[0m\u001b[0mrandint\u001b[0m\u001b[0;34m(\u001b[0m\u001b[0;36m2\u001b[0m\u001b[0;34m,\u001b[0m\u001b[0msize\u001b[0m\u001b[0;34m=\u001b[0m\u001b[0ml1\u001b[0m\u001b[0;34m.\u001b[0m\u001b[0mshape\u001b[0m\u001b[0;34m)\u001b[0m \u001b[0;31m#распределение бернули: выключеаем 50% нейронов\u001b[0m\u001b[0;34m\u001b[0m\u001b[0;34m\u001b[0m\u001b[0m\n\u001b[1;32m     16\u001b[0m     \u001b[0ml1\u001b[0m\u001b[0;34m*=\u001b[0m\u001b[0mdrop_out_mask\u001b[0m\u001b[0;34m*\u001b[0m\u001b[0;36m2\u001b[0m\u001b[0;34m\u001b[0m\u001b[0;34m\u001b[0m\u001b[0m\n",
            "\u001b[0;32m<__array_function__ internals>\u001b[0m in \u001b[0;36mdot\u001b[0;34m(*args, **kwargs)\u001b[0m\n",
            "\u001b[0;31mKeyboardInterrupt\u001b[0m: "
          ]
        }
      ]
    },
    {
      "cell_type": "code",
      "metadata": {
        "id": "P0xUtEoqrLr1"
      },
      "source": [
        "def pred_nn(ix,w1,w2):\n",
        "  imshow(x_test[ix])\n",
        "  plt.show()\n",
        "  inpt=x_test[ix].reshape(28*28)/255\n",
        "  pred=(np.dot(tanh(np.dot(inpt,w1)),w2))\n",
        "  return(np.argmax(pred))"
      ],
      "execution_count": null,
      "outputs": []
    },
    {
      "cell_type": "code",
      "metadata": {
        "colab": {
          "base_uri": "https://localhost:8080/"
        },
        "id": "o-gr7eTUr0dJ",
        "outputId": "44bc029d-aa99-46c6-81f4-1dd8cda82aca"
      },
      "source": [
        "ix=np.random.randint(len(x_test))\n",
        "print(\"Neural Network thinks this is:\" ,pred_nn(ix,W01,W12))"
      ],
      "execution_count": null,
      "outputs": [
        {
          "output_type": "display_data",
          "data": {
            "image/png": "[encoded data removed]",
            "text/plain": [
              "<Figure size 432x288 with 1 Axes>"
            ]
          },
          "metadata": {
            "tags": [],
            "needs_background": "light"
          }
        },
        {
          "output_type": "stream",
          "text": [
            "Neural Network thinks this is: 6\n"
          ],
          "name": "stdout"
        }
      ]
    },
    {
      "cell_type": "markdown",
      "metadata": {
        "id": "EyekSDqfTFbk"
      },
      "source": [
        "**Сверточный слой**"
      ]
    },
    {
      "cell_type": "code",
      "metadata": {
        "id": "0jxjgiQctxru",
        "colab": {
          "base_uri": "https://localhost:8080/"
        },
        "outputId": "dd815e66-8459-446d-b0a4-5dce3f7b7044"
      },
      "source": [
        "def get_image_section(layer,row_from,row_to,col_from,col_to):\r\n",
        "  sub_section=layer[:,row_from:row_to,col_from:col_to]\r\n",
        "  return sub_section.reshape(-1,1,row_to-row_from,col_to-col_from)\r\n",
        "batch_size=128\r\n",
        "learning_rate, niter= (2,130)\r\n",
        "pix_per_img, num_labels = (784,10)\r\n",
        "\r\n",
        "\r\n",
        "\r\n",
        "input_rows=28\r\n",
        "input_cols=28\r\n",
        "kernel_rows=3\r\n",
        "kernel_cols=3\r\n",
        "num_kernels=16\r\n",
        "hidden_size=(input_rows-kernel_rows)*(input_cols-kernel_cols)*num_kernels\r\n",
        "kernels=0.02*np.random.random((kernel_rows*kernel_cols,num_kernels))-0.1\r\n",
        "W12=0.2*np.random.random((hidden_size,num_labels)) - 0.1\r\n",
        "\r\n",
        "bestK=kernels\r\n",
        "bestW12=W12\r\n",
        "best_T_acc=0\r\n",
        "\r\n",
        "for j in range(niter):\r\n",
        "  correct_cnt=0\r\n",
        "  for i in range(int(len(images)/batch_size)):\r\n",
        "    batch_start, batch_end = i*batch_size,(i+1)*batch_size\r\n",
        "    l0=images[batch_start:batch_end]\r\n",
        "    l0=l0.reshape(l0.shape[0],28,28)\r\n",
        "    l0.shape\r\n",
        "    sects=list()\r\n",
        "    for row_start in range(l0.shape[1]-kernel_rows):\r\n",
        "      for col_start in range(l0.shape[2]-kernel_cols):\r\n",
        "        sect=get_image_section(l0,row_start,row_start+kernel_rows,col_start,col_start+kernel_cols)\r\n",
        "        sects.append(sect)\r\n",
        "    expanded_input=np.concatenate(sects,axis=1)    \r\n",
        "    e_shape=expanded_input.shape\r\n",
        "    flattended_input=expanded_input.reshape(e_shape[0]*e_shape[1],-1)\r\n",
        "    kernel_out=flattended_input.dot(kernels)\r\n",
        "    l1=tanh(kernel_out.reshape(e_shape[0],-1))\r\n",
        "    dropout=np.random.randint(2,size=l1.shape)\r\n",
        "    l1*=dropout*2\r\n",
        "    l2=softmax(np.dot(l1,W12))\r\n",
        "    #прямое распространение кончилось\r\n",
        "    for k in range(batch_size):\r\n",
        "      label_set=labels[batch_start+k:batch_start+k+1]\r\n",
        "      _inc=int(np.argmax(l2[k:k+1])==np.argmax(label_set))\r\n",
        "      correct_cnt+=_inc\r\n",
        "    l2_delta=(labels[batch_start:batch_end]-l2)/(batch_size*l2.shape[0])\r\n",
        "    l1_delta=np.dot(l2_delta,W12.T)*div_tanh(l1)\r\n",
        "    l1_delta*=dropout\r\n",
        "\r\n",
        "\r\n",
        "    W12+=learning_rate*l1.T.dot(l2_delta)\r\n",
        "    l1d_rshp=l1_delta.reshape(kernel_out.shape)\r\n",
        "    k_update=flattended_input.T.dot(l1d_rshp)\r\n",
        "    kernels-=learning_rate*k_update\r\n",
        "\r\n",
        "\r\n",
        "  test_correct=0\r\n",
        "  for i in range(len(test_images)):\r\n",
        "    l0=test_images[i:i+1]\r\n",
        "    l0=l0.reshape(l0.shape[0],28,28)\r\n",
        "    l0.shape\r\n",
        "    sects=list()\r\n",
        "    for row_start in range(l0.shape[1]-kernel_rows):\r\n",
        "      for col_start in range(l0.shape[2]-kernel_cols):\r\n",
        "        sect=get_image_section(l0,row_start,row_start+kernel_rows,col_start,col_start+kernel_cols)\r\n",
        "        sects.append(sect)\r\n",
        "    expended_in=np.concatenate(sects,axis=1)\r\n",
        "    e_sh=expended_in.shape\r\n",
        "    flattended_input=expended_in.reshape(e_sh[0]*e_sh[1],-1)\r\n",
        "\r\n",
        "    kernel_out=flattended_input.dot(kernels)\r\n",
        "    l1=tanh(kernel_out.reshape(e_sh[0],-1))\r\n",
        "    l2=np.dot(l1,W12)\r\n",
        "\r\n",
        "    test_correct+=int(np.argmax(l2)==np.argmax(test_labels[i:i+1]))\r\n",
        "    if (test_correct/float(len(test_images)))>best_T_acc:\r\n",
        "      bestK=kernels\r\n",
        "      bestW12=W12\r\n",
        "      best_T_acc=test_correct/float(len(test_images))\r\n",
        "\r\n",
        "  print(\"iter: {} Test-Acc: {} Train-Acc: {} \".format(j,test_correct/float(len(test_images)),correct_cnt/float(len(images))))  \r\n",
        "\r\n",
        "print('Best Tetst-Acc: {}'.format(best_T_acc))\r\n",
        "\r\n",
        "\r\n",
        "\r\n",
        "\r\n"
      ],
      "execution_count": 21,
      "outputs": [
        {
          "output_type": "stream",
          "text": [
            "iter: 0 Test-Acc: 0.8484 Train-Acc: 0.5285333333333333 \n",
            "iter: 1 Test-Acc: 0.8735 Train-Acc: 0.7463333333333333 \n",
            "iter: 2 Test-Acc: 0.884 Train-Acc: 0.7864 \n",
            "iter: 3 Test-Acc: 0.8878 Train-Acc: 0.8081333333333334 \n",
            "iter: 4 Test-Acc: 0.8937 Train-Acc: 0.8249333333333333 \n",
            "iter: 5 Test-Acc: 0.8957 Train-Acc: 0.8293333333333334 \n",
            "iter: 6 Test-Acc: 0.8977 Train-Acc: 0.8379333333333333 \n",
            "iter: 7 Test-Acc: 0.8996 Train-Acc: 0.8399333333333333 \n",
            "iter: 8 Test-Acc: 0.9009 Train-Acc: 0.8464 \n",
            "iter: 9 Test-Acc: 0.9025 Train-Acc: 0.8512666666666666 \n",
            "iter: 10 Test-Acc: 0.9037 Train-Acc: 0.8544666666666667 \n",
            "iter: 11 Test-Acc: 0.9036 Train-Acc: 0.8546666666666667 \n",
            "iter: 12 Test-Acc: 0.9058 Train-Acc: 0.8594 \n",
            "iter: 13 Test-Acc: 0.9057 Train-Acc: 0.8621333333333333 \n",
            "iter: 14 Test-Acc: 0.9061 Train-Acc: 0.8601333333333333 \n",
            "iter: 15 Test-Acc: 0.9073 Train-Acc: 0.8646666666666667 \n",
            "iter: 16 Test-Acc: 0.9072 Train-Acc: 0.8657333333333334 \n",
            "iter: 17 Test-Acc: 0.9089 Train-Acc: 0.8636 \n",
            "iter: 18 Test-Acc: 0.9081 Train-Acc: 0.8703333333333333 \n",
            "iter: 19 Test-Acc: 0.9095 Train-Acc: 0.8688666666666667 \n",
            "iter: 20 Test-Acc: 0.9085 Train-Acc: 0.8701333333333333 \n",
            "iter: 21 Test-Acc: 0.9091 Train-Acc: 0.8710666666666667 \n",
            "iter: 22 Test-Acc: 0.909 Train-Acc: 0.875 \n",
            "iter: 23 Test-Acc: 0.9093 Train-Acc: 0.877 \n",
            "iter: 24 Test-Acc: 0.9084 Train-Acc: 0.8772666666666666 \n",
            "iter: 25 Test-Acc: 0.9096 Train-Acc: 0.8765333333333334 \n",
            "iter: 26 Test-Acc: 0.9111 Train-Acc: 0.8764 \n",
            "iter: 27 Test-Acc: 0.9102 Train-Acc: 0.8794666666666666 \n",
            "iter: 28 Test-Acc: 0.9092 Train-Acc: 0.8791333333333333 \n",
            "iter: 29 Test-Acc: 0.9105 Train-Acc: 0.8796666666666667 \n",
            "iter: 30 Test-Acc: 0.9104 Train-Acc: 0.8778 \n",
            "iter: 31 Test-Acc: 0.9108 Train-Acc: 0.8794 \n",
            "iter: 32 Test-Acc: 0.9103 Train-Acc: 0.8814 \n",
            "iter: 33 Test-Acc: 0.9117 Train-Acc: 0.8802666666666666 \n",
            "iter: 34 Test-Acc: 0.9112 Train-Acc: 0.8820666666666667 \n",
            "iter: 35 Test-Acc: 0.9104 Train-Acc: 0.8826666666666667 \n",
            "iter: 36 Test-Acc: 0.9114 Train-Acc: 0.8808666666666667 \n",
            "iter: 37 Test-Acc: 0.9106 Train-Acc: 0.8851333333333333 \n",
            "iter: 38 Test-Acc: 0.9125 Train-Acc: 0.8860666666666667 \n",
            "iter: 39 Test-Acc: 0.9117 Train-Acc: 0.8847333333333334 \n",
            "iter: 40 Test-Acc: 0.9122 Train-Acc: 0.8834 \n",
            "iter: 41 Test-Acc: 0.9123 Train-Acc: 0.8830666666666667 \n",
            "iter: 42 Test-Acc: 0.9119 Train-Acc: 0.8878666666666667 \n",
            "iter: 43 Test-Acc: 0.9126 Train-Acc: 0.8870666666666667 \n",
            "iter: 44 Test-Acc: 0.9113 Train-Acc: 0.8878 \n",
            "iter: 45 Test-Acc: 0.9126 Train-Acc: 0.8859333333333334 \n",
            "iter: 46 Test-Acc: 0.9126 Train-Acc: 0.8868666666666667 \n",
            "iter: 47 Test-Acc: 0.9125 Train-Acc: 0.8856 \n",
            "iter: 48 Test-Acc: 0.9136 Train-Acc: 0.8865333333333333 \n",
            "iter: 49 Test-Acc: 0.9123 Train-Acc: 0.8866666666666667 \n",
            "iter: 50 Test-Acc: 0.9128 Train-Acc: 0.8892 \n",
            "iter: 51 Test-Acc: 0.9128 Train-Acc: 0.8866 \n",
            "iter: 52 Test-Acc: 0.9127 Train-Acc: 0.8886666666666667 \n",
            "iter: 53 Test-Acc: 0.9131 Train-Acc: 0.8895333333333333 \n",
            "iter: 54 Test-Acc: 0.9128 Train-Acc: 0.8858666666666667 \n",
            "iter: 55 Test-Acc: 0.9105 Train-Acc: 0.8878 \n",
            "iter: 56 Test-Acc: 0.9083 Train-Acc: 0.8831333333333333 \n",
            "iter: 57 Test-Acc: 0.9041 Train-Acc: 0.8822 \n",
            "iter: 58 Test-Acc: 0.0022 Train-Acc: 0.7798 \n",
            "iter: 59 Test-Acc: 0.5924 Train-Acc: 0.20366666666666666 \n",
            "iter: 60 Test-Acc: 0.7704 Train-Acc: 0.6002666666666666 \n",
            "iter: 61 Test-Acc: 0.8203 Train-Acc: 0.7115333333333334 \n",
            "iter: 62 Test-Acc: 0.845 Train-Acc: 0.7625333333333333 \n",
            "iter: 63 Test-Acc: 0.8626 Train-Acc: 0.7901333333333334 \n",
            "iter: 64 Test-Acc: 0.8737 Train-Acc: 0.8055333333333333 \n",
            "iter: 65 Test-Acc: 0.8804 Train-Acc: 0.8162666666666667 \n",
            "iter: 66 Test-Acc: 0.8849 Train-Acc: 0.8299333333333333 \n",
            "iter: 67 Test-Acc: 0.892 Train-Acc: 0.8362 \n",
            "iter: 68 Test-Acc: 0.8969 Train-Acc: 0.8457333333333333 \n",
            "iter: 69 Test-Acc: 0.8973 Train-Acc: 0.8493333333333334 \n",
            "iter: 70 Test-Acc: 0.902 Train-Acc: 0.8535333333333334 \n",
            "iter: 71 Test-Acc: 0.9003 Train-Acc: 0.8584 \n",
            "iter: 72 Test-Acc: 0.9037 Train-Acc: 0.8618 \n",
            "iter: 73 Test-Acc: 0.9045 Train-Acc: 0.8651333333333333 \n",
            "iter: 74 Test-Acc: 0.9081 Train-Acc: 0.8647333333333334 \n",
            "iter: 75 Test-Acc: 0.9097 Train-Acc: 0.8669333333333333 \n",
            "iter: 76 Test-Acc: 0.9107 Train-Acc: 0.8712666666666666 \n",
            "iter: 77 Test-Acc: 0.9118 Train-Acc: 0.8756666666666667 \n",
            "iter: 78 Test-Acc: 0.9107 Train-Acc: 0.8709333333333333 \n",
            "iter: 79 Test-Acc: 0.9129 Train-Acc: 0.875 \n",
            "iter: 80 Test-Acc: 0.9146 Train-Acc: 0.8776 \n",
            "iter: 81 Test-Acc: 0.9177 Train-Acc: 0.8804666666666666 \n",
            "iter: 82 Test-Acc: 0.9161 Train-Acc: 0.8808 \n",
            "iter: 83 Test-Acc: 0.918 Train-Acc: 0.884 \n",
            "iter: 84 Test-Acc: 0.9185 Train-Acc: 0.8826 \n",
            "iter: 85 Test-Acc: 0.917 Train-Acc: 0.883 \n",
            "iter: 86 Test-Acc: 0.9192 Train-Acc: 0.8845333333333333 \n",
            "iter: 87 Test-Acc: 0.9178 Train-Acc: 0.8874666666666666 \n",
            "iter: 88 Test-Acc: 0.9198 Train-Acc: 0.8858666666666667 \n",
            "iter: 89 Test-Acc: 0.9199 Train-Acc: 0.8883333333333333 \n",
            "iter: 90 Test-Acc: 0.919 Train-Acc: 0.8871333333333333 \n",
            "iter: 91 Test-Acc: 0.9193 Train-Acc: 0.8904 \n",
            "iter: 92 Test-Acc: 0.92 Train-Acc: 0.8929333333333334 \n",
            "iter: 93 Test-Acc: 0.9206 Train-Acc: 0.8917333333333334 \n",
            "iter: 94 Test-Acc: 0.9204 Train-Acc: 0.8884666666666666 \n",
            "iter: 95 Test-Acc: 0.9215 Train-Acc: 0.8942 \n",
            "iter: 96 Test-Acc: 0.9215 Train-Acc: 0.891 \n",
            "iter: 97 Test-Acc: 0.9224 Train-Acc: 0.8895333333333333 \n",
            "iter: 98 Test-Acc: 0.9214 Train-Acc: 0.8934666666666666 \n",
            "iter: 99 Test-Acc: 0.9228 Train-Acc: 0.8979333333333334 \n",
            "iter: 100 Test-Acc: 0.923 Train-Acc: 0.8952666666666667 \n",
            "iter: 101 Test-Acc: 0.9217 Train-Acc: 0.8952666666666667 \n",
            "iter: 102 Test-Acc: 0.9227 Train-Acc: 0.8925333333333333 \n",
            "iter: 103 Test-Acc: 0.9231 Train-Acc: 0.8966666666666666 \n",
            "iter: 104 Test-Acc: 0.9215 Train-Acc: 0.8974 \n",
            "iter: 105 Test-Acc: 0.923 Train-Acc: 0.8951333333333333 \n",
            "iter: 106 Test-Acc: 0.922 Train-Acc: 0.8986666666666666 \n",
            "iter: 107 Test-Acc: 0.9242 Train-Acc: 0.8986666666666666 \n",
            "iter: 108 Test-Acc: 0.9224 Train-Acc: 0.9010666666666667 \n",
            "iter: 109 Test-Acc: 0.9242 Train-Acc: 0.8984 \n",
            "iter: 110 Test-Acc: 0.9242 Train-Acc: 0.9016666666666666 \n",
            "iter: 111 Test-Acc: 0.9258 Train-Acc: 0.8978 \n",
            "iter: 112 Test-Acc: 0.9243 Train-Acc: 0.9016666666666666 \n",
            "iter: 113 Test-Acc: 0.925 Train-Acc: 0.9019333333333334 \n",
            "iter: 114 Test-Acc: 0.9255 Train-Acc: 0.896 \n",
            "iter: 115 Test-Acc: 0.9251 Train-Acc: 0.8992666666666667 \n",
            "iter: 116 Test-Acc: 0.9249 Train-Acc: 0.9026 \n",
            "iter: 117 Test-Acc: 0.9248 Train-Acc: 0.9038 \n",
            "iter: 118 Test-Acc: 0.926 Train-Acc: 0.8985333333333333 \n",
            "iter: 119 Test-Acc: 0.9244 Train-Acc: 0.9034666666666666 \n",
            "iter: 120 Test-Acc: 0.9246 Train-Acc: 0.9000666666666667 \n",
            "iter: 121 Test-Acc: 0.9255 Train-Acc: 0.9013333333333333 \n",
            "iter: 122 Test-Acc: 0.926 Train-Acc: 0.903 \n",
            "iter: 123 Test-Acc: 0.9264 Train-Acc: 0.9019333333333334 \n",
            "iter: 124 Test-Acc: 0.9255 Train-Acc: 0.902 \n",
            "iter: 125 Test-Acc: 0.9264 Train-Acc: 0.8994 \n",
            "iter: 126 Test-Acc: 0.9262 Train-Acc: 0.9024 \n",
            "iter: 127 Test-Acc: 0.9244 Train-Acc: 0.9046666666666666 \n",
            "iter: 128 Test-Acc: 0.9265 Train-Acc: 0.9034666666666666 \n",
            "iter: 129 Test-Acc: 0.9244 Train-Acc: 0.9041333333333333 \n",
            "Best Tetst-Acc: 0.9265\n"
          ],
          "name": "stdout"
        }
      ]
    },
    {
      "cell_type": "code",
      "metadata": {
        "id": "KKb0lruEDzPI"
      },
      "source": [
        "def kernel_nn(idx):\r\n",
        "  imshow(x_test[idx])\r\n",
        "  plt.show()\r\n",
        "  l0=test_images[idx:idx+1]\r\n",
        "  l0=l0.reshape(l0.shape[0],28,28)\r\n",
        "  l0.shape\r\n",
        "  sects=list()\r\n",
        "  for row_start in range(l0.shape[1]-kernel_rows):\r\n",
        "    for col_start in range(l0.shape[2]-kernel_cols):\r\n",
        "      sect=get_image_section(l0,row_start,row_start+kernel_rows,col_start,col_start+kernel_cols)\r\n",
        "      sects.append(sect)\r\n",
        "  expended_in=np.concatenate(sects,axis=1)\r\n",
        "  e_sh=expended_in.shape\r\n",
        "  flattended_input=expended_in.reshape(e_sh[0]*e_sh[1],-1)\r\n",
        "\r\n",
        "  kernel_out=flattended_input.dot(bestK)\r\n",
        "  l1=tanh(kernel_out.reshape(e_sh[0],-1))\r\n",
        "  l2=np.dot(l1,bestW12)\r\n",
        "\r\n",
        "  return np.argmax(l2)\r\n"
      ],
      "execution_count": 137,
      "outputs": []
    },
    {
      "cell_type": "code",
      "metadata": {
        "colab": {
          "base_uri": "https://localhost:8080/",
          "height": 314
        },
        "id": "Q5ITmnMIEnJr",
        "outputId": "8e881af7-2734-4cf6-877c-3c51bd1e459f"
      },
      "source": [
        "idx=np.random.randint(len(test_images))\r\n",
        "print(\"Neural Network thinks this is:\" ,kernel_nn(idx))\r\n",
        "\r\n",
        "\r\n"
      ],
      "execution_count": 154,
      "outputs": [
        {
          "output_type": "display_data",
          "data": {
            "image/png": "[encoded data removed]",
            "text/plain": [
              "<Figure size 432x288 with 1 Axes>"
            ]
          },
          "metadata": {
            "tags": [],
            "needs_background": "light"
          }
        },
        {
          "output_type": "stream",
          "text": [
            "Neural Network thinks this is: 4\n"
          ],
          "name": "stdout"
        }
      ]
    },
    {
      "cell_type": "code",
      "metadata": {
        "id": "e1Km9N4XPUGS"
      },
      "source": [
        "import cv2\r\n",
        "def urimage(path):\r\n",
        "  image = cv2.imread(path)\r\n",
        "  gray = cv2.cvtColor(image, cv2.COLOR_BGR2GRAY)\r\n",
        "  image_t=(gray.reshape(1,28*28))/255\r\n",
        "  imshow(gray)\r\n",
        "  plt.show()\r\n",
        "\r\n",
        "  l0=image_t\r\n",
        "  l0=l0.reshape(l0.shape[0],28,28)\r\n",
        "  l0.shape\r\n",
        "  sects=list()\r\n",
        "  for row_start in range(l0.shape[1]-kernel_rows):\r\n",
        "    for col_start in range(l0.shape[2]-kernel_cols):\r\n",
        "      sect=get_image_section(l0,row_start,row_start+kernel_rows,col_start,col_start+kernel_cols)\r\n",
        "      sects.append(sect)\r\n",
        "  expended_in=np.concatenate(sects,axis=1)\r\n",
        "  e_sh=expended_in.shape\r\n",
        "  flattended_input=expended_in.reshape(e_sh[0]*e_sh[1],-1)\r\n",
        "\r\n",
        "  kernel_out=flattended_input.dot(bestK)\r\n",
        "  l1=tanh(kernel_out.reshape(e_sh[0],-1))\r\n",
        "  l2=np.dot(l1,bestW12)\r\n",
        "  return np.argmax(l2)"
      ],
      "execution_count": 139,
      "outputs": []
    },
    {
      "cell_type": "code",
      "metadata": {
        "colab": {
          "base_uri": "https://localhost:8080/"
        },
        "id": "7iaGGKxbPa_N",
        "outputId": "e4bfefe7-bdd1-4c36-c973-e898e7dc72c6"
      },
      "source": [
        "from google.colab import drive \r\n",
        "drive.mount('/content/drive')\r\n",
        "%cd \"/content/drive/My Drive/\"\r\n"
      ],
      "execution_count": 26,
      "outputs": [
        {
          "output_type": "stream",
          "text": [
            "Drive already mounted at /content/drive; to attempt to forcibly remount, call drive.mount(\"/content/drive\", force_remount=True).\n",
            "/content/drive/My Drive\n"
          ],
          "name": "stdout"
        }
      ]
    },
    {
      "cell_type": "code",
      "metadata": {
        "colab": {
          "base_uri": "https://localhost:8080/",
          "height": 314
        },
        "id": "gHClL4FYVUay",
        "outputId": "6032f70b-fbc5-49ea-9c75-eedf75def94e"
      },
      "source": [
        "ipath='two.png'\r\n",
        "print(\"NN thinks this is:\",urimage(ipath))"
      ],
      "execution_count": 155,
      "outputs": [
        {
          "output_type": "display_data",
          "data": {
            "image/png": "[encoded data removed]",
            "text/plain": [
              "<Figure size 432x288 with 1 Axes>"
            ]
          },
          "metadata": {
            "tags": [],
            "needs_background": "light"
          }
        },
        {
          "output_type": "stream",
          "text": [
            "NN thinks this is: 2\n"
          ],
          "name": "stdout"
        }
      ]
    }
  ]
}