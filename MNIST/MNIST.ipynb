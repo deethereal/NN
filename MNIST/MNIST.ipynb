{
  "nbformat": 4,
  "nbformat_minor": 0,
  "metadata": {
    "colab": {
      "name": "MNIST.ipynb",
      "provenance": [],
      "collapsed_sections": [],
      "authorship_tag": "ABX9TyOSlNRBt8wYKMAKgLf3t+fz",
      "include_colab_link": true
    },
    "kernelspec": {
      "name": "python3",
      "display_name": "Python 3"
    },
    "accelerator": "GPU"
  },
  "cells": [
    {
      "cell_type": "markdown",
      "metadata": {
        "id": "view-in-github",
        "colab_type": "text"
      },
      "source": [
        "<a href=\"https://colab.research.google.com/github/deethereal/MNIST/blob/main/MNIST.ipynb\" target=\"_parent\"><img src=\"https://colab.research.google.com/assets/colab-badge.svg\" alt=\"Open In Colab\"/></a>"
      ]
    },
    {
      "cell_type": "code",
      "metadata": {
        "id": "b7LfsIwcsLDC",
        "colab": {
          "base_uri": "https://localhost:8080/"
        },
        "outputId": "053c3836-a2f3-442a-ade6-8378bf041901"
      },
      "source": [
        "import sys, numpy as np, matplotlib.pyplot as plt\n",
        "from keras.datasets import mnist\n",
        "from skimage.io import imread,imshow\n",
        "(x_train,y_train),(x_test,y_test)=mnist.load_data()\n",
        "COUNT=1500\n",
        "images, labels=(x_train[0:COUNT].reshape(COUNT,28*28)/255,y_train[0:COUNT])\n",
        "#one_hot_labels=np.eye((len(labels),10))\n",
        "one_hot_labels=np.zeros((len(labels),10))\n",
        "for i,l in enumerate(labels):\n",
        "  one_hot_labels[i][l]=1\n",
        "labels=one_hot_labels\n",
        "print(len(images)/100)\n",
        "\n",
        "test_images=(x_test.reshape((len(x_test),28*28))/255)\n",
        "test_labels= np.zeros((len(y_test),10))\n",
        "for i,l in enumerate(y_test):\n",
        "  test_labels[i][l]=1"
      ],
      "execution_count": 2,
      "outputs": [
        {
          "output_type": "stream",
          "text": [
            "Downloading data from https://storage.googleapis.com/tensorflow/tf-keras-datasets/mnist.npz\n",
            "11493376/11490434 [==============================] - 0s 0us/step\n",
            "15.0\n"
          ],
          "name": "stdout"
        }
      ]
    },
    {
      "cell_type": "markdown",
      "metadata": {
        "id": "gKYFZvOucnJC"
      },
      "source": [
        "**Cтохастический градиентный спуск**"
      ]
    },
    {
      "cell_type": "code",
      "metadata": {
        "id": "slZ8fFqQsNTS",
        "colab": {
          "base_uri": "https://localhost:8080/"
        },
        "outputId": "43cf91b5-1468-428e-9f22-73b65014d0de"
      },
      "source": [
        "\n",
        "relu=lambda x: (x>=0)*x\n",
        "relu2div=lambda x: (x>=0)"
      ],
      "execution_count": null,
      "outputs": [
        {
          "output_type": "stream",
          "text": [
            "15.0\n"
          ],
          "name": "stdout"
        }
      ]
    },
    {
      "cell_type": "code",
      "metadata": {
        "colab": {
          "base_uri": "https://localhost:8080/",
          "height": 238
        },
        "id": "wnuqHYtmc7r1",
        "outputId": "88b3f1bd-d3ad-4da3-f9a9-7ed4ca051a6c"
      },
      "source": [
        "\n",
        "learning_rate, niter, hidden_size, pix_per_img, num_labels = (0.005,800,40,784,10)\n",
        "W01=0.2*np.random.random((pix_per_img,hidden_size)) - 0.1\n",
        "W12=0.2*np.random.random((hidden_size,num_labels)) - 0.1\n",
        "\n",
        "for j in range(niter):\n",
        "  error,correct_cnt=(0.0,0)\n",
        "  #print(error)\n",
        "  for i in range(len(images)):\n",
        "    l0=images[i:i+1]\n",
        "    l1=relu(np.dot(l0,W01))\n",
        "    drop_out_mask=np.random.randint(2,size=l1.shape) #распределение бернули: выключеаем 50% нейронов\n",
        "    l1*=drop_out_mask*2\n",
        "    l2=np.dot(l1,W12)\n",
        "    \n",
        "    error += np.sum((labels[i:i+1]-l2)**2)\n",
        "    correct_cnt+= int(np.argmax(l2)==np.argmax(labels[i:i+1]))\n",
        "\n",
        "    delta_l2=labels[i:i+1]-l2\n",
        "    delta_l1=delta_l2.dot(W12.T)*relu2div(l1)\n",
        "    delta_l1*=drop_out_mask\n",
        "\n",
        "    W12+=learning_rate*l1.T.dot(delta_l2)\n",
        "    W01+=learning_rate*l0.T.dot(delta_l1)\n",
        "  if (j%10==0 or j==niter-1):\n",
        "    test_error=0\n",
        "    test_correct_cnt=0\n",
        "    for i in range(len(test_images)):\n",
        "      l0=test_images[i:i+1]\n",
        "      l1=relu(np.dot(l0,W01))\n",
        "      l2=np.dot(l1,W12)\n",
        "      test_error+=np.sum((test_labels[i:i+1]-l2)**2)\n",
        "      test_correct_cnt+=int(np.argmax(test_labels[i:i+1])==np.argmax(l2))\n",
        "    print('iter: {} test_err: {} test_acc: {} train_err: {} train_acc: {}'.format(j,test_error/float(len(test_images)),test_correct_cnt/float(len(test_images)),error/float(len(labels)),correct_cnt/float(len(labels))   ))    \n",
        "    "
      ],
      "execution_count": 2,
      "outputs": [
        {
          "output_type": "error",
          "ename": "NameError",
          "evalue": "ignored",
          "traceback": [
            "\u001b[0;31m---------------------------------------------------------------------------\u001b[0m",
            "\u001b[0;31mNameError\u001b[0m                                 Traceback (most recent call last)",
            "\u001b[0;32m<ipython-input-2-7f6ffaa96a86>\u001b[0m in \u001b[0;36m<module>\u001b[0;34m()\u001b[0m\n\u001b[1;32m      9\u001b[0m   \u001b[0;32mfor\u001b[0m \u001b[0mi\u001b[0m \u001b[0;32min\u001b[0m \u001b[0mrange\u001b[0m\u001b[0;34m(\u001b[0m\u001b[0mlen\u001b[0m\u001b[0;34m(\u001b[0m\u001b[0mimages\u001b[0m\u001b[0;34m)\u001b[0m\u001b[0;34m)\u001b[0m\u001b[0;34m:\u001b[0m\u001b[0;34m\u001b[0m\u001b[0;34m\u001b[0m\u001b[0m\n\u001b[1;32m     10\u001b[0m     \u001b[0ml0\u001b[0m\u001b[0;34m=\u001b[0m\u001b[0mimages\u001b[0m\u001b[0;34m[\u001b[0m\u001b[0mi\u001b[0m\u001b[0;34m:\u001b[0m\u001b[0mi\u001b[0m\u001b[0;34m+\u001b[0m\u001b[0;36m1\u001b[0m\u001b[0;34m]\u001b[0m\u001b[0;34m\u001b[0m\u001b[0;34m\u001b[0m\u001b[0m\n\u001b[0;32m---> 11\u001b[0;31m     \u001b[0ml1\u001b[0m\u001b[0;34m=\u001b[0m\u001b[0mrelu\u001b[0m\u001b[0;34m(\u001b[0m\u001b[0mnp\u001b[0m\u001b[0;34m.\u001b[0m\u001b[0mdot\u001b[0m\u001b[0;34m(\u001b[0m\u001b[0ml0\u001b[0m\u001b[0;34m,\u001b[0m\u001b[0mW01\u001b[0m\u001b[0;34m)\u001b[0m\u001b[0;34m)\u001b[0m\u001b[0;34m\u001b[0m\u001b[0;34m\u001b[0m\u001b[0m\n\u001b[0m\u001b[1;32m     12\u001b[0m     \u001b[0mdrop_out_mask\u001b[0m\u001b[0;34m=\u001b[0m\u001b[0mnp\u001b[0m\u001b[0;34m.\u001b[0m\u001b[0mrandom\u001b[0m\u001b[0;34m.\u001b[0m\u001b[0mrandint\u001b[0m\u001b[0;34m(\u001b[0m\u001b[0;36m2\u001b[0m\u001b[0;34m,\u001b[0m\u001b[0msize\u001b[0m\u001b[0;34m=\u001b[0m\u001b[0ml1\u001b[0m\u001b[0;34m.\u001b[0m\u001b[0mshape\u001b[0m\u001b[0;34m)\u001b[0m \u001b[0;31m#распределение бернули: выключеаем 50% нейронов\u001b[0m\u001b[0;34m\u001b[0m\u001b[0;34m\u001b[0m\u001b[0m\n\u001b[1;32m     13\u001b[0m     \u001b[0ml1\u001b[0m\u001b[0;34m*=\u001b[0m\u001b[0mdrop_out_mask\u001b[0m\u001b[0;34m*\u001b[0m\u001b[0;36m2\u001b[0m\u001b[0;34m\u001b[0m\u001b[0;34m\u001b[0m\u001b[0m\n",
            "\u001b[0;31mNameError\u001b[0m: name 'relu' is not defined"
          ]
        }
      ]
    },
    {
      "cell_type": "code",
      "metadata": {
        "colab": {
          "base_uri": "https://localhost:8080/",
          "height": 314
        },
        "id": "LlKni4kgL7gi",
        "outputId": "81eac68e-d242-4cdc-eb31-31265d0675ae"
      },
      "source": [
        "ix=np.random.randint(len(x_test))\n",
        "imshow(x_test[ix])"
      ],
      "execution_count": null,
      "outputs": [
        {
          "output_type": "execute_result",
          "data": {
            "text/plain": [
              "<matplotlib.image.AxesImage at 0x7f6a6c5526a0>"
            ]
          },
          "metadata": {
            "tags": []
          },
          "execution_count": 104
        },
        {
          "output_type": "display_data",
          "data": {
            "image/png": "[encoded data removed]",
            "text/plain": [
              "<Figure size 432x288 with 1 Axes>"
            ]
          },
          "metadata": {
            "tags": [],
            "needs_background": "light"
          }
        }
      ]
    },
    {
      "cell_type": "code",
      "metadata": {
        "colab": {
          "base_uri": "https://localhost:8080/"
        },
        "id": "EtV_CUawNr2J",
        "outputId": "98bf2a63-6b75-43ad-c249-f0a99a436cc6"
      },
      "source": [
        "inpt=x_test[ix].reshape(28*28)/255\n",
        "pred=np.dot(relu(np.dot(inpt,W01)),W12)\n",
        "print(np.argmax(pred))"
      ],
      "execution_count": null,
      "outputs": [
        {
          "output_type": "stream",
          "text": [
            "1\n"
          ],
          "name": "stdout"
        }
      ]
    },
    {
      "cell_type": "markdown",
      "metadata": {
        "id": "iEM8BF7GcwVB"
      },
      "source": [
        "**Пакетный градиентный спуск** "
      ]
    },
    {
      "cell_type": "code",
      "metadata": {
        "colab": {
          "base_uri": "https://localhost:8080/"
        },
        "id": "_HtJdSOMUcbW",
        "outputId": "24a63a1b-c94c-4507-e305-2089be9964c2"
      },
      "source": [
        "np.random.seed(1)\n",
        "batch_size=75\n",
        "learning_rate, niter= (0.1,300)\n",
        "hidden_size, pix_per_img, num_labels = (100,784,10)\n",
        "W01=0.2*np.random.random((pix_per_img,hidden_size)) - 0.1\n",
        "W12=0.2*np.random.random((hidden_size,num_labels)) - 0.1\n",
        "for j in range(niter):\n",
        "  error, correct_cnt=(0.0,0)\n",
        "  for i in range(int(len(images)/batch_size)):\n",
        "    batch_start, batch_end= i*batch_size, (i+1)*batch_size\n",
        "\n",
        "    l0=images[batch_start:batch_end]\n",
        "    l1=relu(np.dot(l0,W01))\n",
        "    dropout_mask=np.random.randint(2,size=l1.shape)\n",
        "    l1*=dropout_mask*2\n",
        "    l2=np.dot(l1,W12)\n",
        "\n",
        "    error+=np.sum((labels[batch_start:batch_end]-l2)**2)\n",
        "    for k in range(batch_size):\n",
        "      correct_cnt+=int(np.argmax(l2[k:k+1])==np.argmax(labels[batch_start+k:batch_start+k+1]))\n",
        "    l2_delta=(labels[batch_start:batch_end]-l2)/(batch_size)\n",
        "\n",
        "\n",
        "    l1_delta=l2_delta.dot(W12.T)*relu2div(l1)\n",
        "    l1_delta*=dropout_mask\n",
        "\n",
        "    W12+=learning_rate*l1.T.dot(l2_delta)\n",
        "    W01+=learning_rate*l0.T.dot(l1_delta)\n",
        "  if (j%10==0 or j==niter-1):\n",
        "    test_error=0\n",
        "    test_correct_cnt=0\n",
        "    for i in range(len(test_images)):\n",
        "      l0=test_images[i:i+1]\n",
        "      l1=relu(np.dot(l0,W01))\n",
        "      l2=np.dot(l1,W12)\n",
        "      test_error+=np.sum((test_labels[i:i+1]-l2)**2)\n",
        "      test_correct_cnt+=int(np.argmax(test_labels[i:i+1])==np.argmax(l2))\n",
        "    print('iter: {} test_err: {} test_acc: {} train_err: {} train_acc: {}'.format(j,test_error/float(len(test_images)),test_correct_cnt/float(len(test_images)),error/float(len(labels)),correct_cnt/(float(len(labels)))   ))   \n"
      ],
      "execution_count": null,
      "outputs": [
        {
          "output_type": "stream",
          "text": [
            "iter: 0 test_err: 0.7278960367357099 test_acc: 0.5226 train_err: 1.0925478466072518 train_acc: 0.24133333333333334\n",
            "iter: 10 test_err: 0.49345430083069375 test_acc: 0.7745 train_err: 0.5487339130271487 train_acc: 0.7133333333333334\n",
            "iter: 20 test_err: 0.4340764917700484 test_acc: 0.8098 train_err: 0.4882984841680627 train_acc: 0.748\n",
            "iter: 30 test_err: 0.41211949383458457 test_acc: 0.8103 train_err: 0.4681544042483485 train_acc: 0.786\n",
            "iter: 40 test_err: 0.40165922960461575 test_acc: 0.8145 train_err: 0.4428957364507865 train_acc: 0.7933333333333333\n",
            "iter: 50 test_err: 0.396620226510431 test_acc: 0.8149 train_err: 0.44280889357562025 train_acc: 0.7993333333333333\n",
            "iter: 60 test_err: 0.40216992821679687 test_acc: 0.8128 train_err: 0.44690615134721756 train_acc: 0.7906666666666666\n",
            "iter: 70 test_err: 0.3993624691772126 test_acc: 0.8118 train_err: 0.4375411378624929 train_acc: 0.816\n",
            "iter: 80 test_err: 0.38961590433373744 test_acc: 0.8198 train_err: 0.42819225609418854 train_acc: 0.804\n",
            "iter: 90 test_err: 0.3909554947986973 test_acc: 0.8228 train_err: 0.4410343326485425 train_acc: 0.804\n",
            "iter: 100 test_err: 0.3848302941979555 test_acc: 0.8262 train_err: 0.41436752042126024 train_acc: 0.8146666666666667\n",
            "iter: 110 test_err: 0.3871782944990366 test_acc: 0.8273 train_err: 0.434394693982601 train_acc: 0.7946666666666666\n",
            "iter: 120 test_err: 0.38777458288494954 test_acc: 0.8295 train_err: 0.4167855918887641 train_acc: 0.8153333333333334\n",
            "iter: 130 test_err: 0.3824572246889258 test_acc: 0.8286 train_err: 0.4200428826265496 train_acc: 0.82\n",
            "iter: 140 test_err: 0.38545576901296086 test_acc: 0.828 train_err: 0.41091122207656927 train_acc: 0.8186666666666667\n",
            "iter: 150 test_err: 0.3870885818301919 test_acc: 0.8313 train_err: 0.4139521355632577 train_acc: 0.814\n",
            "iter: 160 test_err: 0.38451696420008047 test_acc: 0.825 train_err: 0.40885808705561705 train_acc: 0.8173333333333334\n",
            "iter: 170 test_err: 0.3851754060297842 test_acc: 0.832 train_err: 0.40240263730128456 train_acc: 0.8206666666666667\n",
            "iter: 180 test_err: 0.37872134051906836 test_acc: 0.8329 train_err: 0.3968164966013676 train_acc: 0.8366666666666667\n",
            "iter: 190 test_err: 0.37865239577777077 test_acc: 0.8279 train_err: 0.3868368489532626 train_acc: 0.838\n",
            "iter: 200 test_err: 0.3775525713970091 test_acc: 0.829 train_err: 0.39390638783163495 train_acc: 0.832\n",
            "iter: 210 test_err: 0.3787580213931177 test_acc: 0.8298 train_err: 0.40611652382123914 train_acc: 0.8373333333333334\n",
            "iter: 220 test_err: 0.3808989905738269 test_acc: 0.8299 train_err: 0.3998611422177181 train_acc: 0.8426666666666667\n",
            "iter: 230 test_err: 0.38052327011816345 test_acc: 0.8283 train_err: 0.38875378774124275 train_acc: 0.8353333333333334\n",
            "iter: 240 test_err: 0.3781179401702225 test_acc: 0.8335 train_err: 0.39741518875527787 train_acc: 0.8226666666666667\n",
            "iter: 250 test_err: 0.37362342728919173 test_acc: 0.8284 train_err: 0.3918417287578853 train_acc: 0.8366666666666667\n",
            "iter: 260 test_err: 0.3706012351787456 test_acc: 0.8307 train_err: 0.38018521448088494 train_acc: 0.8406666666666667\n",
            "iter: 270 test_err: 0.3754127138158681 test_acc: 0.8367 train_err: 0.39159687948812477 train_acc: 0.8313333333333334\n",
            "iter: 280 test_err: 0.37193032956966576 test_acc: 0.8314 train_err: 0.38696074015865783 train_acc: 0.838\n",
            "iter: 290 test_err: 0.3690480817690614 test_acc: 0.8317 train_err: 0.3834117829406113 train_acc: 0.846\n",
            "iter: 299 test_err: 0.37002385905552987 test_acc: 0.8306 train_err: 0.3820341609840347 train_acc: 0.8393333333333334\n"
          ],
          "name": "stdout"
        }
      ]
    },
    {
      "cell_type": "code",
      "metadata": {
        "colab": {
          "base_uri": "https://localhost:8080/",
          "height": 314
        },
        "id": "dpHT8_Ajh6BN",
        "outputId": "9498cc58-253b-484c-b6d6-e7885913cee0"
      },
      "source": [
        "ix=np.random.randint(len(x_test))\n",
        "imshow(x_test[ix])"
      ],
      "execution_count": null,
      "outputs": [
        {
          "output_type": "execute_result",
          "data": {
            "text/plain": [
              "<matplotlib.image.AxesImage at 0x7feaf244e5f8>"
            ]
          },
          "metadata": {
            "tags": []
          },
          "execution_count": 51
        },
        {
          "output_type": "display_data",
          "data": {
            "image/png": "[encoded data removed]",
            "text/plain": [
              "<Figure size 432x288 with 1 Axes>"
            ]
          },
          "metadata": {
            "tags": [],
            "needs_background": "light"
          }
        }
      ]
    },
    {
      "cell_type": "code",
      "metadata": {
        "colab": {
          "base_uri": "https://localhost:8080/"
        },
        "id": "-jYBK_gHh80z",
        "outputId": "6b74eba3-076d-402f-cfb3-3db1d105d646"
      },
      "source": [
        "inpt=x_test[ix].reshape(28*28)/255\n",
        "pred=np.dot(relu(np.dot(inpt,W01)),W12)\n",
        "print(np.argmax(pred))"
      ],
      "execution_count": null,
      "outputs": [
        {
          "output_type": "stream",
          "text": [
            "2\n"
          ],
          "name": "stdout"
        }
      ]
    },
    {
      "cell_type": "markdown",
      "metadata": {
        "id": "vmykNPD5W6Bc"
      },
      "source": [
        "**Улучшаем пакетного градинетного спуска**\n"
      ]
    },
    {
      "cell_type": "code",
      "metadata": {
        "id": "aBrTnvP1Y6s2"
      },
      "source": [
        "def tanh(x):\n",
        "  return np.tanh(x)\n",
        "def div_tanh(x):\n",
        "  return 1-(x**2)\n",
        "def softmax(x):\n",
        "  temp=np.exp(x)\n",
        "  return temp/np.sum(temp,axis=1,keepdims=True)"
      ],
      "execution_count": 4,
      "outputs": []
    },
    {
      "cell_type": "code",
      "metadata": {
        "colab": {
          "base_uri": "https://localhost:8080/"
        },
        "id": "ptrtwhoZW5TT",
        "outputId": "c1726f29-d851-4cc4-f55e-1b7f1dc9375e"
      },
      "source": [
        "\n",
        "batch_size=75\n",
        "learning_rate, niter= (2,251)\n",
        "hidden_size, pix_per_img, num_labels = (100,784,10)\n",
        "\n",
        "W01=0.02*np.random.random((pix_per_img,hidden_size)) - 0.01\n",
        "W12=0.2*np.random.random((hidden_size,num_labels)) - 0.1\n",
        "\n",
        "for j in range(niter):\n",
        "  correct_cnt=0\n",
        "  for i in range((len(images/batch_size))//batch_size):\n",
        "    batch_start,batch_end=(i*batch_size,(i+1)*batch_size)\n",
        "    l0=images[batch_start:batch_end]\n",
        "    l1=tanh(np.dot(l0,W01))\n",
        "    drop_out_mask=np.random.randint(2,size=l1.shape) #распределение бернули: выключеаем 50% нейронов\n",
        "    l1*=drop_out_mask*2\n",
        "    l2=softmax(np.dot(l1,W12))\n",
        "    \n",
        "    for k in range(batch_size):\n",
        "      correct_cnt+=int(np.argmax(l2[k:k+1])==np.argmax(labels[batch_start+k:batch_start+k+1]))\n",
        "\n",
        "    delta_l2=(labels[batch_start:batch_end]-l2)/(batch_size*l2.shape[0])\n",
        "    delta_l1=delta_l2.dot(W12.T)*div_tanh(l1)\n",
        "    delta_l1*=drop_out_mask\n",
        "\n",
        "    W12+=learning_rate*l1.T.dot(delta_l2)\n",
        "    W01+=learning_rate*l0.T.dot(delta_l1)\n",
        "\n",
        "\n",
        "  if (j%10==0 or j==niter-1):\n",
        "    test_correct_cnt=0\n",
        "    for i in range(len(test_images)):\n",
        "      l0=test_images[i:i+1]\n",
        "      l1=tanh(np.dot(l0,W01))\n",
        "      l2=np.dot(l1,W12)\n",
        "      test_correct_cnt+=int(np.argmax(test_labels[i:i+1])==np.argmax(l2))\n",
        "    print('iter: {} test_acc: {} train_acc: {}'.format(j,test_correct_cnt/float(len(test_images)),correct_cnt/float(len(labels))   ))    "
      ],
      "execution_count": null,
      "outputs": [
        {
          "output_type": "stream",
          "text": [
            "iter: 0 test_acc: 0.6586 train_acc: 0.33866666666666667\n",
            "iter: 10 test_acc: 0.7489 train_acc: 0.7486666666666667\n",
            "iter: 20 test_acc: 0.8225 train_acc: 0.826\n",
            "iter: 30 test_acc: 0.8446 train_acc: 0.866\n",
            "iter: 40 test_acc: 0.8574 train_acc: 0.8793333333333333\n",
            "iter: 50 test_acc: 0.8646 train_acc: 0.888\n",
            "iter: 60 test_acc: 0.8705 train_acc: 0.9046666666666666\n",
            "iter: 70 test_acc: 0.8741 train_acc: 0.9066666666666666\n",
            "iter: 80 test_acc: 0.8755 train_acc: 0.9113333333333333\n",
            "iter: 90 test_acc: 0.8785 train_acc: 0.9186666666666666\n",
            "iter: 100 test_acc: 0.8807 train_acc: 0.9166666666666666\n",
            "iter: 110 test_acc: 0.8803 train_acc: 0.9186666666666666\n",
            "iter: 120 test_acc: 0.8828 train_acc: 0.9186666666666666\n",
            "iter: 130 test_acc: 0.884 train_acc: 0.924\n",
            "iter: 140 test_acc: 0.8856 train_acc: 0.922\n",
            "iter: 150 test_acc: 0.887 train_acc: 0.932\n",
            "iter: 160 test_acc: 0.8896 train_acc: 0.926\n",
            "iter: 170 test_acc: 0.8882 train_acc: 0.9226666666666666\n",
            "iter: 180 test_acc: 0.8899 train_acc: 0.9286666666666666\n",
            "iter: 190 test_acc: 0.8928 train_acc: 0.9326666666666666\n",
            "iter: 200 test_acc: 0.8914 train_acc: 0.9286666666666666\n",
            "iter: 210 test_acc: 0.8931 train_acc: 0.936\n",
            "iter: 220 test_acc: 0.8941 train_acc: 0.936\n",
            "iter: 230 test_acc: 0.893 train_acc: 0.93\n",
            "iter: 240 test_acc: 0.8934 train_acc: 0.928\n",
            "iter: 250 test_acc: 0.8947 train_acc: 0.9206666666666666\n"
          ],
          "name": "stdout"
        }
      ]
    },
    {
      "cell_type": "code",
      "metadata": {
        "id": "P0xUtEoqrLr1"
      },
      "source": [
        "def pred_nn(ix,w1,w2):\n",
        "  imshow(x_test[ix])\n",
        "  plt.show()\n",
        "  inpt=x_test[ix].reshape(28*28)/255\n",
        "  pred=(np.dot(tanh(np.dot(inpt,w1)),w2))\n",
        "  return(np.argmax(pred))"
      ],
      "execution_count": null,
      "outputs": []
    },
    {
      "cell_type": "code",
      "metadata": {
        "colab": {
          "base_uri": "https://localhost:8080/"
        },
        "id": "o-gr7eTUr0dJ",
        "outputId": "44bc029d-aa99-46c6-81f4-1dd8cda82aca"
      },
      "source": [
        "ix=np.random.randint(len(x_test))\n",
        "print(\"Neural Network thinks this is:\" ,pred_nn(ix,W01,W12))"
      ],
      "execution_count": null,
      "outputs": [
        {
          "output_type": "display_data",
          "data": {
            "image/png": "[encoded data removed]",
            "text/plain": [
              "<Figure size 432x288 with 1 Axes>"
            ]
          },
          "metadata": {
            "tags": [],
            "needs_background": "light"
          }
        },
        {
          "output_type": "stream",
          "text": [
            "Neural Network thinks this is: 6\n"
          ],
          "name": "stdout"
        }
      ]
    },
    {
      "cell_type": "markdown",
      "metadata": {
        "id": "EyekSDqfTFbk"
      },
      "source": [
        "**Сверточный слой**"
      ]
    },
    {
      "cell_type": "code",
      "metadata": {
        "id": "0jxjgiQctxru"
      },
      "source": [
        "def get_image_section(layer,row_from,row_to,col_from,col_to):\r\n",
        "  sub_section=layer[:,row_from:row_to,col_from:col_to]\r\n",
        "  return sub_section.reshape(-1,1,row_to-row_from,col_to-col_from)\r\n",
        "batch_size=128\r\n",
        "learning_rate, niter= (2,300)\r\n",
        "pix_per_img, num_labels = (784,10)\r\n",
        "niter=300\r\n",
        "\r\n",
        "input_rows=28\r\n",
        "input_cols=28\r\n",
        "kernel_rows=3\r\n",
        "kernel_cols=3\r\n",
        "num_kernels=16\r\n",
        "hidden_size=(input_rows-kernel_rows)*(input_cols-kernel_cols)*num_kernels\r\n",
        "kernels=0.02*np.random.random((kernel_rows*kernel_cols,num_kernels))-0.1\r\n",
        "W12=0.2*np.random.random((hidden_size,num_labels)) - 0.1\r\n",
        "for j in range(niter):\r\n",
        "  correct_cnt=0\r\n",
        "  for i in range(int(len(images)/batch_size)):\r\n",
        "    batch_start, batch_end = i*batch_size,(i+1)*batch_size\r\n",
        "    l0=images[batch_start:batch_end]\r\n",
        "    l0=l0.reshape(l0.shape[0],28,28)\r\n",
        "    l0.shape\r\n",
        "    sects=list()\r\n",
        "    for row_start in range(l0.shape[1]-kernel_rows):\r\n",
        "      for col_start in range(l0.shape[2]-kernel_cols):\r\n",
        "        sect=get_image_section(l0,row_start,row_start+kernel_rows,col_start,col_start+kernel_cols)\r\n",
        "        sects.append(sect)\r\n",
        "    expanded_input=np.concatenate(sects,axis=1)    \r\n",
        "    e_shape=expanded_input.shape\r\n",
        "    flattended_input=expanded_input.reshape(e_shape[0]*e_shape[1],-1)\r\n",
        "    kernel_out=flattended_input.dot(kernels)\r\n",
        "    l1=tanh(kernel_out.reshape(e_shape[0],-1))\r\n",
        "    dropout=np.random.randint(2,size=l1.shape)\r\n",
        "    l1*=dropout*2\r\n",
        "    l2=softmax(np.dot(l1,W12))\r\n",
        "    #прямое распространение кончилось\r\n",
        "    for k in range(batch_size):\r\n",
        "      label_set=labels[batch_start+k:batch_start+k+1]\r\n",
        "      _inc=int(np.argmax(l2[k:k+1])==np.argmax(label_set))\r\n",
        "      correct_cnt+=_inc\r\n",
        "    l2_delta=(labels[batch_start:batch_end]-l2)/(batch_size*l2.shape[0])\r\n",
        "    l1_delta=np.dot(l2_delta,W12.T)*div_tanh(l1)\r\n",
        "    l1_delta*=dropout\r\n",
        "\r\n",
        "\r\n",
        "    W12+=learning_rate*l1.T.dot(l2_delta)\r\n",
        "    l1d_rshp=l1_delta.reshape(kernel_out.shape)\r\n",
        "    k_update=flattended_input.T.dot(l1d_rshp)\r\n",
        "    kernels-=learning_rate*k_update\r\n",
        "\r\n",
        "\r\n",
        "  test_correct=0\r\n",
        "  for i in range(len(test_images)):\r\n",
        "    l0=test_images[i:i+1]\r\n",
        "    l0=l0.reshape(l0.shape[0],28,28)\r\n",
        "    l0.shape\r\n",
        "    sects=list()\r\n",
        "    for row_start in range(l0.shape[1]-kernel_rows):\r\n",
        "      for col_start in range(l0.shape[2]-kernel_cols):\r\n",
        "        sect=get_image_section(l0,row_start,row_start+kernel_rows,col_start,col_start+kernel_cols)\r\n",
        "        sects.append(sect)\r\n",
        "    expended_in=np.concatenate(sects,axis=1)\r\n",
        "    e_sh=expended_in.shape\r\n",
        "    flattended_input=expended_in.reshape(e_sh[0]*e_sh[1],-1)\r\n",
        "\r\n",
        "    kernel_out=flattended_input.dot(kernels)\r\n",
        "    l1=tanh(kernel_out.reshape(e_sh[0],-1))\r\n",
        "    l2=np.dot(l1,W12)\r\n",
        "\r\n",
        "    test_correct+=int(np.argmax(l2)==np.argmax(test_labels[i:i+1]))\r\n",
        "  print(\"iter: {} Test-Acc: {} Train-Acc: {} \".format(j,test_correct/float(len(test_images)),correct_cnt/float(len(images))))  \r\n",
        "\r\n",
        "\r\n",
        "\r\n",
        "\r\n",
        "\r\n",
        "\r\n"
      ],
      "execution_count": null,
      "outputs": []
    }
  ]
}