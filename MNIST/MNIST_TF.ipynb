{
  "nbformat": 4,
  "nbformat_minor": 0,
  "metadata": {
    "colab": {
      "name": "MNIST_TF.ipynb",
      "provenance": [],
      "toc_visible": true,
      "authorship_tag": "ABX9TyPUm18Q5vtjOAnzdkTVatkA",
      "include_colab_link": true
    },
    "kernelspec": {
      "name": "python3",
      "display_name": "Python 3"
    },
    "accelerator": "GPU"
  },
  "cells": [
    {
      "cell_type": "markdown",
      "metadata": {
        "id": "view-in-github",
        "colab_type": "text"
      },
      "source": [
        "<a href=\"https://colab.research.google.com/github/deethereal/NN/blob/main/MNIST/MNIST_TF.ipynb\" target=\"_parent\"><img src=\"https://colab.research.google.com/assets/colab-badge.svg\" alt=\"Open In Colab\"/></a>"
      ]
    },
    {
      "cell_type": "code",
      "metadata": {
        "id": "lX2wCvd34Ic4"
      },
      "source": [
        "import tensorflow as tf, numpy as np, matplotlib.pyplot as plt\n",
        "from tensorflow import keras\n"
      ],
      "execution_count": 2,
      "outputs": []
    },
    {
      "cell_type": "code",
      "metadata": {
        "colab": {
          "base_uri": "https://localhost:8080/"
        },
        "id": "TvsoYkYi4a8B",
        "outputId": "4058c61c-da4f-4087-9ffb-8b278c79f68e"
      },
      "source": [
        "print(tf.__version__)"
      ],
      "execution_count": 3,
      "outputs": [
        {
          "output_type": "stream",
          "name": "stdout",
          "text": [
            "2.6.0\n"
          ]
        }
      ]
    },
    {
      "cell_type": "code",
      "metadata": {
        "id": "i6HnwFM344Bl"
      },
      "source": [
        "MNIST=keras.datasets.mnist\n",
        "(train_images,train_labels),(test_images,test_labels) = MNIST.load_data()\n"
      ],
      "execution_count": 4,
      "outputs": []
    },
    {
      "cell_type": "code",
      "metadata": {
        "colab": {
          "base_uri": "https://localhost:8080/"
        },
        "id": "uAlKQBUr5NbU",
        "outputId": "43cd9440-e9d3-420c-ff06-e6df1c210049"
      },
      "source": [
        "print(train_images.shape)\n",
        "print(test_images.shape)"
      ],
      "execution_count": 5,
      "outputs": [
        {
          "output_type": "stream",
          "name": "stdout",
          "text": [
            "(60000, 28, 28)\n",
            "(10000, 28, 28)\n"
          ]
        }
      ]
    },
    {
      "cell_type": "code",
      "metadata": {
        "colab": {
          "base_uri": "https://localhost:8080/",
          "height": 265
        },
        "id": "fkcSmrlj5tDd",
        "outputId": "bed1fd1e-7ea3-4ea0-8c20-1fd1839b3daf"
      },
      "source": [
        "plt.figure()\n",
        "plt.imshow(train_images[0])\n",
        "plt.colorbar()\n",
        "plt.grid(False)\n",
        "plt.show()"
      ],
      "execution_count": 6,
      "outputs": [
        {
          "output_type": "display_data",
          "data": {
            "image/png": "[encoded data removed]",
            "text/plain": [
              "<Figure size 432x288 with 2 Axes>"
            ]
          },
          "metadata": {
            "needs_background": "light"
          }
        }
      ]
    },
    {
      "cell_type": "code",
      "metadata": {
        "id": "N5MTmSTp6ChV"
      },
      "source": [
        "train_images = train_images / 255.0\n",
        "\n",
        "test_images = test_images / 255.0\n"
      ],
      "execution_count": 7,
      "outputs": []
    },
    {
      "cell_type": "code",
      "metadata": {
        "colab": {
          "base_uri": "https://localhost:8080/"
        },
        "id": "fcHDFTQzORjc",
        "outputId": "542807a3-a5e4-46b3-bfc1-3e2645bffca7"
      },
      "source": [
        "device_name = tf.test.gpu_device_name()\n",
        "if device_name != '/device:GPU:0':\n",
        "  raise SystemError('GPU device not found')\n",
        "print('Found GPU at: {}'.format(device_name))"
      ],
      "execution_count": 8,
      "outputs": [
        {
          "output_type": "stream",
          "name": "stdout",
          "text": [
            "Found GPU at: /device:GPU:0\n"
          ]
        }
      ]
    },
    {
      "cell_type": "code",
      "metadata": {
        "id": "dpTKyCDW6DGd"
      },
      "source": [
        "model=keras.Sequential([\n",
        "  keras.layers.Flatten(input_shape=(28,28)), #flatten преобразует в матрциу 28*28\n",
        "  keras.layers.Dropout(0.1),\n",
        "  keras.layers.Dense(128,activation='relu'), #Dense нейронный слой \n",
        "  keras.layers.Dropout(0.1),\n",
        "  keras.layers.Dense(10,activation='softmax')\n",
        "])\n",
        "model.compile(optimizer='adam',\n",
        "              loss='sparse_categorical_crossentropy',\n",
        "              metrics=['accuracy'])"
      ],
      "execution_count": 9,
      "outputs": []
    },
    {
      "cell_type": "code",
      "metadata": {
        "colab": {
          "base_uri": "https://localhost:8080/"
        },
        "id": "woad0z5G67hX",
        "outputId": "34f573f7-b3af-4385-8985-a62f93c9d447"
      },
      "source": [
        "model.fit(train_images,train_labels, epochs=10)"
      ],
      "execution_count": 10,
      "outputs": [
        {
          "output_type": "stream",
          "name": "stdout",
          "text": [
            "Epoch 1/10\n",
            "1875/1875 [==============================] - 6s 3ms/step - loss: 0.3014 - accuracy: 0.9117\n",
            "Epoch 2/10\n",
            "1875/1875 [==============================] - 5s 2ms/step - loss: 0.1466 - accuracy: 0.9564\n",
            "Epoch 3/10\n",
            "1875/1875 [==============================] - 4s 2ms/step - loss: 0.1100 - accuracy: 0.9665\n",
            "Epoch 4/10\n",
            "1875/1875 [==============================] - 4s 2ms/step - loss: 0.0888 - accuracy: 0.9722\n",
            "Epoch 5/10\n",
            "1875/1875 [==============================] - 4s 2ms/step - loss: 0.0764 - accuracy: 0.9755\n",
            "Epoch 6/10\n",
            "1875/1875 [==============================] - 4s 2ms/step - loss: 0.0673 - accuracy: 0.9784\n",
            "Epoch 7/10\n",
            "1875/1875 [==============================] - 5s 2ms/step - loss: 0.0581 - accuracy: 0.9816\n",
            "Epoch 8/10\n",
            "1875/1875 [==============================] - 4s 2ms/step - loss: 0.0543 - accuracy: 0.9819\n",
            "Epoch 9/10\n",
            "1875/1875 [==============================] - 4s 2ms/step - loss: 0.0494 - accuracy: 0.9839\n",
            "Epoch 10/10\n",
            "1875/1875 [==============================] - 4s 2ms/step - loss: 0.0473 - accuracy: 0.9839\n"
          ]
        },
        {
          "output_type": "execute_result",
          "data": {
            "text/plain": [
              "<keras.callbacks.History at 0x7f438ababf50>"
            ]
          },
          "metadata": {},
          "execution_count": 10
        }
      ]
    },
    {
      "cell_type": "code",
      "metadata": {
        "colab": {
          "base_uri": "https://localhost:8080/"
        },
        "id": "Pr3EVouo7ikj",
        "outputId": "6a95777c-adb0-4b49-e29e-1f9fe30c4181"
      },
      "source": [
        "test_loss, test_acc = model.evaluate(test_images,  test_labels, verbose=2)\n",
        "\n",
        "print('\\nТочность на проверочных данных:', test_acc)"
      ],
      "execution_count": 11,
      "outputs": [
        {
          "output_type": "stream",
          "name": "stdout",
          "text": [
            "313/313 - 1s - loss: 0.0682 - accuracy: 0.9789\n",
            "\n",
            "Точность на проверочных данных: 0.9789000153541565\n"
          ]
        }
      ]
    },
    {
      "cell_type": "code",
      "metadata": {
        "id": "dLjmVA3d7kEY"
      },
      "source": [
        "predictions = model.predict(test_images)"
      ],
      "execution_count": 12,
      "outputs": []
    },
    {
      "cell_type": "code",
      "metadata": {
        "id": "96MXmjShUSfB"
      },
      "source": [
        "import torch\n",
        "if torch.cuda.is_available():\n",
        "  device = torch.device(\"cuda\")"
      ],
      "execution_count": 1,
      "outputs": []
    },
    {
      "cell_type": "code",
      "metadata": {
        "colab": {
          "base_uri": "https://localhost:8080/"
        },
        "id": "w8YJOJFJPRoP",
        "outputId": "033239d1-58d6-4bdc-dce2-49dcde38bcfe"
      },
      "source": [
        "x_train  = np.expand_dims(train_images, -1)\n",
        "x_test  = np.expand_dims(test_images, -1)\n",
        "y_train = keras.utils.to_categorical(train_labels, 10)\n",
        "y_test = keras.utils.to_categorical(test_labels, 10)\n",
        "convmodel=keras.Sequential([\n",
        "    keras.Input(shape=(28, 28, 1)),\n",
        "    keras.layers.Conv2D(32, kernel_size=(3, 3), activation=\"relu\",kernel_initializer='he_normal', padding='same'),\n",
        "    keras.layers.MaxPooling2D(pool_size=(2, 2)),\n",
        "    keras.layers.Conv2D(64, kernel_size=(3, 3), activation=\"relu\",kernel_initializer='he_normal', padding='same'),\n",
        "    keras.layers.MaxPooling2D(pool_size=(2, 2)),\n",
        "    keras.layers.Flatten(),\n",
        "    keras.layers.Dense(1024, activation=\"relu\"),\n",
        "    keras.layers.Dropout(0.5),\n",
        "    keras.layers.Dense(10, activation=\"softmax\"),\n",
        "])\n",
        "call_backs =[\n",
        "    tf.keras.callbacks.EarlyStopping(patience=15, monitor='val_loss'),\n",
        "    ]\n",
        "batch_size = 100\n",
        "epochs = 50\n",
        "\n",
        "convmodel.compile(loss=\"categorical_crossentropy\", optimizer=\"adam\", metrics=[\"accuracy\"])\n",
        "\n",
        "convmodel.fit(x_train , y_train, batch_size=batch_size, epochs=epochs, validation_split=0.15,callbacks=call_backs)"
      ],
      "execution_count": 24,
      "outputs": [
        {
          "output_type": "stream",
          "name": "stdout",
          "text": [
            "Epoch 1/50\n",
            "510/510 [==============================] - 6s 11ms/step - loss: 0.1698 - accuracy: 0.9496 - val_loss: 0.0550 - val_accuracy: 0.9842\n",
            "Epoch 2/50\n",
            "510/510 [==============================] - 5s 10ms/step - loss: 0.0494 - accuracy: 0.9845 - val_loss: 0.0449 - val_accuracy: 0.9869\n",
            "Epoch 3/50\n",
            "510/510 [==============================] - 5s 10ms/step - loss: 0.0348 - accuracy: 0.9890 - val_loss: 0.0410 - val_accuracy: 0.9878\n",
            "Epoch 4/50\n",
            "510/510 [==============================] - 5s 10ms/step - loss: 0.0258 - accuracy: 0.9912 - val_loss: 0.0311 - val_accuracy: 0.9909\n",
            "Epoch 5/50\n",
            "510/510 [==============================] - 5s 10ms/step - loss: 0.0218 - accuracy: 0.9929 - val_loss: 0.0386 - val_accuracy: 0.9901\n",
            "Epoch 6/50\n",
            "510/510 [==============================] - 5s 10ms/step - loss: 0.0178 - accuracy: 0.9945 - val_loss: 0.0351 - val_accuracy: 0.9914\n",
            "Epoch 7/50\n",
            "510/510 [==============================] - 5s 10ms/step - loss: 0.0154 - accuracy: 0.9949 - val_loss: 0.0368 - val_accuracy: 0.9912\n",
            "Epoch 8/50\n",
            "510/510 [==============================] - 5s 10ms/step - loss: 0.0124 - accuracy: 0.9962 - val_loss: 0.0394 - val_accuracy: 0.9904\n",
            "Epoch 9/50\n",
            "510/510 [==============================] - 5s 10ms/step - loss: 0.0126 - accuracy: 0.9956 - val_loss: 0.0361 - val_accuracy: 0.9918\n",
            "Epoch 10/50\n",
            "510/510 [==============================] - 5s 10ms/step - loss: 0.0102 - accuracy: 0.9965 - val_loss: 0.0381 - val_accuracy: 0.9919\n",
            "Epoch 11/50\n",
            "510/510 [==============================] - 5s 10ms/step - loss: 0.0093 - accuracy: 0.9965 - val_loss: 0.0400 - val_accuracy: 0.9914\n",
            "Epoch 12/50\n",
            "510/510 [==============================] - 5s 10ms/step - loss: 0.0097 - accuracy: 0.9967 - val_loss: 0.0399 - val_accuracy: 0.9916\n",
            "Epoch 13/50\n",
            "510/510 [==============================] - 5s 10ms/step - loss: 0.0082 - accuracy: 0.9974 - val_loss: 0.0390 - val_accuracy: 0.9921\n",
            "Epoch 14/50\n",
            "510/510 [==============================] - 5s 10ms/step - loss: 0.0080 - accuracy: 0.9974 - val_loss: 0.0431 - val_accuracy: 0.9914\n",
            "Epoch 15/50\n",
            "510/510 [==============================] - 5s 10ms/step - loss: 0.0080 - accuracy: 0.9971 - val_loss: 0.0403 - val_accuracy: 0.9921\n",
            "Epoch 16/50\n",
            "510/510 [==============================] - 5s 10ms/step - loss: 0.0085 - accuracy: 0.9971 - val_loss: 0.0480 - val_accuracy: 0.9917\n",
            "Epoch 17/50\n",
            "510/510 [==============================] - 5s 10ms/step - loss: 0.0057 - accuracy: 0.9981 - val_loss: 0.0457 - val_accuracy: 0.9916\n",
            "Epoch 18/50\n",
            "510/510 [==============================] - 5s 10ms/step - loss: 0.0055 - accuracy: 0.9980 - val_loss: 0.0479 - val_accuracy: 0.9917\n",
            "Epoch 19/50\n",
            "510/510 [==============================] - 5s 10ms/step - loss: 0.0073 - accuracy: 0.9976 - val_loss: 0.0465 - val_accuracy: 0.9921\n"
          ]
        },
        {
          "output_type": "execute_result",
          "data": {
            "text/plain": [
              "<keras.callbacks.History at 0x7f43124598d0>"
            ]
          },
          "metadata": {},
          "execution_count": 24
        }
      ]
    },
    {
      "cell_type": "code",
      "metadata": {
        "colab": {
          "base_uri": "https://localhost:8080/"
        },
        "id": "7fDPLQz9VQRD",
        "outputId": "2c28ba0b-8edc-41b5-db04-650c777de194"
      },
      "source": [
        "score = convmodel.evaluate(x_test, y_test, verbose=0)\n",
        "print(\"Test loss convModel:\", score[0])\n",
        "print(\"Test accuracy convModel:\", score[1])"
      ],
      "execution_count": 25,
      "outputs": [
        {
          "output_type": "stream",
          "name": "stdout",
          "text": [
            "Test loss convModel: 0.03239656984806061\n",
            "Test accuracy convModel: 0.991100013256073\n"
          ]
        }
      ]
    },
    {
      "cell_type": "code",
      "metadata": {
        "colab": {
          "base_uri": "https://localhost:8080/",
          "height": 331
        },
        "id": "cHw_A6vI7mjA",
        "outputId": "f47ea82f-ccb3-475f-d3a0-49afd30d5d5f"
      },
      "source": [
        "idx=np.random.randint(10000)\n",
        "print(np.argmax(predictions[idx]))\n",
        "plt.figure()\n",
        "imshow(test_images[idx])\n"
      ],
      "execution_count": null,
      "outputs": [
        {
          "output_type": "stream",
          "text": [
            "5\n"
          ],
          "name": "stdout"
        },
        {
          "output_type": "execute_result",
          "data": {
            "text/plain": [
              "<matplotlib.image.AxesImage at 0x7f43636fa2e8>"
            ]
          },
          "metadata": {
            "tags": []
          },
          "execution_count": 78
        },
        {
          "output_type": "display_data",
          "data": {
            "image/png": "[encoded data removed]",
            "text/plain": [
              "<Figure size 432x288 with 1 Axes>"
            ]
          },
          "metadata": {
            "tags": [],
            "needs_background": "light"
          }
        }
      ]
    },
    {
      "cell_type": "code",
      "metadata": {
        "colab": {
          "base_uri": "https://localhost:8080/"
        },
        "id": "4RwAouBf8JrY",
        "outputId": "cd6ccaf7-1481-40c2-e893-86036057d483"
      },
      "source": [
        "from google.colab import drive \n",
        "import cv2\n",
        "from skimage.io import imread,imshow\n",
        "drive.mount('/content/drive')\n",
        "%cd \"/content/drive/My Drive/digits\""
      ],
      "execution_count": 29,
      "outputs": [
        {
          "output_type": "stream",
          "name": "stdout",
          "text": [
            "Mounted at /content/drive\n",
            "/content/drive/My Drive/digits\n"
          ]
        }
      ]
    },
    {
      "cell_type": "code",
      "metadata": {
        "id": "PU4JXOUE8mT0"
      },
      "source": [
        "def pred(path, model):\n",
        "  image = cv2.imread(path)\n",
        "  gray = cv2.cvtColor(image, cv2.COLOR_BGR2GRAY)/255.0\n",
        "  imshow(gray)\n",
        "  plt.show()\n",
        "  try:\n",
        "    gray = (np.expand_dims(gray,0))\n",
        "    return np.argmax(model.predict(gray))\n",
        "  except:\n",
        "    gray=np.expand_dims(gray, -1)\n",
        "    return np.argmax(model.predict(gray))\n"
      ],
      "execution_count": 33,
      "outputs": []
    },
    {
      "cell_type": "code",
      "metadata": {
        "colab": {
          "base_uri": "https://localhost:8080/",
          "height": 314
        },
        "id": "td9uDwHo-vWS",
        "outputId": "c566e1f6-765a-42bd-d398-d8085e9a0dea"
      },
      "source": [
        "ipath='seven1.png'\n",
        "\n",
        "print(\"NN thinks this is:\",pred(ipath, convmodel))"
      ],
      "execution_count": 34,
      "outputs": [
        {
          "output_type": "display_data",
          "data": {
            "image/png": "[encoded data removed]",
            "text/plain": [
              "<Figure size 432x288 with 1 Axes>"
            ]
          },
          "metadata": {
            "needs_background": "light"
          }
        },
        {
          "output_type": "stream",
          "name": "stdout",
          "text": [
            "NN thinks this is: 7\n"
          ]
        }
      ]
    },
    {
      "cell_type": "code",
      "metadata": {
        "id": "1-M1uLIzYMGZ"
      },
      "source": [
        ""
      ],
      "execution_count": null,
      "outputs": []
    }
  ]
}