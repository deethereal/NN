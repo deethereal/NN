{
  "nbformat": 4,
  "nbformat_minor": 0,
  "metadata": {
    "colab": {
      "name": "NLP",
      "provenance": [],
      "collapsed_sections": [],
      "authorship_tag": "ABX9TyOevuytis0RCUlV7j7HiMbA",
      "include_colab_link": true
    },
    "kernelspec": {
      "name": "python3",
      "display_name": "Python 3"
    }
  },
  "cells": [
    {
      "cell_type": "markdown",
      "metadata": {
        "id": "view-in-github",
        "colab_type": "text"
      },
      "source": [
        "<a href=\"https://colab.research.google.com/github/deethereal/NN/blob/main/NLP/NLP.ipynb\" target=\"_parent\"><img src=\"https://colab.research.google.com/assets/colab-badge.svg\" alt=\"Open In Colab\"/></a>"
      ]
    },
    {
      "cell_type": "code",
      "metadata": {
        "id": "uog6C8EtUARj",
        "colab": {
          "base_uri": "https://localhost:8080/"
        },
        "outputId": "62203b71-e80f-440d-d013-8b84418c2e03"
      },
      "source": [
        "import numpy as np, pandas as pd\n",
        "from google.colab import drive \n",
        "drive.mount('/content/drive')"
      ],
      "execution_count": 2,
      "outputs": [
        {
          "output_type": "stream",
          "text": [
            "Mounted at /content/drive\n"
          ],
          "name": "stdout"
        }
      ]
    },
    {
      "cell_type": "code",
      "metadata": {
        "colab": {
          "base_uri": "https://localhost:8080/"
        },
        "id": "Z0etihaAHPoS",
        "outputId": "ad5e6c85-859d-4aab-d356-7b0ee84f2f38"
      },
      "source": [
        "\r\n",
        "onehots={}\r\n",
        "onehots['cat']=np.array([1,0,0,0])\r\n",
        "onehots['the']=np.array([0,1,0,0])\r\n",
        "onehots['dog']=np.array([0,0,1,0])\r\n",
        "onehots['sat']=np.array([0,0,0,1])\r\n",
        "\r\n",
        "sentence=['the','cat','sat','sat','dog']\r\n",
        "\r\n",
        "x=onehots[sentence[0]]\r\n",
        "for i in range(1,len(sentence)):\r\n",
        "  x+=onehots[sentence[i]]\r\n",
        "print(str(x))"
      ],
      "execution_count": null,
      "outputs": [
        {
          "output_type": "stream",
          "text": [
            "[1 1 1 2]\n"
          ],
          "name": "stdout"
        }
      ]
    },
    {
      "cell_type": "code",
      "metadata": {
        "colab": {
          "base_uri": "https://localhost:8080/"
        },
        "id": "2a6rzGwlHcM1",
        "outputId": "331b6dea-adbb-44d2-fb2d-f0db5d1d5dc7"
      },
      "source": [
        "#lines=csv.DictReader(\"/content/gdrive/My Drive/IMDB.csv/\",delimiter=',')\r\n",
        "%cd \"/content/drive/My Drive/\"\r\n",
        "lines=pd.read_csv('IMDB.csv', sep=',')\r\n",
        "for line in lines:\r\n",
        "  raw_reviews, raw_labels= lines['review'], lines['sentiment']\r\n",
        "tokens=list(map(lambda x:set(x.split(\" \")),raw_reviews))\r\n",
        "vocab=set()\r\n",
        "for sent in tokens:\r\n",
        "  for word in sent:\r\n",
        "    if len(word)>0:\r\n",
        "      vocab.add(word)\r\n",
        "vocab=list(vocab)\r\n",
        "word2index={}\r\n",
        "for i, word in enumerate(vocab):\r\n",
        "  word2index[word]=i\r\n",
        "input_dataset=list()\r\n",
        "for sent in tokens:\r\n",
        "  sent_indices = list()\r\n",
        "  for word in sent:\r\n",
        "    try:\r\n",
        "      sent_indices.append(word2index[word])\r\n",
        "    except:\r\n",
        "      \"\"\r\n",
        "  input_dataset.append(list(set(sent_indices)))\r\n",
        "target_dataset=list()\r\n",
        "for label in raw_labels:\r\n",
        "  if label == 'positive':\r\n",
        "    target_dataset.append(1)\r\n",
        "  else:\r\n",
        "    target_dataset.append(0)\r\n"
      ],
      "execution_count": 34,
      "outputs": [
        {
          "output_type": "stream",
          "text": [
            "/content/drive/My Drive\n"
          ],
          "name": "stdout"
        }
      ]
    },
    {
      "cell_type": "code",
      "metadata": {
        "colab": {
          "base_uri": "https://localhost:8080/"
        },
        "id": "won3RNST9B2O",
        "outputId": "9298ac0b-e99b-4c9c-cd96-6cfc45b5c21c"
      },
      "source": [
        "print(len(input_dataset[2]),len(raw_reviews[2].split()))\r\n",
        "print(raw_reviews[2])"
      ],
      "execution_count": 49,
      "outputs": [
        {
          "output_type": "stream",
          "text": [
            "121 166\n",
            "I thought this was a wonderful way to spend time on a too hot summer weekend, sitting in the air conditioned theater and watching a light-hearted comedy. The plot is simplistic, but the dialogue is witty and the characters are likable (even the well bread suspected serial killer). While some may be disappointed when they realize this is not Match Point 2: Risk Addiction, I thought it was proof that Woody Allen is still fully in control of the style many of us have grown to love.<br /><br />This was the most I'd laughed at one of Woody's comedies in years (dare I say a decade?). While I've never been impressed with Scarlet Johanson, in this she managed to tone down her \"sexy\" image and jumped right into a average, but spirited young woman.<br /><br />This may not be the crown jewel of his career, but it was wittier than \"Devil Wears Prada\" and more interesting than \"Superman\" a great comedy to go see with friends.\n"
          ],
          "name": "stdout"
        }
      ]
    },
    {
      "cell_type": "code",
      "metadata": {
        "colab": {
          "base_uri": "https://localhost:8080/"
        },
        "id": "vsk0f6gbnn15",
        "outputId": "58f2b0ed-c471-4866-b0b3-673d90f6eaa1"
      },
      "source": [
        "S=len(input_dataset)\r\n",
        "print(S)"
      ],
      "execution_count": 22,
      "outputs": [
        {
          "output_type": "stream",
          "text": [
            "50000\n"
          ],
          "name": "stdout"
        }
      ]
    },
    {
      "cell_type": "code",
      "metadata": {
        "colab": {
          "base_uri": "https://localhost:8080/"
        },
        "id": "-brZHUzBlix5",
        "outputId": "ce579226-2b2b-4c2f-fddb-3dfe624f9b43"
      },
      "source": [
        "np.random.seed(1)\r\n",
        "def sigmoid(x):\r\n",
        "  return 1/(1+np.exp(-x))\r\n",
        "learning_rate, niter, hidden_size= 0.01, 35, 150\r\n",
        "W01=0.2*np.random.random((len(vocab),hidden_size))-0.1\r\n",
        "W12=0.2*np.random.random((hidden_size,1))-0.1\r\n",
        "correct, total = 0,0\r\n",
        "for iter in range(niter):\r\n",
        "  for i in range(len(input_dataset)-2000):\r\n",
        "    x,y=(input_dataset[i],target_dataset[i])\r\n",
        "    l1=sigmoid(np.sum(W01[x],axis=0))\r\n",
        "    l2=sigmoid(np.dot(l1,W12))\r\n",
        "  \r\n",
        "\r\n",
        "    l2_delta=l2-y\r\n",
        "    l1_delta=l2_delta.dot(W12.T)\r\n",
        "\r\n",
        "    W01[x]-=l1_delta*learning_rate\r\n",
        "    W12-=np.outer(l1,l2_delta)*learning_rate\r\n",
        "\r\n",
        "    if (np.abs(l2_delta) < 0.5):\r\n",
        "      correct+=1\r\n",
        "    total+=1\r\n",
        "    \"\"\"if (i% 10 == 9):\r\n",
        "      progress=str(i/float(len(input_dataset)-26000))\r\n",
        "      print(\"Iter: {} Progress: {}.{} TrainingAccuracy: {}\".format(iter,progress[2:4],progress[4:6],(correct/float(total))))\"\"\"\r\n",
        "correct, total = 0,0\r\n",
        "for i in range(len(input_dataset)-2000,len(input_dataset)):\r\n",
        "  x,y=(input_dataset[i],target_dataset[i])\r\n",
        "  l1=sigmoid(np.sum(W01[x],axis=0))\r\n",
        "  l2=sigmoid(np.dot(l1,W12))\r\n",
        "    \r\n",
        "  if np.abs(l2-y)<0.1:\r\n",
        "    correct+=1\r\n",
        "  total+=1\r\n",
        "print('Test Accuracy: {}%'.format(100*correct/float(total)))\r\n",
        "\r\n",
        "\r\n",
        "\r\n",
        "\r\n",
        "\r\n",
        "\r\n",
        "\r\n",
        "\r\n",
        "\r\n",
        "\r\n"
      ],
      "execution_count": 93,
      "outputs": [
        {
          "output_type": "stream",
          "text": [
            "Test Accuracy: 82.5%\n"
          ],
          "name": "stdout"
        }
      ]
    },
    {
      "cell_type": "code",
      "metadata": {
        "id": "-igFvvjBGW6k"
      },
      "source": [
        "def nn(x):\r\n",
        "  l1=sigmoid(np.sum(W01[x],axis=0))\r\n",
        "  l2=sigmoid(np.dot(l1,W12))\r\n",
        "  print(l2)\r\n",
        "  print(\"The nature of review is\", end=\" \")\r\n",
        "  print(\"positive\") if l2>0.5 else print(\"negative\")\r\n",
        "def proccecing(x):\r\n",
        "  x=list(set(x.split(\" \")))\r\n",
        "  sent_indices = list()\r\n",
        "  for word in x:\r\n",
        "    try:\r\n",
        "      sent_indices.append(word2index[word])\r\n",
        "    except:\r\n",
        "      \"\"\r\n",
        "  return list(set(sent_indices))\r\n",
        "\r\n"
      ],
      "execution_count": 94,
      "outputs": []
    },
    {
      "cell_type": "code",
      "metadata": {
        "colab": {
          "base_uri": "https://localhost:8080/"
        },
        "id": "dkLi-alTIQu_",
        "outputId": "83ec2bb9-b7cd-40b2-b4ab-87ee93cdb174"
      },
      "source": [
        "mr1=\"The film is very boring, I kept waiting for it to end, give me my money back !\"\r\n",
        "nn(proccecing(mr1))\r\n",
        "mr2=\"I really liked this film, almost everything is great in it: the acting, the plot and the special effects !\"\r\n",
        "nn(proccecing(mr2))\r\n",
        "\r\n"
      ],
      "execution_count": 95,
      "outputs": [
        {
          "output_type": "stream",
          "text": [
            "[0.00032897]\n",
            "The nature of review is negative\n",
            "[0.99998366]\n",
            "The nature of review is positive\n"
          ],
          "name": "stdout"
        }
      ]
    },
    {
      "cell_type": "markdown",
      "metadata": {
        "id": "9OYRJ7cISbpE"
      },
      "source": [
        "***Эта архитектура ищет прямую корреляцию между входом и выходом***  \r\n",
        "Поэтому получается так:"
      ]
    },
    {
      "cell_type": "code",
      "metadata": {
        "colab": {
          "base_uri": "https://localhost:8080/"
        },
        "id": "isSmGlNGSbDP",
        "outputId": "7b23670f-03ba-4dce-e4e7-be663e868c5b"
      },
      "source": [
        "test1='good film not bad'\r\n",
        "test2='bad film not good'\r\n",
        "nn(proccecing(test1))\r\n",
        "nn(proccecing(test2))"
      ],
      "execution_count": 96,
      "outputs": [
        {
          "output_type": "stream",
          "text": [
            "[3.11175849e-05]\n",
            "The nature of review is negative\n",
            "[3.11175849e-05]\n", 
            "The nature of review is negative\n"
          ],
          "name": "stdout"
        }
      ]
    }
  ]
}
